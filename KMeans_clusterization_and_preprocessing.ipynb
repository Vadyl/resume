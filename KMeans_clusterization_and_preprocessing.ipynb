{
 "cells": [
  {
   "cell_type": "code",
   "execution_count": 1,
   "id": "465d1b3a",
   "metadata": {},
   "outputs": [],
   "source": [
    "import pandas   as pd\n",
    "import numpy as np\n",
    "%matplotlib inline\n",
    "import matplotlib.pyplot as plt\n",
    "import seaborn as sns\n",
    "\n",
    "import ast\n"
   ]
  },
  {
   "cell_type": "code",
   "execution_count": null,
   "id": "b3d52583",
   "metadata": {},
   "outputs": [],
   "source": [
    "# KMeans clusterization and preprocessing"
   ]
  },
  {
   "cell_type": "code",
   "execution_count": 2,
   "id": "ff4707b2",
   "metadata": {},
   "outputs": [
    {
     "data": {
      "text/html": [
       "<div>\n",
       "<style scoped>\n",
       "    .dataframe tbody tr th:only-of-type {\n",
       "        vertical-align: middle;\n",
       "    }\n",
       "\n",
       "    .dataframe tbody tr th {\n",
       "        vertical-align: top;\n",
       "    }\n",
       "\n",
       "    .dataframe thead th {\n",
       "        text-align: right;\n",
       "    }\n",
       "</style>\n",
       "<table border=\"1\" class=\"dataframe\">\n",
       "  <thead>\n",
       "    <tr style=\"text-align: right;\">\n",
       "      <th></th>\n",
       "      <th>adult</th>\n",
       "      <th>belongs_to_collection</th>\n",
       "      <th>budget</th>\n",
       "      <th>genres</th>\n",
       "      <th>homepage</th>\n",
       "      <th>id</th>\n",
       "      <th>imdb_id</th>\n",
       "      <th>original_language</th>\n",
       "      <th>original_title</th>\n",
       "      <th>overview</th>\n",
       "      <th>...</th>\n",
       "      <th>release_date</th>\n",
       "      <th>revenue</th>\n",
       "      <th>runtime</th>\n",
       "      <th>spoken_languages</th>\n",
       "      <th>status</th>\n",
       "      <th>tagline</th>\n",
       "      <th>title</th>\n",
       "      <th>video</th>\n",
       "      <th>vote_average</th>\n",
       "      <th>vote_count</th>\n",
       "    </tr>\n",
       "  </thead>\n",
       "  <tbody>\n",
       "    <tr>\n",
       "      <th>0</th>\n",
       "      <td>False</td>\n",
       "      <td>{'id': 10194, 'name': 'Toy Story Collection', ...</td>\n",
       "      <td>30000000</td>\n",
       "      <td>[{'id': 16, 'name': 'Animation'}, {'id': 35, '...</td>\n",
       "      <td>http://toystory.disney.com/toy-story</td>\n",
       "      <td>862</td>\n",
       "      <td>tt0114709</td>\n",
       "      <td>en</td>\n",
       "      <td>Toy Story</td>\n",
       "      <td>Led by Woody, Andy's toys live happily in his ...</td>\n",
       "      <td>...</td>\n",
       "      <td>1995-10-30</td>\n",
       "      <td>373554033.0</td>\n",
       "      <td>81.0</td>\n",
       "      <td>[{'iso_639_1': 'en', 'name': 'English'}]</td>\n",
       "      <td>Released</td>\n",
       "      <td>NaN</td>\n",
       "      <td>Toy Story</td>\n",
       "      <td>False</td>\n",
       "      <td>7.7</td>\n",
       "      <td>5415.0</td>\n",
       "    </tr>\n",
       "    <tr>\n",
       "      <th>1</th>\n",
       "      <td>False</td>\n",
       "      <td>NaN</td>\n",
       "      <td>65000000</td>\n",
       "      <td>[{'id': 12, 'name': 'Adventure'}, {'id': 14, '...</td>\n",
       "      <td>NaN</td>\n",
       "      <td>8844</td>\n",
       "      <td>tt0113497</td>\n",
       "      <td>en</td>\n",
       "      <td>Jumanji</td>\n",
       "      <td>When siblings Judy and Peter discover an encha...</td>\n",
       "      <td>...</td>\n",
       "      <td>1995-12-15</td>\n",
       "      <td>262797249.0</td>\n",
       "      <td>104.0</td>\n",
       "      <td>[{'iso_639_1': 'en', 'name': 'English'}, {'iso...</td>\n",
       "      <td>Released</td>\n",
       "      <td>Roll the dice and unleash the excitement!</td>\n",
       "      <td>Jumanji</td>\n",
       "      <td>False</td>\n",
       "      <td>6.9</td>\n",
       "      <td>2413.0</td>\n",
       "    </tr>\n",
       "    <tr>\n",
       "      <th>2</th>\n",
       "      <td>False</td>\n",
       "      <td>{'id': 119050, 'name': 'Grumpy Old Men Collect...</td>\n",
       "      <td>0</td>\n",
       "      <td>[{'id': 10749, 'name': 'Romance'}, {'id': 35, ...</td>\n",
       "      <td>NaN</td>\n",
       "      <td>15602</td>\n",
       "      <td>tt0113228</td>\n",
       "      <td>en</td>\n",
       "      <td>Grumpier Old Men</td>\n",
       "      <td>A family wedding reignites the ancient feud be...</td>\n",
       "      <td>...</td>\n",
       "      <td>1995-12-22</td>\n",
       "      <td>0.0</td>\n",
       "      <td>101.0</td>\n",
       "      <td>[{'iso_639_1': 'en', 'name': 'English'}]</td>\n",
       "      <td>Released</td>\n",
       "      <td>Still Yelling. Still Fighting. Still Ready for...</td>\n",
       "      <td>Grumpier Old Men</td>\n",
       "      <td>False</td>\n",
       "      <td>6.5</td>\n",
       "      <td>92.0</td>\n",
       "    </tr>\n",
       "    <tr>\n",
       "      <th>3</th>\n",
       "      <td>False</td>\n",
       "      <td>NaN</td>\n",
       "      <td>16000000</td>\n",
       "      <td>[{'id': 35, 'name': 'Comedy'}, {'id': 18, 'nam...</td>\n",
       "      <td>NaN</td>\n",
       "      <td>31357</td>\n",
       "      <td>tt0114885</td>\n",
       "      <td>en</td>\n",
       "      <td>Waiting to Exhale</td>\n",
       "      <td>Cheated on, mistreated and stepped on, the wom...</td>\n",
       "      <td>...</td>\n",
       "      <td>1995-12-22</td>\n",
       "      <td>81452156.0</td>\n",
       "      <td>127.0</td>\n",
       "      <td>[{'iso_639_1': 'en', 'name': 'English'}]</td>\n",
       "      <td>Released</td>\n",
       "      <td>Friends are the people who let you be yourself...</td>\n",
       "      <td>Waiting to Exhale</td>\n",
       "      <td>False</td>\n",
       "      <td>6.1</td>\n",
       "      <td>34.0</td>\n",
       "    </tr>\n",
       "    <tr>\n",
       "      <th>4</th>\n",
       "      <td>False</td>\n",
       "      <td>{'id': 96871, 'name': 'Father of the Bride Col...</td>\n",
       "      <td>0</td>\n",
       "      <td>[{'id': 35, 'name': 'Comedy'}]</td>\n",
       "      <td>NaN</td>\n",
       "      <td>11862</td>\n",
       "      <td>tt0113041</td>\n",
       "      <td>en</td>\n",
       "      <td>Father of the Bride Part II</td>\n",
       "      <td>Just when George Banks has recovered from his ...</td>\n",
       "      <td>...</td>\n",
       "      <td>1995-02-10</td>\n",
       "      <td>76578911.0</td>\n",
       "      <td>106.0</td>\n",
       "      <td>[{'iso_639_1': 'en', 'name': 'English'}]</td>\n",
       "      <td>Released</td>\n",
       "      <td>Just When His World Is Back To Normal... He's ...</td>\n",
       "      <td>Father of the Bride Part II</td>\n",
       "      <td>False</td>\n",
       "      <td>5.7</td>\n",
       "      <td>173.0</td>\n",
       "    </tr>\n",
       "    <tr>\n",
       "      <th>...</th>\n",
       "      <td>...</td>\n",
       "      <td>...</td>\n",
       "      <td>...</td>\n",
       "      <td>...</td>\n",
       "      <td>...</td>\n",
       "      <td>...</td>\n",
       "      <td>...</td>\n",
       "      <td>...</td>\n",
       "      <td>...</td>\n",
       "      <td>...</td>\n",
       "      <td>...</td>\n",
       "      <td>...</td>\n",
       "      <td>...</td>\n",
       "      <td>...</td>\n",
       "      <td>...</td>\n",
       "      <td>...</td>\n",
       "      <td>...</td>\n",
       "      <td>...</td>\n",
       "      <td>...</td>\n",
       "      <td>...</td>\n",
       "      <td>...</td>\n",
       "    </tr>\n",
       "    <tr>\n",
       "      <th>45461</th>\n",
       "      <td>False</td>\n",
       "      <td>NaN</td>\n",
       "      <td>0</td>\n",
       "      <td>[{'id': 18, 'name': 'Drama'}, {'id': 10751, 'n...</td>\n",
       "      <td>http://www.imdb.com/title/tt6209470/</td>\n",
       "      <td>439050</td>\n",
       "      <td>tt6209470</td>\n",
       "      <td>fa</td>\n",
       "      <td>رگ خواب</td>\n",
       "      <td>Rising and falling between a man and woman.</td>\n",
       "      <td>...</td>\n",
       "      <td>NaN</td>\n",
       "      <td>0.0</td>\n",
       "      <td>90.0</td>\n",
       "      <td>[{'iso_639_1': 'fa', 'name': 'فارسی'}]</td>\n",
       "      <td>Released</td>\n",
       "      <td>Rising and falling between a man and woman</td>\n",
       "      <td>Subdue</td>\n",
       "      <td>False</td>\n",
       "      <td>4.0</td>\n",
       "      <td>1.0</td>\n",
       "    </tr>\n",
       "    <tr>\n",
       "      <th>45462</th>\n",
       "      <td>False</td>\n",
       "      <td>NaN</td>\n",
       "      <td>0</td>\n",
       "      <td>[{'id': 18, 'name': 'Drama'}]</td>\n",
       "      <td>NaN</td>\n",
       "      <td>111109</td>\n",
       "      <td>tt2028550</td>\n",
       "      <td>tl</td>\n",
       "      <td>Siglo ng Pagluluwal</td>\n",
       "      <td>An artist struggles to finish his work while a...</td>\n",
       "      <td>...</td>\n",
       "      <td>2011-11-17</td>\n",
       "      <td>0.0</td>\n",
       "      <td>360.0</td>\n",
       "      <td>[{'iso_639_1': 'tl', 'name': ''}]</td>\n",
       "      <td>Released</td>\n",
       "      <td>NaN</td>\n",
       "      <td>Century of Birthing</td>\n",
       "      <td>False</td>\n",
       "      <td>9.0</td>\n",
       "      <td>3.0</td>\n",
       "    </tr>\n",
       "    <tr>\n",
       "      <th>45463</th>\n",
       "      <td>False</td>\n",
       "      <td>NaN</td>\n",
       "      <td>0</td>\n",
       "      <td>[{'id': 28, 'name': 'Action'}, {'id': 18, 'nam...</td>\n",
       "      <td>NaN</td>\n",
       "      <td>67758</td>\n",
       "      <td>tt0303758</td>\n",
       "      <td>en</td>\n",
       "      <td>Betrayal</td>\n",
       "      <td>When one of her hits goes wrong, a professiona...</td>\n",
       "      <td>...</td>\n",
       "      <td>2003-08-01</td>\n",
       "      <td>0.0</td>\n",
       "      <td>90.0</td>\n",
       "      <td>[{'iso_639_1': 'en', 'name': 'English'}]</td>\n",
       "      <td>Released</td>\n",
       "      <td>A deadly game of wits.</td>\n",
       "      <td>Betrayal</td>\n",
       "      <td>False</td>\n",
       "      <td>3.8</td>\n",
       "      <td>6.0</td>\n",
       "    </tr>\n",
       "    <tr>\n",
       "      <th>45464</th>\n",
       "      <td>False</td>\n",
       "      <td>NaN</td>\n",
       "      <td>0</td>\n",
       "      <td>[]</td>\n",
       "      <td>NaN</td>\n",
       "      <td>227506</td>\n",
       "      <td>tt0008536</td>\n",
       "      <td>en</td>\n",
       "      <td>Satana likuyushchiy</td>\n",
       "      <td>In a small town live two brothers, one a minis...</td>\n",
       "      <td>...</td>\n",
       "      <td>1917-10-21</td>\n",
       "      <td>0.0</td>\n",
       "      <td>87.0</td>\n",
       "      <td>[]</td>\n",
       "      <td>Released</td>\n",
       "      <td>NaN</td>\n",
       "      <td>Satan Triumphant</td>\n",
       "      <td>False</td>\n",
       "      <td>0.0</td>\n",
       "      <td>0.0</td>\n",
       "    </tr>\n",
       "    <tr>\n",
       "      <th>45465</th>\n",
       "      <td>False</td>\n",
       "      <td>NaN</td>\n",
       "      <td>0</td>\n",
       "      <td>[]</td>\n",
       "      <td>NaN</td>\n",
       "      <td>461257</td>\n",
       "      <td>tt6980792</td>\n",
       "      <td>en</td>\n",
       "      <td>Queerama</td>\n",
       "      <td>50 years after decriminalisation of homosexual...</td>\n",
       "      <td>...</td>\n",
       "      <td>2017-06-09</td>\n",
       "      <td>0.0</td>\n",
       "      <td>75.0</td>\n",
       "      <td>[{'iso_639_1': 'en', 'name': 'English'}]</td>\n",
       "      <td>Released</td>\n",
       "      <td>NaN</td>\n",
       "      <td>Queerama</td>\n",
       "      <td>False</td>\n",
       "      <td>0.0</td>\n",
       "      <td>0.0</td>\n",
       "    </tr>\n",
       "  </tbody>\n",
       "</table>\n",
       "<p>45466 rows × 24 columns</p>\n",
       "</div>"
      ],
      "text/plain": [
       "       adult                              belongs_to_collection    budget  \\\n",
       "0      False  {'id': 10194, 'name': 'Toy Story Collection', ...  30000000   \n",
       "1      False                                                NaN  65000000   \n",
       "2      False  {'id': 119050, 'name': 'Grumpy Old Men Collect...         0   \n",
       "3      False                                                NaN  16000000   \n",
       "4      False  {'id': 96871, 'name': 'Father of the Bride Col...         0   \n",
       "...      ...                                                ...       ...   \n",
       "45461  False                                                NaN         0   \n",
       "45462  False                                                NaN         0   \n",
       "45463  False                                                NaN         0   \n",
       "45464  False                                                NaN         0   \n",
       "45465  False                                                NaN         0   \n",
       "\n",
       "                                                  genres  \\\n",
       "0      [{'id': 16, 'name': 'Animation'}, {'id': 35, '...   \n",
       "1      [{'id': 12, 'name': 'Adventure'}, {'id': 14, '...   \n",
       "2      [{'id': 10749, 'name': 'Romance'}, {'id': 35, ...   \n",
       "3      [{'id': 35, 'name': 'Comedy'}, {'id': 18, 'nam...   \n",
       "4                         [{'id': 35, 'name': 'Comedy'}]   \n",
       "...                                                  ...   \n",
       "45461  [{'id': 18, 'name': 'Drama'}, {'id': 10751, 'n...   \n",
       "45462                      [{'id': 18, 'name': 'Drama'}]   \n",
       "45463  [{'id': 28, 'name': 'Action'}, {'id': 18, 'nam...   \n",
       "45464                                                 []   \n",
       "45465                                                 []   \n",
       "\n",
       "                                   homepage      id    imdb_id  \\\n",
       "0      http://toystory.disney.com/toy-story     862  tt0114709   \n",
       "1                                       NaN    8844  tt0113497   \n",
       "2                                       NaN   15602  tt0113228   \n",
       "3                                       NaN   31357  tt0114885   \n",
       "4                                       NaN   11862  tt0113041   \n",
       "...                                     ...     ...        ...   \n",
       "45461  http://www.imdb.com/title/tt6209470/  439050  tt6209470   \n",
       "45462                                   NaN  111109  tt2028550   \n",
       "45463                                   NaN   67758  tt0303758   \n",
       "45464                                   NaN  227506  tt0008536   \n",
       "45465                                   NaN  461257  tt6980792   \n",
       "\n",
       "      original_language               original_title  \\\n",
       "0                    en                    Toy Story   \n",
       "1                    en                      Jumanji   \n",
       "2                    en             Grumpier Old Men   \n",
       "3                    en            Waiting to Exhale   \n",
       "4                    en  Father of the Bride Part II   \n",
       "...                 ...                          ...   \n",
       "45461                fa                      رگ خواب   \n",
       "45462                tl          Siglo ng Pagluluwal   \n",
       "45463                en                     Betrayal   \n",
       "45464                en          Satana likuyushchiy   \n",
       "45465                en                     Queerama   \n",
       "\n",
       "                                                overview  ... release_date  \\\n",
       "0      Led by Woody, Andy's toys live happily in his ...  ...   1995-10-30   \n",
       "1      When siblings Judy and Peter discover an encha...  ...   1995-12-15   \n",
       "2      A family wedding reignites the ancient feud be...  ...   1995-12-22   \n",
       "3      Cheated on, mistreated and stepped on, the wom...  ...   1995-12-22   \n",
       "4      Just when George Banks has recovered from his ...  ...   1995-02-10   \n",
       "...                                                  ...  ...          ...   \n",
       "45461        Rising and falling between a man and woman.  ...          NaN   \n",
       "45462  An artist struggles to finish his work while a...  ...   2011-11-17   \n",
       "45463  When one of her hits goes wrong, a professiona...  ...   2003-08-01   \n",
       "45464  In a small town live two brothers, one a minis...  ...   1917-10-21   \n",
       "45465  50 years after decriminalisation of homosexual...  ...   2017-06-09   \n",
       "\n",
       "           revenue runtime                                   spoken_languages  \\\n",
       "0      373554033.0    81.0           [{'iso_639_1': 'en', 'name': 'English'}]   \n",
       "1      262797249.0   104.0  [{'iso_639_1': 'en', 'name': 'English'}, {'iso...   \n",
       "2              0.0   101.0           [{'iso_639_1': 'en', 'name': 'English'}]   \n",
       "3       81452156.0   127.0           [{'iso_639_1': 'en', 'name': 'English'}]   \n",
       "4       76578911.0   106.0           [{'iso_639_1': 'en', 'name': 'English'}]   \n",
       "...            ...     ...                                                ...   \n",
       "45461          0.0    90.0             [{'iso_639_1': 'fa', 'name': 'فارسی'}]   \n",
       "45462          0.0   360.0                  [{'iso_639_1': 'tl', 'name': ''}]   \n",
       "45463          0.0    90.0           [{'iso_639_1': 'en', 'name': 'English'}]   \n",
       "45464          0.0    87.0                                                 []   \n",
       "45465          0.0    75.0           [{'iso_639_1': 'en', 'name': 'English'}]   \n",
       "\n",
       "         status                                            tagline  \\\n",
       "0      Released                                                NaN   \n",
       "1      Released          Roll the dice and unleash the excitement!   \n",
       "2      Released  Still Yelling. Still Fighting. Still Ready for...   \n",
       "3      Released  Friends are the people who let you be yourself...   \n",
       "4      Released  Just When His World Is Back To Normal... He's ...   \n",
       "...         ...                                                ...   \n",
       "45461  Released         Rising and falling between a man and woman   \n",
       "45462  Released                                                NaN   \n",
       "45463  Released                             A deadly game of wits.   \n",
       "45464  Released                                                NaN   \n",
       "45465  Released                                                NaN   \n",
       "\n",
       "                             title  video vote_average vote_count  \n",
       "0                        Toy Story  False          7.7     5415.0  \n",
       "1                          Jumanji  False          6.9     2413.0  \n",
       "2                 Grumpier Old Men  False          6.5       92.0  \n",
       "3                Waiting to Exhale  False          6.1       34.0  \n",
       "4      Father of the Bride Part II  False          5.7      173.0  \n",
       "...                            ...    ...          ...        ...  \n",
       "45461                       Subdue  False          4.0        1.0  \n",
       "45462          Century of Birthing  False          9.0        3.0  \n",
       "45463                     Betrayal  False          3.8        6.0  \n",
       "45464             Satan Triumphant  False          0.0        0.0  \n",
       "45465                     Queerama  False          0.0        0.0  \n",
       "\n",
       "[45466 rows x 24 columns]"
      ]
     },
     "execution_count": 2,
     "metadata": {},
     "output_type": "execute_result"
    }
   ],
   "source": [
    "movies_metadata = pd.read_csv('movies_metadata.csv' , low_memory=False)\n",
    "movies_metadata\n",
    "\n"
   ]
  },
  {
   "cell_type": "code",
   "execution_count": 3,
   "id": "c17ea485",
   "metadata": {},
   "outputs": [],
   "source": [
    "movies_metadata = movies_metadata.drop_duplicates()"
   ]
  },
  {
   "cell_type": "code",
   "execution_count": null,
   "id": "64c09fec",
   "metadata": {},
   "outputs": [],
   "source": []
  },
  {
   "cell_type": "code",
   "execution_count": 4,
   "id": "801a274b",
   "metadata": {},
   "outputs": [],
   "source": [
    "\n",
    "# It's confused row.\n",
    "# need to delete\n",
    "\n",
    "movies_metadata[movies_metadata[\"original_language\"] == \"104.0\"]\n",
    "movies_metadata = movies_metadata.drop(19730 , axis = 0)"
   ]
  },
  {
   "cell_type": "code",
   "execution_count": 5,
   "id": "e585eede",
   "metadata": {},
   "outputs": [
    {
     "data": {
      "text/plain": [
       "0                          Toy Story\n",
       "1                            Jumanji\n",
       "2                   Grumpier Old Men\n",
       "3                  Waiting to Exhale\n",
       "4        Father of the Bride Part II\n",
       "                    ...             \n",
       "45461                         Subdue\n",
       "45462            Century of Birthing\n",
       "45463                       Betrayal\n",
       "45464               Satan Triumphant\n",
       "45465                       Queerama\n",
       "Name: title, Length: 45448, dtype: object"
      ]
     },
     "execution_count": 5,
     "metadata": {},
     "output_type": "execute_result"
    }
   ],
   "source": [
    "titles = movies_metadata[\"title\"]\n",
    "titles"
   ]
  },
  {
   "cell_type": "code",
   "execution_count": 6,
   "id": "b3c03f6e",
   "metadata": {},
   "outputs": [
    {
     "data": {
      "text/plain": [
       "adult                     object\n",
       "belongs_to_collection     object\n",
       "budget                    object\n",
       "genres                    object\n",
       "homepage                  object\n",
       "id                        object\n",
       "imdb_id                   object\n",
       "original_language         object\n",
       "original_title            object\n",
       "overview                  object\n",
       "popularity                object\n",
       "poster_path               object\n",
       "production_companies      object\n",
       "production_countries      object\n",
       "release_date              object\n",
       "revenue                  float64\n",
       "runtime                  float64\n",
       "spoken_languages          object\n",
       "status                    object\n",
       "tagline                   object\n",
       "title                     object\n",
       "video                     object\n",
       "vote_average             float64\n",
       "vote_count               float64\n",
       "dtype: object"
      ]
     },
     "execution_count": 6,
     "metadata": {},
     "output_type": "execute_result"
    }
   ],
   "source": [
    "movies_metadata.dtypes"
   ]
  },
  {
   "cell_type": "code",
   "execution_count": 7,
   "id": "921794f7",
   "metadata": {},
   "outputs": [],
   "source": [
    "count_of_rows = movies_metadata.shape[0]"
   ]
  },
  {
   "cell_type": "code",
   "execution_count": 8,
   "id": "5db1d8ee",
   "metadata": {},
   "outputs": [],
   "source": [
    "def get_part_of_nan(column):\n",
    "    return movies_metadata[column].isna().sum() / count_of_rows\n",
    "    "
   ]
  },
  {
   "cell_type": "code",
   "execution_count": 9,
   "id": "8b705842",
   "metadata": {},
   "outputs": [],
   "source": [
    "movies_to_analysis = pd.DataFrame()"
   ]
  },
  {
   "cell_type": "markdown",
   "id": "657472dc",
   "metadata": {},
   "source": [
    "                                adult"
   ]
  },
  {
   "cell_type": "code",
   "execution_count": 10,
   "id": "3bb0fbdd",
   "metadata": {},
   "outputs": [
    {
     "data": {
      "text/plain": [
       "0.0"
      ]
     },
     "execution_count": 10,
     "metadata": {},
     "output_type": "execute_result"
    }
   ],
   "source": [
    "\n",
    "get_part_of_nan(\"adult\")"
   ]
  },
  {
   "cell_type": "code",
   "execution_count": 11,
   "id": "62b810c6",
   "metadata": {},
   "outputs": [],
   "source": [
    "\n",
    "movies_to_analysis[\"adult\"] = movies_metadata[\"adult\"]"
   ]
  },
  {
   "cell_type": "code",
   "execution_count": 12,
   "id": "a7d09fb0",
   "metadata": {},
   "outputs": [
    {
     "data": {
      "text/plain": [
       "False                                                                                                                             45437\n",
       "True                                                                                                                                  9\n",
       " Avalanche Sharks tells the story of a bikini contest that turns into a horrifying affair when it is hit by a shark avalanche.        1\n",
       " Rune Balot goes to a casino connected to the October corporation to try to wrap up her case once and for all.                        1\n",
       "Name: adult, dtype: int64"
      ]
     },
     "execution_count": 12,
     "metadata": {},
     "output_type": "execute_result"
    }
   ],
   "source": [
    "\n",
    "movies_to_analysis[\"adult\"].value_counts()"
   ]
  },
  {
   "cell_type": "code",
   "execution_count": 13,
   "id": "d9668dea",
   "metadata": {},
   "outputs": [],
   "source": [
    "# we have a imbalanced data\n",
    "# column not need"
   ]
  },
  {
   "cell_type": "markdown",
   "id": "dfa22d76",
   "metadata": {},
   "source": [
    "                        belongs_to_collection"
   ]
  },
  {
   "cell_type": "code",
   "execution_count": 14,
   "id": "8867d1af",
   "metadata": {},
   "outputs": [
    {
     "data": {
      "text/plain": [
       "0.9011617672944904"
      ]
     },
     "execution_count": 14,
     "metadata": {},
     "output_type": "execute_result"
    }
   ],
   "source": [
    "get_part_of_nan(\"belongs_to_collection\")"
   ]
  },
  {
   "cell_type": "code",
   "execution_count": 15,
   "id": "2a8e5b60",
   "metadata": {},
   "outputs": [
    {
     "data": {
      "text/plain": [
       "\"{'id': 10194, 'name': 'Toy Story Collection', 'poster_path': '/7G9915LfUQ2lVfwMEEhDsn3kT4B.jpg', 'backdrop_path': '/9FBwqcd9IRruEDUrTdcaafOMKUq.jpg'}\""
      ]
     },
     "execution_count": 15,
     "metadata": {},
     "output_type": "execute_result"
    }
   ],
   "source": [
    "\n",
    "movies_metadata[\"belongs_to_collection\"][0]"
   ]
  },
  {
   "cell_type": "code",
   "execution_count": 16,
   "id": "2fd0290d",
   "metadata": {},
   "outputs": [],
   "source": [
    "# We have 'poster_path' and 'backdrop_path' . \n",
    "# Theoretically, we can do an analysis based on posters, but 90% of the data is unknown. \n",
    "# Сolumn not required \n"
   ]
  },
  {
   "cell_type": "code",
   "execution_count": null,
   "id": "de0e9652",
   "metadata": {},
   "outputs": [],
   "source": []
  },
  {
   "cell_type": "markdown",
   "id": "4a3e7568",
   "metadata": {},
   "source": [
    "                                    budget                    "
   ]
  },
  {
   "cell_type": "code",
   "execution_count": 17,
   "id": "a81753fa",
   "metadata": {},
   "outputs": [
    {
     "data": {
      "text/plain": [
       "0.0"
      ]
     },
     "execution_count": 17,
     "metadata": {},
     "output_type": "execute_result"
    }
   ],
   "source": [
    "get_part_of_nan(\"budget\")"
   ]
  },
  {
   "cell_type": "code",
   "execution_count": 18,
   "id": "a8a44f8d",
   "metadata": {},
   "outputs": [
    {
     "data": {
      "text/plain": [
       "0.8043698292554128"
      ]
     },
     "execution_count": 18,
     "metadata": {},
     "output_type": "execute_result"
    }
   ],
   "source": [
    "movies_metadata[\"budget\"][movies_metadata[\"budget\"] == \"0\"].count() / count_of_rows"
   ]
  },
  {
   "cell_type": "code",
   "execution_count": 19,
   "id": "1a90b7ad",
   "metadata": {},
   "outputs": [],
   "source": [
    "# 80 % unknown \n",
    "# Сolumn not required \n"
   ]
  },
  {
   "cell_type": "code",
   "execution_count": null,
   "id": "eba82bcd",
   "metadata": {},
   "outputs": [],
   "source": []
  },
  {
   "cell_type": "markdown",
   "id": "70743c0b",
   "metadata": {},
   "source": [
    "                                        genres"
   ]
  },
  {
   "cell_type": "code",
   "execution_count": 20,
   "id": "6bb5aba8",
   "metadata": {},
   "outputs": [
    {
     "data": {
      "text/plain": [
       "0.0"
      ]
     },
     "execution_count": 20,
     "metadata": {},
     "output_type": "execute_result"
    }
   ],
   "source": [
    "get_part_of_nan(\"genres\")"
   ]
  },
  {
   "cell_type": "code",
   "execution_count": 21,
   "id": "3b60b330",
   "metadata": {},
   "outputs": [
    {
     "data": {
      "text/plain": [
       "0.053731737370181304"
      ]
     },
     "execution_count": 21,
     "metadata": {},
     "output_type": "execute_result"
    }
   ],
   "source": [
    "movies_metadata[\"genres\"][movies_metadata[\"genres\"] == \"[]\"].count() / count_of_rows"
   ]
  },
  {
   "cell_type": "code",
   "execution_count": 22,
   "id": "c2b1c046",
   "metadata": {},
   "outputs": [
    {
     "data": {
      "text/plain": [
       "0        [{'id': 16, 'name': 'Animation'}, {'id': 35, '...\n",
       "1        [{'id': 12, 'name': 'Adventure'}, {'id': 14, '...\n",
       "2        [{'id': 10749, 'name': 'Romance'}, {'id': 35, ...\n",
       "3        [{'id': 35, 'name': 'Comedy'}, {'id': 18, 'nam...\n",
       "4                           [{'id': 35, 'name': 'Comedy'}]\n",
       "                               ...                        \n",
       "45461    [{'id': 18, 'name': 'Drama'}, {'id': 10751, 'n...\n",
       "45462                        [{'id': 18, 'name': 'Drama'}]\n",
       "45463    [{'id': 28, 'name': 'Action'}, {'id': 18, 'nam...\n",
       "45464                                                   []\n",
       "45465                                                   []\n",
       "Name: genres, Length: 45448, dtype: object"
      ]
     },
     "execution_count": 22,
     "metadata": {},
     "output_type": "execute_result"
    }
   ],
   "source": [
    "movies_metadata[\"genres\"]"
   ]
  },
  {
   "cell_type": "code",
   "execution_count": 23,
   "id": "9ad6bf41",
   "metadata": {},
   "outputs": [],
   "source": [
    "dict_genres = dict()\n",
    "def get_id_genres(line):\n",
    "    line_list = ast.literal_eval(line)\n",
    "    genres_id_list = list()\n",
    "    for i in line_list:\n",
    "        genres_id_list.append(i[\"id\"])\n",
    "        dict_genres[i[\"id\"]] = i[\"name\"]\n",
    "    return genres_id_list\n",
    "\n",
    "\n",
    "    "
   ]
  },
  {
   "cell_type": "code",
   "execution_count": 24,
   "id": "bbb91871",
   "metadata": {},
   "outputs": [
    {
     "data": {
      "text/html": [
       "<div>\n",
       "<style scoped>\n",
       "    .dataframe tbody tr th:only-of-type {\n",
       "        vertical-align: middle;\n",
       "    }\n",
       "\n",
       "    .dataframe tbody tr th {\n",
       "        vertical-align: top;\n",
       "    }\n",
       "\n",
       "    .dataframe thead th {\n",
       "        text-align: right;\n",
       "    }\n",
       "</style>\n",
       "<table border=\"1\" class=\"dataframe\">\n",
       "  <thead>\n",
       "    <tr style=\"text-align: right;\">\n",
       "      <th></th>\n",
       "      <th>adult</th>\n",
       "      <th>genres</th>\n",
       "    </tr>\n",
       "  </thead>\n",
       "  <tbody>\n",
       "    <tr>\n",
       "      <th>0</th>\n",
       "      <td>False</td>\n",
       "      <td>[16, 35, 10751]</td>\n",
       "    </tr>\n",
       "    <tr>\n",
       "      <th>1</th>\n",
       "      <td>False</td>\n",
       "      <td>[12, 14, 10751]</td>\n",
       "    </tr>\n",
       "    <tr>\n",
       "      <th>2</th>\n",
       "      <td>False</td>\n",
       "      <td>[10749, 35]</td>\n",
       "    </tr>\n",
       "    <tr>\n",
       "      <th>3</th>\n",
       "      <td>False</td>\n",
       "      <td>[35, 18, 10749]</td>\n",
       "    </tr>\n",
       "    <tr>\n",
       "      <th>4</th>\n",
       "      <td>False</td>\n",
       "      <td>[35]</td>\n",
       "    </tr>\n",
       "    <tr>\n",
       "      <th>...</th>\n",
       "      <td>...</td>\n",
       "      <td>...</td>\n",
       "    </tr>\n",
       "    <tr>\n",
       "      <th>45461</th>\n",
       "      <td>False</td>\n",
       "      <td>[18, 10751]</td>\n",
       "    </tr>\n",
       "    <tr>\n",
       "      <th>45462</th>\n",
       "      <td>False</td>\n",
       "      <td>[18]</td>\n",
       "    </tr>\n",
       "    <tr>\n",
       "      <th>45463</th>\n",
       "      <td>False</td>\n",
       "      <td>[28, 18, 53]</td>\n",
       "    </tr>\n",
       "    <tr>\n",
       "      <th>45464</th>\n",
       "      <td>False</td>\n",
       "      <td>[]</td>\n",
       "    </tr>\n",
       "    <tr>\n",
       "      <th>45465</th>\n",
       "      <td>False</td>\n",
       "      <td>[]</td>\n",
       "    </tr>\n",
       "  </tbody>\n",
       "</table>\n",
       "<p>45448 rows × 2 columns</p>\n",
       "</div>"
      ],
      "text/plain": [
       "       adult           genres\n",
       "0      False  [16, 35, 10751]\n",
       "1      False  [12, 14, 10751]\n",
       "2      False      [10749, 35]\n",
       "3      False  [35, 18, 10749]\n",
       "4      False             [35]\n",
       "...      ...              ...\n",
       "45461  False      [18, 10751]\n",
       "45462  False             [18]\n",
       "45463  False     [28, 18, 53]\n",
       "45464  False               []\n",
       "45465  False               []\n",
       "\n",
       "[45448 rows x 2 columns]"
      ]
     },
     "execution_count": 24,
     "metadata": {},
     "output_type": "execute_result"
    }
   ],
   "source": [
    "movies_to_analysis[\"genres\"]= movies_metadata[\"genres\"].copy().apply( get_id_genres  )\n",
    "movies_to_analysis"
   ]
  },
  {
   "cell_type": "code",
   "execution_count": 25,
   "id": "be99b73c",
   "metadata": {},
   "outputs": [
    {
     "data": {
      "text/plain": [
       "{16: 'Animation',\n",
       " 35: 'Comedy',\n",
       " 10751: 'Family',\n",
       " 12: 'Adventure',\n",
       " 14: 'Fantasy',\n",
       " 10749: 'Romance',\n",
       " 18: 'Drama',\n",
       " 28: 'Action',\n",
       " 80: 'Crime',\n",
       " 53: 'Thriller',\n",
       " 27: 'Horror',\n",
       " 36: 'History',\n",
       " 878: 'Science Fiction',\n",
       " 9648: 'Mystery',\n",
       " 10752: 'War',\n",
       " 10769: 'Foreign',\n",
       " 10402: 'Music',\n",
       " 99: 'Documentary',\n",
       " 37: 'Western',\n",
       " 10770: 'TV Movie',\n",
       " 2883: 'Aniplex',\n",
       " 7759: 'GoHands',\n",
       " 7760: 'BROSTA TV',\n",
       " 7761: 'Mardock Scramble Production Committee',\n",
       " 33751: 'Sentai Filmworks',\n",
       " 17161: 'Odyssey Media',\n",
       " 18012: 'Pulser Productions',\n",
       " 18013: 'Rogue State',\n",
       " 23822: 'The Cartel'}"
      ]
     },
     "execution_count": 25,
     "metadata": {},
     "output_type": "execute_result"
    }
   ],
   "source": [
    "dict_genres"
   ]
  },
  {
   "cell_type": "markdown",
   "id": "bc286355",
   "metadata": {},
   "source": [
    "                            homepage"
   ]
  },
  {
   "cell_type": "code",
   "execution_count": 26,
   "id": "dc0e74c0",
   "metadata": {},
   "outputs": [
    {
     "data": {
      "text/plain": [
       "0.8288373525787713"
      ]
     },
     "execution_count": 26,
     "metadata": {},
     "output_type": "execute_result"
    }
   ],
   "source": [
    "get_part_of_nan(\"homepage\")"
   ]
  },
  {
   "cell_type": "code",
   "execution_count": 27,
   "id": "ac846bbf",
   "metadata": {},
   "outputs": [],
   "source": [
    "# 80 % unknown \n",
    "# Сolumn not required \n",
    "\n"
   ]
  },
  {
   "cell_type": "code",
   "execution_count": null,
   "id": "3a3475e7",
   "metadata": {},
   "outputs": [],
   "source": []
  },
  {
   "cell_type": "markdown",
   "id": "a69e4b9b",
   "metadata": {},
   "source": [
    "                                    original_language"
   ]
  },
  {
   "cell_type": "code",
   "execution_count": 28,
   "id": "54e332c0",
   "metadata": {},
   "outputs": [
    {
     "data": {
      "text/plain": [
       "0.0002420348530188347"
      ]
     },
     "execution_count": 28,
     "metadata": {},
     "output_type": "execute_result"
    }
   ],
   "source": [
    "get_part_of_nan(\"original_language\")"
   ]
  },
  {
   "cell_type": "code",
   "execution_count": 29,
   "id": "3880997f",
   "metadata": {},
   "outputs": [],
   "source": [
    "language_count = movies_metadata[\"original_language\"].value_counts()"
   ]
  },
  {
   "cell_type": "code",
   "execution_count": 30,
   "id": "bf2dc535",
   "metadata": {},
   "outputs": [
    {
     "data": {
      "text/plain": [
       "en      32259\n",
       "fr       2437\n",
       "it       1529\n",
       "ja       1350\n",
       "de       1079\n",
       "        ...  \n",
       "la          1\n",
       "82.0        1\n",
       "gl          1\n",
       "cy          1\n",
       "uz          1\n",
       "Name: original_language, Length: 91, dtype: int64"
      ]
     },
     "execution_count": 30,
     "metadata": {},
     "output_type": "execute_result"
    }
   ],
   "source": [
    "language_count\n",
    "\n"
   ]
  },
  {
   "cell_type": "code",
   "execution_count": 31,
   "id": "3638928b",
   "metadata": {},
   "outputs": [],
   "source": [
    "movies_to_analysis[\"original_language\"] = movies_metadata[\"original_language\"]"
   ]
  },
  {
   "cell_type": "code",
   "execution_count": 32,
   "id": "c2b744e2",
   "metadata": {},
   "outputs": [
    {
     "data": {
      "text/html": [
       "<div>\n",
       "<style scoped>\n",
       "    .dataframe tbody tr th:only-of-type {\n",
       "        vertical-align: middle;\n",
       "    }\n",
       "\n",
       "    .dataframe tbody tr th {\n",
       "        vertical-align: top;\n",
       "    }\n",
       "\n",
       "    .dataframe thead th {\n",
       "        text-align: right;\n",
       "    }\n",
       "</style>\n",
       "<table border=\"1\" class=\"dataframe\">\n",
       "  <thead>\n",
       "    <tr style=\"text-align: right;\">\n",
       "      <th></th>\n",
       "      <th>adult</th>\n",
       "      <th>genres</th>\n",
       "      <th>original_language</th>\n",
       "    </tr>\n",
       "  </thead>\n",
       "  <tbody>\n",
       "    <tr>\n",
       "      <th>0</th>\n",
       "      <td>False</td>\n",
       "      <td>[16, 35, 10751]</td>\n",
       "      <td>en</td>\n",
       "    </tr>\n",
       "    <tr>\n",
       "      <th>1</th>\n",
       "      <td>False</td>\n",
       "      <td>[12, 14, 10751]</td>\n",
       "      <td>en</td>\n",
       "    </tr>\n",
       "    <tr>\n",
       "      <th>2</th>\n",
       "      <td>False</td>\n",
       "      <td>[10749, 35]</td>\n",
       "      <td>en</td>\n",
       "    </tr>\n",
       "    <tr>\n",
       "      <th>3</th>\n",
       "      <td>False</td>\n",
       "      <td>[35, 18, 10749]</td>\n",
       "      <td>en</td>\n",
       "    </tr>\n",
       "    <tr>\n",
       "      <th>4</th>\n",
       "      <td>False</td>\n",
       "      <td>[35]</td>\n",
       "      <td>en</td>\n",
       "    </tr>\n",
       "    <tr>\n",
       "      <th>...</th>\n",
       "      <td>...</td>\n",
       "      <td>...</td>\n",
       "      <td>...</td>\n",
       "    </tr>\n",
       "    <tr>\n",
       "      <th>45461</th>\n",
       "      <td>False</td>\n",
       "      <td>[18, 10751]</td>\n",
       "      <td>fa</td>\n",
       "    </tr>\n",
       "    <tr>\n",
       "      <th>45462</th>\n",
       "      <td>False</td>\n",
       "      <td>[18]</td>\n",
       "      <td>tl</td>\n",
       "    </tr>\n",
       "    <tr>\n",
       "      <th>45463</th>\n",
       "      <td>False</td>\n",
       "      <td>[28, 18, 53]</td>\n",
       "      <td>en</td>\n",
       "    </tr>\n",
       "    <tr>\n",
       "      <th>45464</th>\n",
       "      <td>False</td>\n",
       "      <td>[]</td>\n",
       "      <td>en</td>\n",
       "    </tr>\n",
       "    <tr>\n",
       "      <th>45465</th>\n",
       "      <td>False</td>\n",
       "      <td>[]</td>\n",
       "      <td>en</td>\n",
       "    </tr>\n",
       "  </tbody>\n",
       "</table>\n",
       "<p>45448 rows × 3 columns</p>\n",
       "</div>"
      ],
      "text/plain": [
       "       adult           genres original_language\n",
       "0      False  [16, 35, 10751]                en\n",
       "1      False  [12, 14, 10751]                en\n",
       "2      False      [10749, 35]                en\n",
       "3      False  [35, 18, 10749]                en\n",
       "4      False             [35]                en\n",
       "...      ...              ...               ...\n",
       "45461  False      [18, 10751]                fa\n",
       "45462  False             [18]                tl\n",
       "45463  False     [28, 18, 53]                en\n",
       "45464  False               []                en\n",
       "45465  False               []                en\n",
       "\n",
       "[45448 rows x 3 columns]"
      ]
     },
     "execution_count": 32,
     "metadata": {},
     "output_type": "execute_result"
    }
   ],
   "source": [
    "movies_to_analysis"
   ]
  },
  {
   "cell_type": "markdown",
   "id": "422f1759",
   "metadata": {},
   "source": [
    "                                            overview"
   ]
  },
  {
   "cell_type": "code",
   "execution_count": 33,
   "id": "0fcb4dda",
   "metadata": {},
   "outputs": [
    {
     "data": {
      "text/plain": [
       "0.02099102270726985"
      ]
     },
     "execution_count": 33,
     "metadata": {},
     "output_type": "execute_result"
    }
   ],
   "source": [
    "get_part_of_nan(\"overview\")"
   ]
  },
  {
   "cell_type": "code",
   "execution_count": 34,
   "id": "22f0653c",
   "metadata": {},
   "outputs": [],
   "source": [
    "overviews = movies_metadata[\"overview\"]"
   ]
  },
  {
   "cell_type": "code",
   "execution_count": 35,
   "id": "4068fa05",
   "metadata": {},
   "outputs": [],
   "source": [
    "overviews = overviews.fillna(\"\")"
   ]
  },
  {
   "cell_type": "code",
   "execution_count": 36,
   "id": "2cf5262b",
   "metadata": {},
   "outputs": [],
   "source": [
    "overviews = overviews.str.lower()"
   ]
  },
  {
   "cell_type": "code",
   "execution_count": 37,
   "id": "36f6e092",
   "metadata": {},
   "outputs": [
    {
     "name": "stderr",
     "output_type": "stream",
     "text": [
      "<ipython-input-37-cd1363e1e691>:6: FutureWarning: The default value of regex will change from True to False in a future version. In addition, single character regular expressions will*not* be treated as literal strings when regex=True.\n",
      "  overviews = overviews.str.replace(i , \"\")\n"
     ]
    },
    {
     "data": {
      "text/plain": [
       "0        led by woody andys toys live happily in his ro...\n",
       "1        when siblings judy and peter discover an encha...\n",
       "2        a family wedding reignites the ancient feud be...\n",
       "3        cheated on mistreated and stepped on the women...\n",
       "4        just when george banks has recovered from his ...\n",
       "                               ...                        \n",
       "45461           rising and falling between a man and woman\n",
       "45462    an artist struggles to finish his work while a...\n",
       "45463    when one of her hits goes wrong a professional...\n",
       "45464    in a small town live two brothers one a minist...\n",
       "45465    50 years after decriminalisation of homosexual...\n",
       "Name: overview, Length: 45448, dtype: object"
      ]
     },
     "execution_count": 37,
     "metadata": {},
     "output_type": "execute_result"
    }
   ],
   "source": [
    "import string\n",
    "\n",
    "\n",
    "\n",
    "for i in string.punctuation:\n",
    "    overviews = overviews.str.replace(i , \"\")\n",
    "    \n",
    "\n",
    "overviews"
   ]
  },
  {
   "cell_type": "code",
   "execution_count": 38,
   "id": "c845d0e2",
   "metadata": {},
   "outputs": [],
   "source": [
    "add_punctuation = [\"–\" , \"’\" , \"”\" , \"“\"]\n",
    "for i in add_punctuation:\n",
    "    overviews = overviews.str.replace(i , \"\")"
   ]
  },
  {
   "cell_type": "code",
   "execution_count": 39,
   "id": "39be793a",
   "metadata": {},
   "outputs": [
    {
     "data": {
      "text/plain": [
       "('en', -745.9035377502441)"
      ]
     },
     "execution_count": 39,
     "metadata": {},
     "output_type": "execute_result"
    }
   ],
   "source": [
    "import langid\n",
    "langid.classify(overviews[0])"
   ]
  },
  {
   "cell_type": "code",
   "execution_count": 40,
   "id": "43018339",
   "metadata": {},
   "outputs": [],
   "source": [
    "def delete_not_eng_overviews(row):\n",
    "    if langid.classify(row)[0] != \"en\":\n",
    "        return ''\n",
    "    return row"
   ]
  },
  {
   "cell_type": "code",
   "execution_count": 41,
   "id": "708fe33d",
   "metadata": {},
   "outputs": [
    {
     "data": {
      "text/plain": [
       "0        led by woody andys toys live happily in his ro...\n",
       "1        when siblings judy and peter discover an encha...\n",
       "2        a family wedding reignites the ancient feud be...\n",
       "3        cheated on mistreated and stepped on the women...\n",
       "4        just when george banks has recovered from his ...\n",
       "                               ...                        \n",
       "45461           rising and falling between a man and woman\n",
       "45462    an artist struggles to finish his work while a...\n",
       "45463    when one of her hits goes wrong a professional...\n",
       "45464    in a small town live two brothers one a minist...\n",
       "45465    50 years after decriminalisation of homosexual...\n",
       "Name: overview, Length: 45448, dtype: object"
      ]
     },
     "execution_count": 41,
     "metadata": {},
     "output_type": "execute_result"
    }
   ],
   "source": [
    "eng_overviews = overviews.copy().apply( delete_not_eng_overviews  )\n",
    "eng_overviews"
   ]
  },
  {
   "cell_type": "code",
   "execution_count": 42,
   "id": "458e2da6",
   "metadata": {},
   "outputs": [],
   "source": [
    "from sklearn.feature_extraction.text import TfidfVectorizer\n",
    "from sklearn.cluster import KMeans"
   ]
  },
  {
   "cell_type": "code",
   "execution_count": 43,
   "id": "18f3c7d0",
   "metadata": {},
   "outputs": [],
   "source": [
    "unicode_overview = eng_overviews.values.astype('U')"
   ]
  },
  {
   "cell_type": "code",
   "execution_count": 44,
   "id": "ed3a70ec",
   "metadata": {},
   "outputs": [
    {
     "data": {
      "text/plain": [
       "array(['led by woody andys toys live happily in his room until andys birthday brings buzz lightyear onto the scene afraid of losing his place in andys heart woody plots against buzz but when circumstances separate buzz and woody from their owner the duo eventually learns to put aside their differences',\n",
       "       'when siblings judy and peter discover an enchanted board game that opens the door to a magical world they unwittingly invite alan  an adult whos been trapped inside the game for 26 years  into their living room alans only hope for freedom is to finish the game which proves risky as all three find themselves running from giant rhinoceroses evil monkeys and other terrifying creatures',\n",
       "       'a family wedding reignites the ancient feud between nextdoor neighbors and fishing buddies john and max meanwhile a sultry italian divorcée opens a restaurant at the local bait shop alarming the locals who worry shell scare the fish away but shes less interested in seafood than she is in cooking up a hot time with max',\n",
       "       ...,\n",
       "       'when one of her hits goes wrong a professional assassin ends up with a suitcase full of a million dollars belonging to a mob boss ',\n",
       "       'in a small town live two brothers one a minister and the other one a hunchback painter of the chapel who lives with his wife one dreadful and stormy night a stranger knocks at the door asking for shelter the stranger talks about all the good things of the earthly life the minister is missing because of his puritanical faith the minister comes to accept the strangers viewpoint but it is others who will pay the consequences because the minister will discover the human pleasures thanks to ehem his sister in law… the tormented minister and his cuckolded brother will die in a strange accident in the chapel and later an infant will be born from the ministers adulterous relationship',\n",
       "       '50 years after decriminalisation of homosexuality in the uk director daisy asquith mines the jewels of the bfi archive to take us into the relationships desires fears and expressions of gay men and women in the 20th century'],\n",
       "      dtype='<U984')"
      ]
     },
     "execution_count": 44,
     "metadata": {},
     "output_type": "execute_result"
    }
   ],
   "source": [
    "unicode_overview"
   ]
  },
  {
   "cell_type": "code",
   "execution_count": 45,
   "id": "cd825d10",
   "metadata": {},
   "outputs": [],
   "source": [
    "vectorizer = TfidfVectorizer(stop_words='english')\n",
    "features = vectorizer.fit_transform(unicode_overview)"
   ]
  },
  {
   "cell_type": "code",
   "execution_count": 46,
   "id": "aaa3ea35",
   "metadata": {},
   "outputs": [
    {
     "data": {
      "text/plain": [
       "[<matplotlib.lines.Line2D at 0x2b34cf4e820>]"
      ]
     },
     "execution_count": 46,
     "metadata": {},
     "output_type": "execute_result"
    },
    {
     "data": {
      "image/png": "[encoded data removed]",
      "text/plain": [
       "<Figure size 432x288 with 1 Axes>"
      ]
     },
     "metadata": {
      "needs_background": "light"
     },
     "output_type": "display_data"
    }
   ],
   "source": [
    "k = range(4,20)\n",
    "models = [KMeans(n_clusters = i, random_state = 42 , init='k-means++', max_iter=1000, n_init=1).fit(features) for i in k]\n",
    "dist = [m.inertia_ for m in models]\n",
    "\n",
    "plt.plot(k, dist)"
   ]
  },
  {
   "cell_type": "code",
   "execution_count": 47,
   "id": "d4747fa4",
   "metadata": {},
   "outputs": [],
   "source": [
    "optimal_count_clusters = 8\n",
    "optimal_KMeans_model = models[ optimal_count_clusters -k[0]]"
   ]
  },
  {
   "cell_type": "code",
   "execution_count": 48,
   "id": "6cf23280",
   "metadata": {},
   "outputs": [
    {
     "name": "stdout",
     "output_type": "stream",
     "text": [
      "Cluster 0:\n",
      " film\n",
      " documentary\n",
      " story\n",
      " directed\n",
      " director\n",
      " based\n",
      " movie\n",
      " world\n",
      " life\n",
      " feature\n",
      "------------\n",
      "Cluster 1:\n",
      " mother\n",
      " father\n",
      " son\n",
      " young\n",
      " daughter\n",
      " boy\n",
      " girl\n",
      " home\n",
      " death\n",
      " years\n",
      "------------\n",
      "Cluster 2:\n",
      " family\n",
      " home\n",
      " life\n",
      " young\n",
      " new\n",
      " man\n",
      " son\n",
      " house\n",
      " story\n",
      " father\n",
      "------------\n",
      "Cluster 3:\n",
      " love\n",
      " falls\n",
      " young\n",
      " story\n",
      " fall\n",
      " girl\n",
      " woman\n",
      " life\n",
      " meets\n",
      " man\n",
      "------------\n",
      "Cluster 4:\n",
      " life\n",
      " new\n",
      " story\n",
      " world\n",
      " young\n",
      " years\n",
      " time\n",
      " man\n",
      " day\n",
      " finds\n",
      "------------\n",
      "Cluster 5:\n",
      " new\n",
      " world\n",
      " young\n",
      " story\n",
      " group\n",
      " war\n",
      " friends\n",
      " school\n",
      " time\n",
      " years\n",
      "------------\n",
      "Cluster 6:\n",
      " man\n",
      " woman\n",
      " young\n",
      " husband\n",
      " wife\n",
      " finds\n",
      " story\n",
      " new\n",
      " old\n",
      " death\n",
      "------------\n",
      "Cluster 7:\n",
      " town\n",
      " police\n",
      " small\n",
      " murder\n",
      " killer\n",
      " detective\n",
      " serial\n",
      " case\n",
      " cop\n",
      " new\n",
      "------------\n"
     ]
    }
   ],
   "source": [
    "order_centroids = optimal_KMeans_model.cluster_centers_.argsort()[:, ::-1]\n",
    "terms = vectorizer.get_feature_names()\n",
    "\n",
    "for i in range(optimal_count_clusters):\n",
    "    print(\"Cluster %d:\" % i)\n",
    "    for j in order_centroids[i, :10]: #print out 10 feature terms of each cluster\n",
    "        print (' %s' % terms[j])\n",
    "    print('------------')"
   ]
  },
  {
   "cell_type": "code",
   "execution_count": null,
   "id": "480d2489",
   "metadata": {},
   "outputs": [],
   "source": []
  },
  {
   "cell_type": "code",
   "execution_count": null,
   "id": "8e435bb7",
   "metadata": {},
   "outputs": [],
   "source": []
  },
  {
   "cell_type": "code",
   "execution_count": 49,
   "id": "fff29241",
   "metadata": {},
   "outputs": [
    {
     "data": {
      "text/plain": [
       "0        5\n",
       "1        5\n",
       "2        2\n",
       "3        5\n",
       "4        5\n",
       "        ..\n",
       "45461    6\n",
       "45462    5\n",
       "45463    5\n",
       "45464    7\n",
       "45465    5\n",
       "Name: overview, Length: 45448, dtype: int32"
      ]
     },
     "execution_count": 49,
     "metadata": {},
     "output_type": "execute_result"
    }
   ],
   "source": [
    "movies_to_analysis[\"overview\"] =   optimal_KMeans_model.labels_\n",
    "movies_to_analysis[\"overview\"]"
   ]
  },
  {
   "cell_type": "code",
   "execution_count": null,
   "id": "c9e79cb7",
   "metadata": {},
   "outputs": [],
   "source": []
  },
  {
   "cell_type": "code",
   "execution_count": 50,
   "id": "d7e04ead",
   "metadata": {},
   "outputs": [
    {
     "ename": "NameError",
     "evalue": "name 'popularity' is not defined",
     "output_type": "error",
     "traceback": [
      "\u001b[1;31m---------------------------------------------------------------------------\u001b[0m",
      "\u001b[1;31mNameError\u001b[0m                                 Traceback (most recent call last)",
      "\u001b[1;32m<ipython-input-50-58599abd62ee>\u001b[0m in \u001b[0;36m<module>\u001b[1;34m\u001b[0m\n\u001b[1;32m----> 1\u001b[1;33m \u001b[0mpopularity\u001b[0m\u001b[1;33m\u001b[0m\u001b[1;33m\u001b[0m\u001b[0m\n\u001b[0m",
      "\u001b[1;31mNameError\u001b[0m: name 'popularity' is not defined"
     ]
    }
   ],
   "source": [
    "                                            popularity"
   ]
  },
  {
   "cell_type": "code",
   "execution_count": null,
   "id": "7a52679a",
   "metadata": {},
   "outputs": [],
   "source": [
    "get_part_of_nan(\"popularity\")"
   ]
  },
  {
   "cell_type": "code",
   "execution_count": null,
   "id": "a05c7987",
   "metadata": {},
   "outputs": [],
   "source": [
    "movies_metadata[\"popularity\"]"
   ]
  },
  {
   "cell_type": "code",
   "execution_count": null,
   "id": "31e08784",
   "metadata": {},
   "outputs": [],
   "source": [
    "movies_to_analysis[\"popularity\"] = movies_metadata[\"popularity\"]"
   ]
  },
  {
   "cell_type": "code",
   "execution_count": null,
   "id": "c601d7b8",
   "metadata": {},
   "outputs": [],
   "source": [
    "movies_to_analysis[\"popularity\"] = pd.to_numeric(movies_to_analysis[\"popularity\"], errors='coerce')"
   ]
  },
  {
   "cell_type": "code",
   "execution_count": null,
   "id": "329ffd79",
   "metadata": {},
   "outputs": [],
   "source": [
    "movies_metadata.dtypes"
   ]
  },
  {
   "cell_type": "code",
   "execution_count": null,
   "id": "0dd25b73",
   "metadata": {},
   "outputs": [],
   "source": [
    "                                           poster_path               "
   ]
  },
  {
   "cell_type": "code",
   "execution_count": null,
   "id": "ef27e7ce",
   "metadata": {},
   "outputs": [],
   "source": [
    "get_part_of_nan(\"poster_path\")"
   ]
  },
  {
   "cell_type": "code",
   "execution_count": null,
   "id": "473e1cda",
   "metadata": {},
   "outputs": [],
   "source": [
    "movies_metadata[\"poster_path\"]"
   ]
  },
  {
   "cell_type": "code",
   "execution_count": null,
   "id": "43e1adf8",
   "metadata": {},
   "outputs": [],
   "source": []
  },
  {
   "cell_type": "markdown",
   "id": "2dd263ed",
   "metadata": {},
   "source": [
    "                                production_companies      "
   ]
  },
  {
   "cell_type": "code",
   "execution_count": null,
   "id": "69e8c5e9",
   "metadata": {},
   "outputs": [],
   "source": [
    "get_part_of_nan(\"production_companies\")"
   ]
  },
  {
   "cell_type": "code",
   "execution_count": null,
   "id": "f3bc4068",
   "metadata": {},
   "outputs": [],
   "source": [
    "movies_metadata[\"production_companies\"][1]"
   ]
  },
  {
   "cell_type": "code",
   "execution_count": null,
   "id": "1654a858",
   "metadata": {},
   "outputs": [],
   "source": [
    "dict_companies = dict()\n",
    "\n",
    "def get_id_companies (line):\n",
    "    try:\n",
    "        line_list = ast.literal_eval(line)\n",
    "        companies_id_list = list()\n",
    "        for i in line_list:\n",
    "            companies_id_list.append(i[\"id\"])\n",
    "            dict_companies[i[\"id\"]] = i[\"name\"]\n",
    "        return companies_id_list\n",
    "    except (ValueError , TypeError):\n",
    "        return list()\n",
    "    \n",
    "    "
   ]
  },
  {
   "cell_type": "code",
   "execution_count": null,
   "id": "8a1089fb",
   "metadata": {},
   "outputs": [],
   "source": [
    "movies_to_analysis[\"production_companies\"]= movies_metadata[\"production_companies\"].copy().apply( get_id_companies  )\n",
    "movies_to_analysis"
   ]
  },
  {
   "cell_type": "code",
   "execution_count": null,
   "id": "c6bbe3a6",
   "metadata": {},
   "outputs": [],
   "source": [
    "dict_companies"
   ]
  },
  {
   "cell_type": "markdown",
   "id": "58f10511",
   "metadata": {},
   "source": [
    "                                    production_countries      "
   ]
  },
  {
   "cell_type": "code",
   "execution_count": null,
   "id": "8601fe0c",
   "metadata": {},
   "outputs": [],
   "source": [
    "get_part_of_nan(\"production_countries\")"
   ]
  },
  {
   "cell_type": "code",
   "execution_count": null,
   "id": "cf6ae9f6",
   "metadata": {},
   "outputs": [],
   "source": [
    "movies_metadata[\"production_countries\"][24345]"
   ]
  },
  {
   "cell_type": "code",
   "execution_count": null,
   "id": "d48a5272",
   "metadata": {},
   "outputs": [],
   "source": [
    "dict_countries = dict()\n",
    "\n",
    "def get_id_countries(line):\n",
    "    try :\n",
    "        line_list = ast.literal_eval(line)\n",
    "        countries_id_list = list()\n",
    "        for i in line_list:\n",
    "            countries_id_list.append(i[\"iso_3166_1\"])\n",
    "            dict_countries[i[\"iso_3166_1\"]] = i[\"name\"]\n",
    "        return countries_id_list\n",
    "    except (ValueError , TypeError):\n",
    "        return list()"
   ]
  },
  {
   "cell_type": "code",
   "execution_count": null,
   "id": "46286cf4",
   "metadata": {},
   "outputs": [],
   "source": [
    "movies_to_analysis[\"production_countries\"]= movies_metadata[\"production_countries\"].copy().apply( get_id_countries  )\n",
    "movies_to_analysis"
   ]
  },
  {
   "cell_type": "code",
   "execution_count": null,
   "id": "01e77cbe",
   "metadata": {},
   "outputs": [],
   "source": [
    "dict_countries"
   ]
  },
  {
   "cell_type": "code",
   "execution_count": null,
   "id": "b92642b1",
   "metadata": {},
   "outputs": [],
   "source": [
    "                                    release_date              "
   ]
  },
  {
   "cell_type": "code",
   "execution_count": null,
   "id": "0df3826e",
   "metadata": {},
   "outputs": [],
   "source": [
    "get_part_of_nan(\"release_date\")"
   ]
  },
  {
   "cell_type": "code",
   "execution_count": null,
   "id": "869c3049",
   "metadata": {},
   "outputs": [],
   "source": [
    "movies_to_analysis[\"release_date\"] = pd.to_datetime(movies_metadata[\"release_date\"] ,  errors='coerce')"
   ]
  },
  {
   "cell_type": "code",
   "execution_count": null,
   "id": "0f6e42a9",
   "metadata": {},
   "outputs": [],
   "source": [
    "                                   revenue                  "
   ]
  },
  {
   "cell_type": "code",
   "execution_count": null,
   "id": "c96b06f5",
   "metadata": {},
   "outputs": [],
   "source": [
    "get_part_of_nan(\"revenue\")"
   ]
  },
  {
   "cell_type": "code",
   "execution_count": null,
   "id": "b589ee3b",
   "metadata": {},
   "outputs": [],
   "source": [
    "movies_metadata[\"revenue\"]"
   ]
  },
  {
   "cell_type": "code",
   "execution_count": null,
   "id": "b7f44604",
   "metadata": {},
   "outputs": [],
   "source": [
    "movies_metadata[\"revenue\"][movies_metadata[\"revenue\"] == 0].count() / count_of_rows\n",
    "# not need"
   ]
  },
  {
   "cell_type": "code",
   "execution_count": null,
   "id": "1078671a",
   "metadata": {},
   "outputs": [],
   "source": [
    "                                runtime                  "
   ]
  },
  {
   "cell_type": "code",
   "execution_count": null,
   "id": "a4c23512",
   "metadata": {},
   "outputs": [],
   "source": [
    "get_part_of_nan(\"runtime\")"
   ]
  },
  {
   "cell_type": "code",
   "execution_count": null,
   "id": "2d5e4b1a",
   "metadata": {},
   "outputs": [],
   "source": [
    "movies_metadata[\"runtime\"]"
   ]
  },
  {
   "cell_type": "code",
   "execution_count": null,
   "id": "7ea00389",
   "metadata": {},
   "outputs": [],
   "source": [
    "movies_metadata[\"runtime\"][movies_metadata[\"runtime\"] == 0].count() / count_of_rows\n"
   ]
  },
  {
   "cell_type": "code",
   "execution_count": null,
   "id": "a04c5454",
   "metadata": {},
   "outputs": [],
   "source": [
    "movies_to_analysis[\"runtime\"] = movies_metadata[\"runtime\"].copy()"
   ]
  },
  {
   "cell_type": "code",
   "execution_count": null,
   "id": "a9d9cc51",
   "metadata": {},
   "outputs": [],
   "source": []
  },
  {
   "cell_type": "code",
   "execution_count": null,
   "id": "7a8b8744",
   "metadata": {},
   "outputs": [],
   "source": []
  },
  {
   "cell_type": "code",
   "execution_count": null,
   "id": "6c669e2e",
   "metadata": {},
   "outputs": [],
   "source": [
    "                                    spoken_languages"
   ]
  },
  {
   "cell_type": "code",
   "execution_count": null,
   "id": "9ec66fc0",
   "metadata": {},
   "outputs": [],
   "source": [
    "get_part_of_nan(\"spoken_languages\")"
   ]
  },
  {
   "cell_type": "code",
   "execution_count": null,
   "id": "46bd21ff",
   "metadata": {},
   "outputs": [],
   "source": [
    "movies_metadata[\"spoken_languages\"]"
   ]
  },
  {
   "cell_type": "code",
   "execution_count": null,
   "id": "03eb05ee",
   "metadata": {},
   "outputs": [],
   "source": [
    "movies_metadata[\"spoken_languages\"][movies_metadata[\"spoken_languages\"] == \"[]\"].count() / count_of_rows"
   ]
  },
  {
   "cell_type": "code",
   "execution_count": null,
   "id": "bef9b369",
   "metadata": {},
   "outputs": [],
   "source": [
    "dict_spoken_languages = dict()\n",
    "\n",
    "def get_id_spoken_languages(line):\n",
    "    try :\n",
    "        line_list = ast.literal_eval(line)\n",
    "        spoken_languages_id_list = list()\n",
    "        for i in line_list:\n",
    "            spoken_languages_id_list.append(i[\"iso_639_1\"].upper())\n",
    "            dict_spoken_languages[i[\"iso_639_1\"]] = i[\"name\"]\n",
    "        return spoken_languages_id_list\n",
    "    except (ValueError , TypeError):\n",
    "        return list()"
   ]
  },
  {
   "cell_type": "code",
   "execution_count": null,
   "id": "b14927c1",
   "metadata": {},
   "outputs": [],
   "source": [
    "movies_to_analysis[\"spoken_languages\"]= movies_metadata[\"spoken_languages\"].copy().apply( get_id_spoken_languages  )\n",
    "movies_to_analysis"
   ]
  },
  {
   "cell_type": "code",
   "execution_count": null,
   "id": "27b73ee5",
   "metadata": {},
   "outputs": [],
   "source": [
    "dict_countries"
   ]
  },
  {
   "cell_type": "code",
   "execution_count": null,
   "id": "20c3244d",
   "metadata": {},
   "outputs": [],
   "source": [
    "                                    status"
   ]
  },
  {
   "cell_type": "code",
   "execution_count": null,
   "id": "1af2e73c",
   "metadata": {},
   "outputs": [],
   "source": [
    "get_part_of_nan(\"status\")"
   ]
  },
  {
   "cell_type": "code",
   "execution_count": null,
   "id": "4052c613",
   "metadata": {},
   "outputs": [],
   "source": [
    "movies_metadata[\"status\"].value_counts()"
   ]
  },
  {
   "cell_type": "code",
   "execution_count": null,
   "id": "3537f2f7",
   "metadata": {},
   "outputs": [],
   "source": [
    "movies_to_analysis[\"status\"] = movies_metadata[\"status\"].copy()"
   ]
  },
  {
   "cell_type": "code",
   "execution_count": null,
   "id": "f146d310",
   "metadata": {},
   "outputs": [],
   "source": [
    "                                            tagline"
   ]
  },
  {
   "cell_type": "code",
   "execution_count": null,
   "id": "79d6325e",
   "metadata": {},
   "outputs": [],
   "source": [
    "get_part_of_nan(\"tagline\")\n",
    "# not need"
   ]
  },
  {
   "cell_type": "code",
   "execution_count": null,
   "id": "39878d3d",
   "metadata": {},
   "outputs": [],
   "source": [
    "                                            video"
   ]
  },
  {
   "cell_type": "code",
   "execution_count": null,
   "id": "92112a50",
   "metadata": {},
   "outputs": [],
   "source": [
    "get_part_of_nan(\"video\")"
   ]
  },
  {
   "cell_type": "code",
   "execution_count": null,
   "id": "e7b8b2aa",
   "metadata": {},
   "outputs": [],
   "source": [
    "movies_metadata[\"video\"].value_counts()\n"
   ]
  },
  {
   "cell_type": "code",
   "execution_count": null,
   "id": "2d3063c9",
   "metadata": {},
   "outputs": [],
   "source": [
    "# Imbalanced Data"
   ]
  },
  {
   "cell_type": "code",
   "execution_count": null,
   "id": "0cc2b138",
   "metadata": {},
   "outputs": [],
   "source": [
    "                                    vote_average"
   ]
  },
  {
   "cell_type": "code",
   "execution_count": null,
   "id": "02e45b30",
   "metadata": {},
   "outputs": [],
   "source": [
    "get_part_of_nan(\"vote_average\")"
   ]
  },
  {
   "cell_type": "code",
   "execution_count": null,
   "id": "d564ff66",
   "metadata": {},
   "outputs": [],
   "source": [
    "movies_metadata[\"vote_average\"].dtype\n"
   ]
  },
  {
   "cell_type": "code",
   "execution_count": null,
   "id": "f96f7680",
   "metadata": {},
   "outputs": [],
   "source": [
    "movies_to_analysis[\"vote_average\"] = movies_metadata[\"vote_average\"].copy()\n",
    "movies_to_analysis[\"vote_average\"] "
   ]
  },
  {
   "cell_type": "code",
   "execution_count": null,
   "id": "290c1886",
   "metadata": {},
   "outputs": [],
   "source": [
    "                                    vote_count"
   ]
  },
  {
   "cell_type": "code",
   "execution_count": null,
   "id": "93784f91",
   "metadata": {},
   "outputs": [],
   "source": [
    "get_part_of_nan(\"vote_count\")"
   ]
  },
  {
   "cell_type": "code",
   "execution_count": null,
   "id": "080fc1b2",
   "metadata": {},
   "outputs": [],
   "source": [
    "movies_metadata[\"vote_count\"].dtype"
   ]
  },
  {
   "cell_type": "code",
   "execution_count": null,
   "id": "596a7dd2",
   "metadata": {},
   "outputs": [],
   "source": [
    "movies_to_analysis[\"vote_count\"] = movies_metadata[\"vote_count\"].copy()\n",
    "movies_to_analysis[\"vote_count\"] "
   ]
  },
  {
   "cell_type": "code",
   "execution_count": null,
   "id": "a5e62f82",
   "metadata": {},
   "outputs": [],
   "source": [
    "movies_to_analysis"
   ]
  },
  {
   "cell_type": "code",
   "execution_count": null,
   "id": "fdec26d1",
   "metadata": {},
   "outputs": [],
   "source": [
    "categorical_data = movies_to_analysis[[\"genres\" , \"original_language\", \"overview\" , \"production_companies\", \"production_countries\"\n",
    "                                     , \"spoken_languages\" ] ]\n",
    "categorical_data"
   ]
  },
  {
   "cell_type": "code",
   "execution_count": null,
   "id": "758119c0",
   "metadata": {},
   "outputs": [],
   "source": [
    "from sklearn.preprocessing import MultiLabelBinarizer\n",
    "mlb_genres = MultiLabelBinarizer()\n",
    "genres_dummies = pd.DataFrame(mlb_genres.fit_transform(categorical_data[\"genres\" ]),columns=mlb_genres.classes_, index=categorical_data.index)\n",
    "genres_dummies"
   ]
  },
  {
   "cell_type": "code",
   "execution_count": null,
   "id": "b14a4c96",
   "metadata": {},
   "outputs": [],
   "source": [
    "genres_dummies = genres_dummies.add_prefix('genre_')"
   ]
  },
  {
   "cell_type": "code",
   "execution_count": null,
   "id": "aa5982c7",
   "metadata": {},
   "outputs": [],
   "source": [
    "genres_dummies"
   ]
  },
  {
   "cell_type": "code",
   "execution_count": null,
   "id": "43fb6bc1",
   "metadata": {},
   "outputs": [],
   "source": [
    "genres_dummies_clear = genres_dummies.loc[: , genres_dummies.sum() != 1]\n",
    "genres_dummies_clear"
   ]
  },
  {
   "cell_type": "code",
   "execution_count": null,
   "id": "6f811797",
   "metadata": {},
   "outputs": [],
   "source": [
    "genres_dummies_clear.sum()"
   ]
  },
  {
   "cell_type": "code",
   "execution_count": null,
   "id": "1713cedf",
   "metadata": {},
   "outputs": [],
   "source": [
    "mlb_countries = MultiLabelBinarizer()\n",
    "countries_dummies = pd.DataFrame(mlb_countries.fit_transform(categorical_data[\"production_countries\" ]),columns=mlb_countries.classes_, index=categorical_data.index)\n",
    "countries_dummies"
   ]
  },
  {
   "cell_type": "code",
   "execution_count": null,
   "id": "d01f3e80",
   "metadata": {},
   "outputs": [],
   "source": [
    "countries_dummies = countries_dummies.add_prefix('country_')\n",
    "countries_dummies"
   ]
  },
  {
   "cell_type": "code",
   "execution_count": null,
   "id": "83176753",
   "metadata": {},
   "outputs": [],
   "source": [
    "original_language_dummies = categorical_data[\"original_language\"].str.get_dummies()\n",
    "original_language_dummies"
   ]
  },
  {
   "cell_type": "code",
   "execution_count": null,
   "id": "d06811f7",
   "metadata": {},
   "outputs": [],
   "source": [
    "original_language_dummies.sum()"
   ]
  },
  {
   "cell_type": "code",
   "execution_count": null,
   "id": "b866f9b3",
   "metadata": {},
   "outputs": [],
   "source": [
    "original_language_dummies_clear = original_language_dummies.loc[: , original_language_dummies.sum() != 1]"
   ]
  },
  {
   "cell_type": "code",
   "execution_count": null,
   "id": "2915803d",
   "metadata": {},
   "outputs": [],
   "source": [
    "\n",
    "overview_dummies = pd.get_dummies(categorical_data[\"overview\"].astype(str) , prefix='overview_cluster')\n",
    "overview_dummies"
   ]
  },
  {
   "cell_type": "code",
   "execution_count": null,
   "id": "89ada74f",
   "metadata": {},
   "outputs": [],
   "source": [
    "categorical_feachues = pd.concat([overview_dummies, original_language_dummies_clear , countries_dummies , genres_dummies_clear] , axis=1)\n",
    "categorical_feachues"
   ]
  },
  {
   "cell_type": "code",
   "execution_count": null,
   "id": "34055a05",
   "metadata": {},
   "outputs": [],
   "source": [
    "k = range(4,10)\n",
    "models = [KMeans(n_clusters = i, random_state = 42 , init='k-means++', max_iter=1000, n_init=1).fit(categorical_feachues) for i in k]\n",
    "dist = [m.inertia_ for m in models]\n",
    "\n",
    "plt.plot(k, dist)"
   ]
  },
  {
   "cell_type": "code",
   "execution_count": null,
   "id": "9605b3f7",
   "metadata": {},
   "outputs": [],
   "source": [
    "optimal_count_clusters = 7\n",
    "optimal_KMeans_model = models[ optimal_count_clusters -k[0]]"
   ]
  },
  {
   "cell_type": "code",
   "execution_count": null,
   "id": "f8c7ce0e",
   "metadata": {},
   "outputs": [],
   "source": [
    "result  = optimal_KMeans_model.labels_"
   ]
  },
  {
   "cell_type": "code",
   "execution_count": null,
   "id": "f302edef",
   "metadata": {},
   "outputs": [],
   "source": [
    "len(result)"
   ]
  },
  {
   "cell_type": "code",
   "execution_count": null,
   "id": "bb8e2181",
   "metadata": {},
   "outputs": [],
   "source": [
    "len(titles)"
   ]
  },
  {
   "cell_type": "code",
   "execution_count": null,
   "id": "5c7f96f9",
   "metadata": {},
   "outputs": [],
   "source": [
    "result_df  =  pd.concat([titles ,pd.Series(result , name = \"cluster\" , index=titles.index) ] , axis=1)\n",
    "result_df"
   ]
  },
  {
   "cell_type": "code",
   "execution_count": null,
   "id": "b66146b6",
   "metadata": {},
   "outputs": [],
   "source": [
    "result_df"
   ]
  },
  {
   "cell_type": "code",
   "execution_count": null,
   "id": "c2a51a8b",
   "metadata": {},
   "outputs": [],
   "source": []
  }
 ],
 "metadata": {
  "kernelspec": {
   "display_name": "Python 3",
   "language": "python",
   "name": "python3"
  },
  "language_info": {
   "codemirror_mode": {
    "name": "ipython",
    "version": 3
   },
   "file_extension": ".py",
   "mimetype": "text/x-python",
   "name": "python",
   "nbconvert_exporter": "python",
   "pygments_lexer": "ipython3",
   "version": "3.8.8"
  }
 },
 "nbformat": 4,
 "nbformat_minor": 5
}
