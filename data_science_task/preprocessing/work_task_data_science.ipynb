{
 "cells": [
  {
   "cell_type": "code",
   "execution_count": 3,
   "id": "465d1b3a",
   "metadata": {},
   "outputs": [],
   "source": [
    "import pandas   as pd\n",
    "import numpy as np\n",
    "%matplotlib inline\n",
    "import matplotlib.pyplot as plt\n",
    "import seaborn as sns"
   ]
  },
  {
   "cell_type": "code",
   "execution_count": 4,
   "id": "ff4707b2",
   "metadata": {},
   "outputs": [
    {
     "data": {
      "text/html": [
       "<div>\n",
       "<style scoped>\n",
       "    .dataframe tbody tr th:only-of-type {\n",
       "        vertical-align: middle;\n",
       "    }\n",
       "\n",
       "    .dataframe tbody tr th {\n",
       "        vertical-align: top;\n",
       "    }\n",
       "\n",
       "    .dataframe thead th {\n",
       "        text-align: right;\n",
       "    }\n",
       "</style>\n",
       "<table border=\"1\" class=\"dataframe\">\n",
       "  <thead>\n",
       "    <tr style=\"text-align: right;\">\n",
       "      <th></th>\n",
       "      <th>adult</th>\n",
       "      <th>belongs_to_collection</th>\n",
       "      <th>budget</th>\n",
       "      <th>genres</th>\n",
       "      <th>homepage</th>\n",
       "      <th>id</th>\n",
       "      <th>imdb_id</th>\n",
       "      <th>original_language</th>\n",
       "      <th>original_title</th>\n",
       "      <th>overview</th>\n",
       "      <th>...</th>\n",
       "      <th>release_date</th>\n",
       "      <th>revenue</th>\n",
       "      <th>runtime</th>\n",
       "      <th>spoken_languages</th>\n",
       "      <th>status</th>\n",
       "      <th>tagline</th>\n",
       "      <th>title</th>\n",
       "      <th>video</th>\n",
       "      <th>vote_average</th>\n",
       "      <th>vote_count</th>\n",
       "    </tr>\n",
       "  </thead>\n",
       "  <tbody>\n",
       "    <tr>\n",
       "      <th>0</th>\n",
       "      <td>False</td>\n",
       "      <td>{'id': 10194, 'name': 'Toy Story Collection', ...</td>\n",
       "      <td>30000000</td>\n",
       "      <td>[{'id': 16, 'name': 'Animation'}, {'id': 35, '...</td>\n",
       "      <td>http://toystory.disney.com/toy-story</td>\n",
       "      <td>862</td>\n",
       "      <td>tt0114709</td>\n",
       "      <td>en</td>\n",
       "      <td>Toy Story</td>\n",
       "      <td>Led by Woody, Andy's toys live happily in his ...</td>\n",
       "      <td>...</td>\n",
       "      <td>1995-10-30</td>\n",
       "      <td>373554033.0</td>\n",
       "      <td>81.0</td>\n",
       "      <td>[{'iso_639_1': 'en', 'name': 'English'}]</td>\n",
       "      <td>Released</td>\n",
       "      <td>NaN</td>\n",
       "      <td>Toy Story</td>\n",
       "      <td>False</td>\n",
       "      <td>7.7</td>\n",
       "      <td>5415.0</td>\n",
       "    </tr>\n",
       "    <tr>\n",
       "      <th>1</th>\n",
       "      <td>False</td>\n",
       "      <td>NaN</td>\n",
       "      <td>65000000</td>\n",
       "      <td>[{'id': 12, 'name': 'Adventure'}, {'id': 14, '...</td>\n",
       "      <td>NaN</td>\n",
       "      <td>8844</td>\n",
       "      <td>tt0113497</td>\n",
       "      <td>en</td>\n",
       "      <td>Jumanji</td>\n",
       "      <td>When siblings Judy and Peter discover an encha...</td>\n",
       "      <td>...</td>\n",
       "      <td>1995-12-15</td>\n",
       "      <td>262797249.0</td>\n",
       "      <td>104.0</td>\n",
       "      <td>[{'iso_639_1': 'en', 'name': 'English'}, {'iso...</td>\n",
       "      <td>Released</td>\n",
       "      <td>Roll the dice and unleash the excitement!</td>\n",
       "      <td>Jumanji</td>\n",
       "      <td>False</td>\n",
       "      <td>6.9</td>\n",
       "      <td>2413.0</td>\n",
       "    </tr>\n",
       "    <tr>\n",
       "      <th>2</th>\n",
       "      <td>False</td>\n",
       "      <td>{'id': 119050, 'name': 'Grumpy Old Men Collect...</td>\n",
       "      <td>0</td>\n",
       "      <td>[{'id': 10749, 'name': 'Romance'}, {'id': 35, ...</td>\n",
       "      <td>NaN</td>\n",
       "      <td>15602</td>\n",
       "      <td>tt0113228</td>\n",
       "      <td>en</td>\n",
       "      <td>Grumpier Old Men</td>\n",
       "      <td>A family wedding reignites the ancient feud be...</td>\n",
       "      <td>...</td>\n",
       "      <td>1995-12-22</td>\n",
       "      <td>0.0</td>\n",
       "      <td>101.0</td>\n",
       "      <td>[{'iso_639_1': 'en', 'name': 'English'}]</td>\n",
       "      <td>Released</td>\n",
       "      <td>Still Yelling. Still Fighting. Still Ready for...</td>\n",
       "      <td>Grumpier Old Men</td>\n",
       "      <td>False</td>\n",
       "      <td>6.5</td>\n",
       "      <td>92.0</td>\n",
       "    </tr>\n",
       "    <tr>\n",
       "      <th>3</th>\n",
       "      <td>False</td>\n",
       "      <td>NaN</td>\n",
       "      <td>16000000</td>\n",
       "      <td>[{'id': 35, 'name': 'Comedy'}, {'id': 18, 'nam...</td>\n",
       "      <td>NaN</td>\n",
       "      <td>31357</td>\n",
       "      <td>tt0114885</td>\n",
       "      <td>en</td>\n",
       "      <td>Waiting to Exhale</td>\n",
       "      <td>Cheated on, mistreated and stepped on, the wom...</td>\n",
       "      <td>...</td>\n",
       "      <td>1995-12-22</td>\n",
       "      <td>81452156.0</td>\n",
       "      <td>127.0</td>\n",
       "      <td>[{'iso_639_1': 'en', 'name': 'English'}]</td>\n",
       "      <td>Released</td>\n",
       "      <td>Friends are the people who let you be yourself...</td>\n",
       "      <td>Waiting to Exhale</td>\n",
       "      <td>False</td>\n",
       "      <td>6.1</td>\n",
       "      <td>34.0</td>\n",
       "    </tr>\n",
       "    <tr>\n",
       "      <th>4</th>\n",
       "      <td>False</td>\n",
       "      <td>{'id': 96871, 'name': 'Father of the Bride Col...</td>\n",
       "      <td>0</td>\n",
       "      <td>[{'id': 35, 'name': 'Comedy'}]</td>\n",
       "      <td>NaN</td>\n",
       "      <td>11862</td>\n",
       "      <td>tt0113041</td>\n",
       "      <td>en</td>\n",
       "      <td>Father of the Bride Part II</td>\n",
       "      <td>Just when George Banks has recovered from his ...</td>\n",
       "      <td>...</td>\n",
       "      <td>1995-02-10</td>\n",
       "      <td>76578911.0</td>\n",
       "      <td>106.0</td>\n",
       "      <td>[{'iso_639_1': 'en', 'name': 'English'}]</td>\n",
       "      <td>Released</td>\n",
       "      <td>Just When His World Is Back To Normal... He's ...</td>\n",
       "      <td>Father of the Bride Part II</td>\n",
       "      <td>False</td>\n",
       "      <td>5.7</td>\n",
       "      <td>173.0</td>\n",
       "    </tr>\n",
       "    <tr>\n",
       "      <th>...</th>\n",
       "      <td>...</td>\n",
       "      <td>...</td>\n",
       "      <td>...</td>\n",
       "      <td>...</td>\n",
       "      <td>...</td>\n",
       "      <td>...</td>\n",
       "      <td>...</td>\n",
       "      <td>...</td>\n",
       "      <td>...</td>\n",
       "      <td>...</td>\n",
       "      <td>...</td>\n",
       "      <td>...</td>\n",
       "      <td>...</td>\n",
       "      <td>...</td>\n",
       "      <td>...</td>\n",
       "      <td>...</td>\n",
       "      <td>...</td>\n",
       "      <td>...</td>\n",
       "      <td>...</td>\n",
       "      <td>...</td>\n",
       "      <td>...</td>\n",
       "    </tr>\n",
       "    <tr>\n",
       "      <th>45461</th>\n",
       "      <td>False</td>\n",
       "      <td>NaN</td>\n",
       "      <td>0</td>\n",
       "      <td>[{'id': 18, 'name': 'Drama'}, {'id': 10751, 'n...</td>\n",
       "      <td>http://www.imdb.com/title/tt6209470/</td>\n",
       "      <td>439050</td>\n",
       "      <td>tt6209470</td>\n",
       "      <td>fa</td>\n",
       "      <td>رگ خواب</td>\n",
       "      <td>Rising and falling between a man and woman.</td>\n",
       "      <td>...</td>\n",
       "      <td>NaN</td>\n",
       "      <td>0.0</td>\n",
       "      <td>90.0</td>\n",
       "      <td>[{'iso_639_1': 'fa', 'name': 'فارسی'}]</td>\n",
       "      <td>Released</td>\n",
       "      <td>Rising and falling between a man and woman</td>\n",
       "      <td>Subdue</td>\n",
       "      <td>False</td>\n",
       "      <td>4.0</td>\n",
       "      <td>1.0</td>\n",
       "    </tr>\n",
       "    <tr>\n",
       "      <th>45462</th>\n",
       "      <td>False</td>\n",
       "      <td>NaN</td>\n",
       "      <td>0</td>\n",
       "      <td>[{'id': 18, 'name': 'Drama'}]</td>\n",
       "      <td>NaN</td>\n",
       "      <td>111109</td>\n",
       "      <td>tt2028550</td>\n",
       "      <td>tl</td>\n",
       "      <td>Siglo ng Pagluluwal</td>\n",
       "      <td>An artist struggles to finish his work while a...</td>\n",
       "      <td>...</td>\n",
       "      <td>2011-11-17</td>\n",
       "      <td>0.0</td>\n",
       "      <td>360.0</td>\n",
       "      <td>[{'iso_639_1': 'tl', 'name': ''}]</td>\n",
       "      <td>Released</td>\n",
       "      <td>NaN</td>\n",
       "      <td>Century of Birthing</td>\n",
       "      <td>False</td>\n",
       "      <td>9.0</td>\n",
       "      <td>3.0</td>\n",
       "    </tr>\n",
       "    <tr>\n",
       "      <th>45463</th>\n",
       "      <td>False</td>\n",
       "      <td>NaN</td>\n",
       "      <td>0</td>\n",
       "      <td>[{'id': 28, 'name': 'Action'}, {'id': 18, 'nam...</td>\n",
       "      <td>NaN</td>\n",
       "      <td>67758</td>\n",
       "      <td>tt0303758</td>\n",
       "      <td>en</td>\n",
       "      <td>Betrayal</td>\n",
       "      <td>When one of her hits goes wrong, a professiona...</td>\n",
       "      <td>...</td>\n",
       "      <td>2003-08-01</td>\n",
       "      <td>0.0</td>\n",
       "      <td>90.0</td>\n",
       "      <td>[{'iso_639_1': 'en', 'name': 'English'}]</td>\n",
       "      <td>Released</td>\n",
       "      <td>A deadly game of wits.</td>\n",
       "      <td>Betrayal</td>\n",
       "      <td>False</td>\n",
       "      <td>3.8</td>\n",
       "      <td>6.0</td>\n",
       "    </tr>\n",
       "    <tr>\n",
       "      <th>45464</th>\n",
       "      <td>False</td>\n",
       "      <td>NaN</td>\n",
       "      <td>0</td>\n",
       "      <td>[]</td>\n",
       "      <td>NaN</td>\n",
       "      <td>227506</td>\n",
       "      <td>tt0008536</td>\n",
       "      <td>en</td>\n",
       "      <td>Satana likuyushchiy</td>\n",
       "      <td>In a small town live two brothers, one a minis...</td>\n",
       "      <td>...</td>\n",
       "      <td>1917-10-21</td>\n",
       "      <td>0.0</td>\n",
       "      <td>87.0</td>\n",
       "      <td>[]</td>\n",
       "      <td>Released</td>\n",
       "      <td>NaN</td>\n",
       "      <td>Satan Triumphant</td>\n",
       "      <td>False</td>\n",
       "      <td>0.0</td>\n",
       "      <td>0.0</td>\n",
       "    </tr>\n",
       "    <tr>\n",
       "      <th>45465</th>\n",
       "      <td>False</td>\n",
       "      <td>NaN</td>\n",
       "      <td>0</td>\n",
       "      <td>[]</td>\n",
       "      <td>NaN</td>\n",
       "      <td>461257</td>\n",
       "      <td>tt6980792</td>\n",
       "      <td>en</td>\n",
       "      <td>Queerama</td>\n",
       "      <td>50 years after decriminalisation of homosexual...</td>\n",
       "      <td>...</td>\n",
       "      <td>2017-06-09</td>\n",
       "      <td>0.0</td>\n",
       "      <td>75.0</td>\n",
       "      <td>[{'iso_639_1': 'en', 'name': 'English'}]</td>\n",
       "      <td>Released</td>\n",
       "      <td>NaN</td>\n",
       "      <td>Queerama</td>\n",
       "      <td>False</td>\n",
       "      <td>0.0</td>\n",
       "      <td>0.0</td>\n",
       "    </tr>\n",
       "  </tbody>\n",
       "</table>\n",
       "<p>45466 rows × 24 columns</p>\n",
       "</div>"
      ],
      "text/plain": [
       "       adult                              belongs_to_collection    budget  \\\n",
       "0      False  {'id': 10194, 'name': 'Toy Story Collection', ...  30000000   \n",
       "1      False                                                NaN  65000000   \n",
       "2      False  {'id': 119050, 'name': 'Grumpy Old Men Collect...         0   \n",
       "3      False                                                NaN  16000000   \n",
       "4      False  {'id': 96871, 'name': 'Father of the Bride Col...         0   \n",
       "...      ...                                                ...       ...   \n",
       "45461  False                                                NaN         0   \n",
       "45462  False                                                NaN         0   \n",
       "45463  False                                                NaN         0   \n",
       "45464  False                                                NaN         0   \n",
       "45465  False                                                NaN         0   \n",
       "\n",
       "                                                  genres  \\\n",
       "0      [{'id': 16, 'name': 'Animation'}, {'id': 35, '...   \n",
       "1      [{'id': 12, 'name': 'Adventure'}, {'id': 14, '...   \n",
       "2      [{'id': 10749, 'name': 'Romance'}, {'id': 35, ...   \n",
       "3      [{'id': 35, 'name': 'Comedy'}, {'id': 18, 'nam...   \n",
       "4                         [{'id': 35, 'name': 'Comedy'}]   \n",
       "...                                                  ...   \n",
       "45461  [{'id': 18, 'name': 'Drama'}, {'id': 10751, 'n...   \n",
       "45462                      [{'id': 18, 'name': 'Drama'}]   \n",
       "45463  [{'id': 28, 'name': 'Action'}, {'id': 18, 'nam...   \n",
       "45464                                                 []   \n",
       "45465                                                 []   \n",
       "\n",
       "                                   homepage      id    imdb_id  \\\n",
       "0      http://toystory.disney.com/toy-story     862  tt0114709   \n",
       "1                                       NaN    8844  tt0113497   \n",
       "2                                       NaN   15602  tt0113228   \n",
       "3                                       NaN   31357  tt0114885   \n",
       "4                                       NaN   11862  tt0113041   \n",
       "...                                     ...     ...        ...   \n",
       "45461  http://www.imdb.com/title/tt6209470/  439050  tt6209470   \n",
       "45462                                   NaN  111109  tt2028550   \n",
       "45463                                   NaN   67758  tt0303758   \n",
       "45464                                   NaN  227506  tt0008536   \n",
       "45465                                   NaN  461257  tt6980792   \n",
       "\n",
       "      original_language               original_title  \\\n",
       "0                    en                    Toy Story   \n",
       "1                    en                      Jumanji   \n",
       "2                    en             Grumpier Old Men   \n",
       "3                    en            Waiting to Exhale   \n",
       "4                    en  Father of the Bride Part II   \n",
       "...                 ...                          ...   \n",
       "45461                fa                      رگ خواب   \n",
       "45462                tl          Siglo ng Pagluluwal   \n",
       "45463                en                     Betrayal   \n",
       "45464                en          Satana likuyushchiy   \n",
       "45465                en                     Queerama   \n",
       "\n",
       "                                                overview  ... release_date  \\\n",
       "0      Led by Woody, Andy's toys live happily in his ...  ...   1995-10-30   \n",
       "1      When siblings Judy and Peter discover an encha...  ...   1995-12-15   \n",
       "2      A family wedding reignites the ancient feud be...  ...   1995-12-22   \n",
       "3      Cheated on, mistreated and stepped on, the wom...  ...   1995-12-22   \n",
       "4      Just when George Banks has recovered from his ...  ...   1995-02-10   \n",
       "...                                                  ...  ...          ...   \n",
       "45461        Rising and falling between a man and woman.  ...          NaN   \n",
       "45462  An artist struggles to finish his work while a...  ...   2011-11-17   \n",
       "45463  When one of her hits goes wrong, a professiona...  ...   2003-08-01   \n",
       "45464  In a small town live two brothers, one a minis...  ...   1917-10-21   \n",
       "45465  50 years after decriminalisation of homosexual...  ...   2017-06-09   \n",
       "\n",
       "           revenue runtime                                   spoken_languages  \\\n",
       "0      373554033.0    81.0           [{'iso_639_1': 'en', 'name': 'English'}]   \n",
       "1      262797249.0   104.0  [{'iso_639_1': 'en', 'name': 'English'}, {'iso...   \n",
       "2              0.0   101.0           [{'iso_639_1': 'en', 'name': 'English'}]   \n",
       "3       81452156.0   127.0           [{'iso_639_1': 'en', 'name': 'English'}]   \n",
       "4       76578911.0   106.0           [{'iso_639_1': 'en', 'name': 'English'}]   \n",
       "...            ...     ...                                                ...   \n",
       "45461          0.0    90.0             [{'iso_639_1': 'fa', 'name': 'فارسی'}]   \n",
       "45462          0.0   360.0                  [{'iso_639_1': 'tl', 'name': ''}]   \n",
       "45463          0.0    90.0           [{'iso_639_1': 'en', 'name': 'English'}]   \n",
       "45464          0.0    87.0                                                 []   \n",
       "45465          0.0    75.0           [{'iso_639_1': 'en', 'name': 'English'}]   \n",
       "\n",
       "         status                                            tagline  \\\n",
       "0      Released                                                NaN   \n",
       "1      Released          Roll the dice and unleash the excitement!   \n",
       "2      Released  Still Yelling. Still Fighting. Still Ready for...   \n",
       "3      Released  Friends are the people who let you be yourself...   \n",
       "4      Released  Just When His World Is Back To Normal... He's ...   \n",
       "...         ...                                                ...   \n",
       "45461  Released         Rising and falling between a man and woman   \n",
       "45462  Released                                                NaN   \n",
       "45463  Released                             A deadly game of wits.   \n",
       "45464  Released                                                NaN   \n",
       "45465  Released                                                NaN   \n",
       "\n",
       "                             title  video vote_average vote_count  \n",
       "0                        Toy Story  False          7.7     5415.0  \n",
       "1                          Jumanji  False          6.9     2413.0  \n",
       "2                 Grumpier Old Men  False          6.5       92.0  \n",
       "3                Waiting to Exhale  False          6.1       34.0  \n",
       "4      Father of the Bride Part II  False          5.7      173.0  \n",
       "...                            ...    ...          ...        ...  \n",
       "45461                       Subdue  False          4.0        1.0  \n",
       "45462          Century of Birthing  False          9.0        3.0  \n",
       "45463                     Betrayal  False          3.8        6.0  \n",
       "45464             Satan Triumphant  False          0.0        0.0  \n",
       "45465                     Queerama  False          0.0        0.0  \n",
       "\n",
       "[45466 rows x 24 columns]"
      ]
     },
     "execution_count": 4,
     "metadata": {},
     "output_type": "execute_result"
    }
   ],
   "source": [
    "movies_metadata = pd.read_csv('C:\\programmer_shit\\data_salo_files\\work\\movies_metadata.csv' , low_memory=False)\n",
    "movies_metadata\n",
    "\n"
   ]
  },
  {
   "cell_type": "code",
   "execution_count": 5,
   "id": "c17ea485",
   "metadata": {},
   "outputs": [],
   "source": [
    "movies_metadata = movies_metadata.drop_duplicates()"
   ]
  },
  {
   "cell_type": "code",
   "execution_count": 6,
   "id": "801a274b",
   "metadata": {},
   "outputs": [],
   "source": [
    "\n",
    "# It's confused row.\n",
    "# need to delete\n",
    "\n",
    "movies_metadata[movies_metadata[\"original_language\"] == \"104.0\"]\n",
    "movies_metadata = movies_metadata.drop(19730 , axis = 0)"
   ]
  },
  {
   "cell_type": "code",
   "execution_count": null,
   "id": "ec2368cc",
   "metadata": {},
   "outputs": [],
   "source": []
  },
  {
   "cell_type": "code",
   "execution_count": null,
   "id": "c6d3807b",
   "metadata": {},
   "outputs": [],
   "source": [
    "\n"
   ]
  },
  {
   "cell_type": "code",
   "execution_count": 39,
   "id": "b3c03f6e",
   "metadata": {},
   "outputs": [
    {
     "data": {
      "text/plain": [
       "adult                     object\n",
       "belongs_to_collection     object\n",
       "budget                    object\n",
       "genres                    object\n",
       "homepage                  object\n",
       "id                        object\n",
       "imdb_id                   object\n",
       "original_language         object\n",
       "original_title            object\n",
       "overview                  object\n",
       "popularity                object\n",
       "poster_path               object\n",
       "production_companies      object\n",
       "production_countries      object\n",
       "release_date              object\n",
       "revenue                  float64\n",
       "runtime                  float64\n",
       "spoken_languages          object\n",
       "status                    object\n",
       "tagline                   object\n",
       "title                     object\n",
       "video                     object\n",
       "vote_average             float64\n",
       "vote_count               float64\n",
       "dtype: object"
      ]
     },
     "execution_count": 39,
     "metadata": {},
     "output_type": "execute_result"
    }
   ],
   "source": [
    "movies_metadata.dtypes"
   ]
  },
  {
   "cell_type": "code",
   "execution_count": 40,
   "id": "921794f7",
   "metadata": {},
   "outputs": [],
   "source": [
    "count_of_rows = movies_metadata.shape[0]"
   ]
  },
  {
   "cell_type": "code",
   "execution_count": 41,
   "id": "5db1d8ee",
   "metadata": {},
   "outputs": [],
   "source": [
    "def get_part_of_nan(column):\n",
    "    return movies_metadata[column].isna().sum() / count_of_rows\n",
    "    "
   ]
  },
  {
   "cell_type": "code",
   "execution_count": 42,
   "id": "8b705842",
   "metadata": {},
   "outputs": [],
   "source": [
    "movies_to_analysis = pd.DataFrame()"
   ]
  },
  {
   "cell_type": "code",
   "execution_count": null,
   "id": "3c97e60d",
   "metadata": {},
   "outputs": [],
   "source": []
  },
  {
   "cell_type": "markdown",
   "id": "657472dc",
   "metadata": {},
   "source": [
    "                                adult"
   ]
  },
  {
   "cell_type": "code",
   "execution_count": 43,
   "id": "3bb0fbdd",
   "metadata": {},
   "outputs": [
    {
     "data": {
      "text/plain": [
       "0.0"
      ]
     },
     "execution_count": 43,
     "metadata": {},
     "output_type": "execute_result"
    }
   ],
   "source": [
    "\n",
    "get_part_of_nan(\"adult\")"
   ]
  },
  {
   "cell_type": "code",
   "execution_count": 44,
   "id": "62b810c6",
   "metadata": {},
   "outputs": [],
   "source": [
    "movies_to_analysis[\"adult\"] = movies_metadata[\"adult\"]\n"
   ]
  },
  {
   "cell_type": "code",
   "execution_count": 45,
   "id": "a7d09fb0",
   "metadata": {},
   "outputs": [
    {
     "data": {
      "text/plain": [
       "False                                                                                                                             45437\n",
       "True                                                                                                                                  9\n",
       " Rune Balot goes to a casino connected to the October corporation to try to wrap up her case once and for all.                        1\n",
       " Avalanche Sharks tells the story of a bikini contest that turns into a horrifying affair when it is hit by a shark avalanche.        1\n",
       "Name: adult, dtype: int64"
      ]
     },
     "execution_count": 45,
     "metadata": {},
     "output_type": "execute_result"
    }
   ],
   "source": [
    "\n",
    "movies_to_analysis[\"adult\"].value_counts()"
   ]
  },
  {
   "cell_type": "code",
   "execution_count": 46,
   "id": "412094e8",
   "metadata": {},
   "outputs": [
    {
     "data": {
      "text/plain": [
       "'False'"
      ]
     },
     "execution_count": 46,
     "metadata": {},
     "output_type": "execute_result"
    }
   ],
   "source": [
    "movies_metadata[\"adult\"][0]"
   ]
  },
  {
   "cell_type": "code",
   "execution_count": 47,
   "id": "5a7cbf05",
   "metadata": {},
   "outputs": [],
   "source": [
    "# by google search\n",
    "movies_to_analysis.loc[movies_to_analysis.adult != \"False\", 'adult'] = \"True\"\n"
   ]
  },
  {
   "cell_type": "code",
   "execution_count": 48,
   "id": "c945816b",
   "metadata": {},
   "outputs": [
    {
     "data": {
      "text/plain": [
       "adult\n",
       "False    45437\n",
       "True        11\n",
       "dtype: int64"
      ]
     },
     "execution_count": 48,
     "metadata": {},
     "output_type": "execute_result"
    }
   ],
   "source": [
    "movies_to_analysis.value_counts()"
   ]
  },
  {
   "cell_type": "code",
   "execution_count": null,
   "id": "58dc680c",
   "metadata": {},
   "outputs": [],
   "source": []
  },
  {
   "cell_type": "code",
   "execution_count": 49,
   "id": "82c7ff14",
   "metadata": {},
   "outputs": [],
   "source": [
    "movies_to_analysis['adult'] = movies_to_analysis[\"adult\"].replace({'True': True, 'False': False})"
   ]
  },
  {
   "cell_type": "code",
   "execution_count": 50,
   "id": "5a1ba510",
   "metadata": {},
   "outputs": [
    {
     "data": {
      "text/plain": [
       "adult    bool\n",
       "dtype: object"
      ]
     },
     "execution_count": 50,
     "metadata": {},
     "output_type": "execute_result"
    }
   ],
   "source": [
    "movies_to_analysis.dtypes"
   ]
  },
  {
   "cell_type": "code",
   "execution_count": 51,
   "id": "f6206666",
   "metadata": {},
   "outputs": [
    {
     "data": {
      "text/html": [
       "<div>\n",
       "<style scoped>\n",
       "    .dataframe tbody tr th:only-of-type {\n",
       "        vertical-align: middle;\n",
       "    }\n",
       "\n",
       "    .dataframe tbody tr th {\n",
       "        vertical-align: top;\n",
       "    }\n",
       "\n",
       "    .dataframe thead th {\n",
       "        text-align: right;\n",
       "    }\n",
       "</style>\n",
       "<table border=\"1\" class=\"dataframe\">\n",
       "  <thead>\n",
       "    <tr style=\"text-align: right;\">\n",
       "      <th></th>\n",
       "      <th>adult</th>\n",
       "    </tr>\n",
       "  </thead>\n",
       "  <tbody>\n",
       "    <tr>\n",
       "      <th>0</th>\n",
       "      <td>False</td>\n",
       "    </tr>\n",
       "    <tr>\n",
       "      <th>1</th>\n",
       "      <td>False</td>\n",
       "    </tr>\n",
       "    <tr>\n",
       "      <th>2</th>\n",
       "      <td>False</td>\n",
       "    </tr>\n",
       "    <tr>\n",
       "      <th>3</th>\n",
       "      <td>False</td>\n",
       "    </tr>\n",
       "    <tr>\n",
       "      <th>4</th>\n",
       "      <td>False</td>\n",
       "    </tr>\n",
       "    <tr>\n",
       "      <th>...</th>\n",
       "      <td>...</td>\n",
       "    </tr>\n",
       "    <tr>\n",
       "      <th>45461</th>\n",
       "      <td>False</td>\n",
       "    </tr>\n",
       "    <tr>\n",
       "      <th>45462</th>\n",
       "      <td>False</td>\n",
       "    </tr>\n",
       "    <tr>\n",
       "      <th>45463</th>\n",
       "      <td>False</td>\n",
       "    </tr>\n",
       "    <tr>\n",
       "      <th>45464</th>\n",
       "      <td>False</td>\n",
       "    </tr>\n",
       "    <tr>\n",
       "      <th>45465</th>\n",
       "      <td>False</td>\n",
       "    </tr>\n",
       "  </tbody>\n",
       "</table>\n",
       "<p>45448 rows × 1 columns</p>\n",
       "</div>"
      ],
      "text/plain": [
       "       adult\n",
       "0      False\n",
       "1      False\n",
       "2      False\n",
       "3      False\n",
       "4      False\n",
       "...      ...\n",
       "45461  False\n",
       "45462  False\n",
       "45463  False\n",
       "45464  False\n",
       "45465  False\n",
       "\n",
       "[45448 rows x 1 columns]"
      ]
     },
     "execution_count": 51,
     "metadata": {},
     "output_type": "execute_result"
    }
   ],
   "source": [
    "movies_to_analysis"
   ]
  },
  {
   "cell_type": "markdown",
   "id": "dfa22d76",
   "metadata": {},
   "source": [
    "                        belongs_to_collection"
   ]
  },
  {
   "cell_type": "code",
   "execution_count": 52,
   "id": "8867d1af",
   "metadata": {},
   "outputs": [
    {
     "data": {
      "text/plain": [
       "0.9011617672944904"
      ]
     },
     "execution_count": 52,
     "metadata": {},
     "output_type": "execute_result"
    }
   ],
   "source": [
    "get_part_of_nan(\"belongs_to_collection\")"
   ]
  },
  {
   "cell_type": "code",
   "execution_count": 53,
   "id": "2a8e5b60",
   "metadata": {},
   "outputs": [
    {
     "data": {
      "text/plain": [
       "\"{'id': 10194, 'name': 'Toy Story Collection', 'poster_path': '/7G9915LfUQ2lVfwMEEhDsn3kT4B.jpg', 'backdrop_path': '/9FBwqcd9IRruEDUrTdcaafOMKUq.jpg'}\""
      ]
     },
     "execution_count": 53,
     "metadata": {},
     "output_type": "execute_result"
    }
   ],
   "source": [
    "\n",
    "movies_metadata[\"belongs_to_collection\"][0]"
   ]
  },
  {
   "cell_type": "code",
   "execution_count": 54,
   "id": "2fd0290d",
   "metadata": {},
   "outputs": [],
   "source": [
    "# We have 'poster_path' and 'backdrop_path' . \n",
    "# Theoretically, we can do an analysis based on posters, but it is quite complicated and 90% of the data is unknown. \n",
    "# Сolumn not required \n"
   ]
  },
  {
   "cell_type": "code",
   "execution_count": null,
   "id": "de0e9652",
   "metadata": {},
   "outputs": [],
   "source": []
  },
  {
   "cell_type": "markdown",
   "id": "4a3e7568",
   "metadata": {},
   "source": [
    "                                    budget                    "
   ]
  },
  {
   "cell_type": "code",
   "execution_count": 50,
   "id": "a81753fa",
   "metadata": {},
   "outputs": [
    {
     "data": {
      "text/plain": [
       "0.0"
      ]
     },
     "execution_count": 50,
     "metadata": {},
     "output_type": "execute_result"
    }
   ],
   "source": [
    "get_part_of_nan(\"budget\")"
   ]
  },
  {
   "cell_type": "code",
   "execution_count": 59,
   "id": "a8a44f8d",
   "metadata": {},
   "outputs": [
    {
     "data": {
      "text/plain": [
       "0.8044032903708266"
      ]
     },
     "execution_count": 59,
     "metadata": {},
     "output_type": "execute_result"
    }
   ],
   "source": [
    "movies_metadata[\"budget\"][movies_metadata[\"budget\"] == \"0\"].count() / count_of_rows"
   ]
  },
  {
   "cell_type": "code",
   "execution_count": 60,
   "id": "1a90b7ad",
   "metadata": {},
   "outputs": [],
   "source": [
    "# 80 % unknown \n",
    "# Сolumn not required \n"
   ]
  },
  {
   "cell_type": "code",
   "execution_count": null,
   "id": "eba82bcd",
   "metadata": {},
   "outputs": [],
   "source": []
  },
  {
   "cell_type": "markdown",
   "id": "70743c0b",
   "metadata": {},
   "source": [
    "                                        genres"
   ]
  },
  {
   "cell_type": "code",
   "execution_count": 35,
   "id": "6bb5aba8",
   "metadata": {},
   "outputs": [
    {
     "data": {
      "text/plain": [
       "0.0"
      ]
     },
     "execution_count": 35,
     "metadata": {},
     "output_type": "execute_result"
    }
   ],
   "source": [
    "get_part_of_nan(\"genres\")"
   ]
  },
  {
   "cell_type": "code",
   "execution_count": 36,
   "id": "3b60b330",
   "metadata": {},
   "outputs": [
    {
     "data": {
      "text/plain": [
       "0.053710464962829364"
      ]
     },
     "execution_count": 36,
     "metadata": {},
     "output_type": "execute_result"
    }
   ],
   "source": [
    "movies_metadata[\"genres\"][movies_metadata[\"genres\"] == \"[]\"].count() / count_of_rows"
   ]
  },
  {
   "cell_type": "code",
   "execution_count": null,
   "id": "1edabb72",
   "metadata": {},
   "outputs": [],
   "source": []
  },
  {
   "cell_type": "code",
   "execution_count": null,
   "id": "71ad7cd4",
   "metadata": {},
   "outputs": [],
   "source": []
  },
  {
   "cell_type": "code",
   "execution_count": 18,
   "id": "b101fdbd",
   "metadata": {},
   "outputs": [
    {
     "data": {
      "text/html": [
       "<div>\n",
       "<style scoped>\n",
       "    .dataframe tbody tr th:only-of-type {\n",
       "        vertical-align: middle;\n",
       "    }\n",
       "\n",
       "    .dataframe tbody tr th {\n",
       "        vertical-align: top;\n",
       "    }\n",
       "\n",
       "    .dataframe thead th {\n",
       "        text-align: right;\n",
       "    }\n",
       "</style>\n",
       "<table border=\"1\" class=\"dataframe\">\n",
       "  <thead>\n",
       "    <tr style=\"text-align: right;\">\n",
       "      <th></th>\n",
       "      <th>adult</th>\n",
       "      <th>belongs_to_collection</th>\n",
       "      <th>budget</th>\n",
       "      <th>genres</th>\n",
       "      <th>homepage</th>\n",
       "      <th>id</th>\n",
       "      <th>imdb_id</th>\n",
       "      <th>original_language</th>\n",
       "      <th>original_title</th>\n",
       "      <th>overview</th>\n",
       "      <th>...</th>\n",
       "      <th>release_date</th>\n",
       "      <th>revenue</th>\n",
       "      <th>runtime</th>\n",
       "      <th>spoken_languages</th>\n",
       "      <th>status</th>\n",
       "      <th>tagline</th>\n",
       "      <th>title</th>\n",
       "      <th>video</th>\n",
       "      <th>vote_average</th>\n",
       "      <th>vote_count</th>\n",
       "    </tr>\n",
       "  </thead>\n",
       "  <tbody>\n",
       "    <tr>\n",
       "      <th>0</th>\n",
       "      <td>False</td>\n",
       "      <td>{'id': 10194, 'name': 'Toy Story Collection', ...</td>\n",
       "      <td>30000000</td>\n",
       "      <td>[{'id': 16, 'name': 'Animation'}, {'id': 35, '...</td>\n",
       "      <td>http://toystory.disney.com/toy-story</td>\n",
       "      <td>862</td>\n",
       "      <td>tt0114709</td>\n",
       "      <td>en</td>\n",
       "      <td>Toy Story</td>\n",
       "      <td>Led by Woody, Andy's toys live happily in his ...</td>\n",
       "      <td>...</td>\n",
       "      <td>1995-10-30</td>\n",
       "      <td>373554033.0</td>\n",
       "      <td>81.0</td>\n",
       "      <td>[{'iso_639_1': 'en', 'name': 'English'}]</td>\n",
       "      <td>Released</td>\n",
       "      <td>NaN</td>\n",
       "      <td>Toy Story</td>\n",
       "      <td>False</td>\n",
       "      <td>7.7</td>\n",
       "      <td>5415.0</td>\n",
       "    </tr>\n",
       "    <tr>\n",
       "      <th>1</th>\n",
       "      <td>False</td>\n",
       "      <td>NaN</td>\n",
       "      <td>65000000</td>\n",
       "      <td>[{'id': 12, 'name': 'Adventure'}, {'id': 14, '...</td>\n",
       "      <td>NaN</td>\n",
       "      <td>8844</td>\n",
       "      <td>tt0113497</td>\n",
       "      <td>en</td>\n",
       "      <td>Jumanji</td>\n",
       "      <td>When siblings Judy and Peter discover an encha...</td>\n",
       "      <td>...</td>\n",
       "      <td>1995-12-15</td>\n",
       "      <td>262797249.0</td>\n",
       "      <td>104.0</td>\n",
       "      <td>[{'iso_639_1': 'en', 'name': 'English'}, {'iso...</td>\n",
       "      <td>Released</td>\n",
       "      <td>Roll the dice and unleash the excitement!</td>\n",
       "      <td>Jumanji</td>\n",
       "      <td>False</td>\n",
       "      <td>6.9</td>\n",
       "      <td>2413.0</td>\n",
       "    </tr>\n",
       "    <tr>\n",
       "      <th>2</th>\n",
       "      <td>False</td>\n",
       "      <td>{'id': 119050, 'name': 'Grumpy Old Men Collect...</td>\n",
       "      <td>0</td>\n",
       "      <td>[{'id': 10749, 'name': 'Romance'}, {'id': 35, ...</td>\n",
       "      <td>NaN</td>\n",
       "      <td>15602</td>\n",
       "      <td>tt0113228</td>\n",
       "      <td>en</td>\n",
       "      <td>Grumpier Old Men</td>\n",
       "      <td>A family wedding reignites the ancient feud be...</td>\n",
       "      <td>...</td>\n",
       "      <td>1995-12-22</td>\n",
       "      <td>0.0</td>\n",
       "      <td>101.0</td>\n",
       "      <td>[{'iso_639_1': 'en', 'name': 'English'}]</td>\n",
       "      <td>Released</td>\n",
       "      <td>Still Yelling. Still Fighting. Still Ready for...</td>\n",
       "      <td>Grumpier Old Men</td>\n",
       "      <td>False</td>\n",
       "      <td>6.5</td>\n",
       "      <td>92.0</td>\n",
       "    </tr>\n",
       "    <tr>\n",
       "      <th>3</th>\n",
       "      <td>False</td>\n",
       "      <td>NaN</td>\n",
       "      <td>16000000</td>\n",
       "      <td>[{'id': 35, 'name': 'Comedy'}, {'id': 18, 'nam...</td>\n",
       "      <td>NaN</td>\n",
       "      <td>31357</td>\n",
       "      <td>tt0114885</td>\n",
       "      <td>en</td>\n",
       "      <td>Waiting to Exhale</td>\n",
       "      <td>Cheated on, mistreated and stepped on, the wom...</td>\n",
       "      <td>...</td>\n",
       "      <td>1995-12-22</td>\n",
       "      <td>81452156.0</td>\n",
       "      <td>127.0</td>\n",
       "      <td>[{'iso_639_1': 'en', 'name': 'English'}]</td>\n",
       "      <td>Released</td>\n",
       "      <td>Friends are the people who let you be yourself...</td>\n",
       "      <td>Waiting to Exhale</td>\n",
       "      <td>False</td>\n",
       "      <td>6.1</td>\n",
       "      <td>34.0</td>\n",
       "    </tr>\n",
       "    <tr>\n",
       "      <th>4</th>\n",
       "      <td>False</td>\n",
       "      <td>{'id': 96871, 'name': 'Father of the Bride Col...</td>\n",
       "      <td>0</td>\n",
       "      <td>[{'id': 35, 'name': 'Comedy'}]</td>\n",
       "      <td>NaN</td>\n",
       "      <td>11862</td>\n",
       "      <td>tt0113041</td>\n",
       "      <td>en</td>\n",
       "      <td>Father of the Bride Part II</td>\n",
       "      <td>Just when George Banks has recovered from his ...</td>\n",
       "      <td>...</td>\n",
       "      <td>1995-02-10</td>\n",
       "      <td>76578911.0</td>\n",
       "      <td>106.0</td>\n",
       "      <td>[{'iso_639_1': 'en', 'name': 'English'}]</td>\n",
       "      <td>Released</td>\n",
       "      <td>Just When His World Is Back To Normal... He's ...</td>\n",
       "      <td>Father of the Bride Part II</td>\n",
       "      <td>False</td>\n",
       "      <td>5.7</td>\n",
       "      <td>173.0</td>\n",
       "    </tr>\n",
       "  </tbody>\n",
       "</table>\n",
       "<p>5 rows × 24 columns</p>\n",
       "</div>"
      ],
      "text/plain": [
       "   adult                              belongs_to_collection    budget  \\\n",
       "0  False  {'id': 10194, 'name': 'Toy Story Collection', ...  30000000   \n",
       "1  False                                                NaN  65000000   \n",
       "2  False  {'id': 119050, 'name': 'Grumpy Old Men Collect...         0   \n",
       "3  False                                                NaN  16000000   \n",
       "4  False  {'id': 96871, 'name': 'Father of the Bride Col...         0   \n",
       "\n",
       "                                              genres  \\\n",
       "0  [{'id': 16, 'name': 'Animation'}, {'id': 35, '...   \n",
       "1  [{'id': 12, 'name': 'Adventure'}, {'id': 14, '...   \n",
       "2  [{'id': 10749, 'name': 'Romance'}, {'id': 35, ...   \n",
       "3  [{'id': 35, 'name': 'Comedy'}, {'id': 18, 'nam...   \n",
       "4                     [{'id': 35, 'name': 'Comedy'}]   \n",
       "\n",
       "                               homepage     id    imdb_id original_language  \\\n",
       "0  http://toystory.disney.com/toy-story    862  tt0114709                en   \n",
       "1                                   NaN   8844  tt0113497                en   \n",
       "2                                   NaN  15602  tt0113228                en   \n",
       "3                                   NaN  31357  tt0114885                en   \n",
       "4                                   NaN  11862  tt0113041                en   \n",
       "\n",
       "                original_title  \\\n",
       "0                    Toy Story   \n",
       "1                      Jumanji   \n",
       "2             Grumpier Old Men   \n",
       "3            Waiting to Exhale   \n",
       "4  Father of the Bride Part II   \n",
       "\n",
       "                                            overview  ... release_date  \\\n",
       "0  Led by Woody, Andy's toys live happily in his ...  ...   1995-10-30   \n",
       "1  When siblings Judy and Peter discover an encha...  ...   1995-12-15   \n",
       "2  A family wedding reignites the ancient feud be...  ...   1995-12-22   \n",
       "3  Cheated on, mistreated and stepped on, the wom...  ...   1995-12-22   \n",
       "4  Just when George Banks has recovered from his ...  ...   1995-02-10   \n",
       "\n",
       "       revenue runtime                                   spoken_languages  \\\n",
       "0  373554033.0    81.0           [{'iso_639_1': 'en', 'name': 'English'}]   \n",
       "1  262797249.0   104.0  [{'iso_639_1': 'en', 'name': 'English'}, {'iso...   \n",
       "2          0.0   101.0           [{'iso_639_1': 'en', 'name': 'English'}]   \n",
       "3   81452156.0   127.0           [{'iso_639_1': 'en', 'name': 'English'}]   \n",
       "4   76578911.0   106.0           [{'iso_639_1': 'en', 'name': 'English'}]   \n",
       "\n",
       "     status                                            tagline  \\\n",
       "0  Released                                                NaN   \n",
       "1  Released          Roll the dice and unleash the excitement!   \n",
       "2  Released  Still Yelling. Still Fighting. Still Ready for...   \n",
       "3  Released  Friends are the people who let you be yourself...   \n",
       "4  Released  Just When His World Is Back To Normal... He's ...   \n",
       "\n",
       "                         title  video vote_average vote_count  \n",
       "0                    Toy Story  False          7.7     5415.0  \n",
       "1                      Jumanji  False          6.9     2413.0  \n",
       "2             Grumpier Old Men  False          6.5       92.0  \n",
       "3            Waiting to Exhale  False          6.1       34.0  \n",
       "4  Father of the Bride Part II  False          5.7      173.0  \n",
       "\n",
       "[5 rows x 24 columns]"
      ]
     },
     "execution_count": 18,
     "metadata": {},
     "output_type": "execute_result"
    }
   ],
   "source": [
    "small_genres = movies_metadata[0:5]\n",
    "small_genres"
   ]
  },
  {
   "cell_type": "code",
   "execution_count": 55,
   "id": "cb1b2981",
   "metadata": {},
   "outputs": [
    {
     "ename": "SyntaxError",
     "evalue": "invalid syntax (<ipython-input-55-a285a5866f60>, line 1)",
     "output_type": "error",
     "traceback": [
      "\u001b[1;36m  File \u001b[1;32m\"<ipython-input-55-a285a5866f60>\"\u001b[1;36m, line \u001b[1;32m1\u001b[0m\n\u001b[1;33m    get_list_column(column, key_to_column):\u001b[0m\n\u001b[1;37m                                           ^\u001b[0m\n\u001b[1;31mSyntaxError\u001b[0m\u001b[1;31m:\u001b[0m invalid syntax\n"
     ]
    }
   ],
   "source": [
    "get_list_column(column, key_to_column):\n",
    "    \n",
    "    \n",
    "    \n",
    "    \n",
    "    \n",
    "    \n",
    "    "
   ]
  },
  {
   "cell_type": "code",
   "execution_count": 53,
   "id": "aac8f2f4",
   "metadata": {},
   "outputs": [
    {
     "name": "stderr",
     "output_type": "stream",
     "text": [
      "<ipython-input-53-176e4864b2ed>:20: SettingWithCopyWarning: \n",
      "A value is trying to be set on a copy of a slice from a DataFrame\n",
      "\n",
      "See the caveats in the documentation: https://pandas.pydata.org/pandas-docs/stable/user_guide/indexing.html#returning-a-view-versus-a-copy\n",
      "  genres_column[i_iloc] = genres_id_list\n"
     ]
    },
    {
     "name": "stdout",
     "output_type": "stream",
     "text": [
      "{16: 'Animation', 35: 'Comedy', 10751: 'Family', 12: 'Adventure', 14: 'Fantasy', 10749: 'Romance', 18: 'Drama', 28: 'Action', 80: 'Crime', 53: 'Thriller', 27: 'Horror', 36: 'History', 878: 'Science Fiction', 9648: 'Mystery', 10752: 'War', 10769: 'Foreign', 10402: 'Music', 99: 'Documentary', 37: 'Western', 10770: 'TV Movie', 2883: 'Aniplex', 7759: 'GoHands', 7760: 'BROSTA TV', 7761: 'Mardock Scramble Production Committee', 33751: 'Sentai Filmworks', 17161: 'Odyssey Media', 18012: 'Pulser Productions', 18013: 'Rogue State', 23822: 'The Cartel'}\n"
     ]
    },
    {
     "data": {
      "text/html": [
       "<div>\n",
       "<style scoped>\n",
       "    .dataframe tbody tr th:only-of-type {\n",
       "        vertical-align: middle;\n",
       "    }\n",
       "\n",
       "    .dataframe tbody tr th {\n",
       "        vertical-align: top;\n",
       "    }\n",
       "\n",
       "    .dataframe thead th {\n",
       "        text-align: right;\n",
       "    }\n",
       "</style>\n",
       "<table border=\"1\" class=\"dataframe\">\n",
       "  <thead>\n",
       "    <tr style=\"text-align: right;\">\n",
       "      <th></th>\n",
       "      <th>adult</th>\n",
       "      <th>genres</th>\n",
       "    </tr>\n",
       "  </thead>\n",
       "  <tbody>\n",
       "    <tr>\n",
       "      <th>0</th>\n",
       "      <td>False</td>\n",
       "      <td>[16, 35, 10751]</td>\n",
       "    </tr>\n",
       "    <tr>\n",
       "      <th>1</th>\n",
       "      <td>False</td>\n",
       "      <td>[12, 14, 10751]</td>\n",
       "    </tr>\n",
       "    <tr>\n",
       "      <th>2</th>\n",
       "      <td>False</td>\n",
       "      <td>[10749, 35]</td>\n",
       "    </tr>\n",
       "    <tr>\n",
       "      <th>3</th>\n",
       "      <td>False</td>\n",
       "      <td>[35, 18, 10749]</td>\n",
       "    </tr>\n",
       "    <tr>\n",
       "      <th>4</th>\n",
       "      <td>False</td>\n",
       "      <td>[35]</td>\n",
       "    </tr>\n",
       "    <tr>\n",
       "      <th>...</th>\n",
       "      <td>...</td>\n",
       "      <td>...</td>\n",
       "    </tr>\n",
       "    <tr>\n",
       "      <th>45461</th>\n",
       "      <td>False</td>\n",
       "      <td>[18]</td>\n",
       "    </tr>\n",
       "    <tr>\n",
       "      <th>45462</th>\n",
       "      <td>False</td>\n",
       "      <td>[28, 18, 53]</td>\n",
       "    </tr>\n",
       "    <tr>\n",
       "      <th>45463</th>\n",
       "      <td>False</td>\n",
       "      <td>[]</td>\n",
       "    </tr>\n",
       "    <tr>\n",
       "      <th>45464</th>\n",
       "      <td>False</td>\n",
       "      <td>[]</td>\n",
       "    </tr>\n",
       "    <tr>\n",
       "      <th>45465</th>\n",
       "      <td>False</td>\n",
       "      <td>[]</td>\n",
       "    </tr>\n",
       "  </tbody>\n",
       "</table>\n",
       "<p>45466 rows × 2 columns</p>\n",
       "</div>"
      ],
      "text/plain": [
       "       adult           genres\n",
       "0      False  [16, 35, 10751]\n",
       "1      False  [12, 14, 10751]\n",
       "2      False      [10749, 35]\n",
       "3      False  [35, 18, 10749]\n",
       "4      False             [35]\n",
       "...      ...              ...\n",
       "45461  False             [18]\n",
       "45462  False     [28, 18, 53]\n",
       "45463  False               []\n",
       "45464  False               []\n",
       "45465  False               []\n",
       "\n",
       "[45466 rows x 2 columns]"
      ]
     },
     "execution_count": 53,
     "metadata": {},
     "output_type": "execute_result"
    }
   ],
   "source": [
    "import ast\n",
    "\n",
    "dict_genres = dict()\n",
    "\n",
    "movies_to_analysis[\"genres\"] = movies_metadata[\"genres\"]\n",
    "\n",
    "\n",
    "genres_column = movies_to_analysis[\"genres\"]\n",
    "\n",
    "i_iloc = 0\n",
    "for line in genres_column:\n",
    "    try:\n",
    "        \n",
    "        \n",
    "        line_list = ast.literal_eval(line)\n",
    "\n",
    "\n",
    "        genres_id_list = list()\n",
    "        for i in line_list:\n",
    "            genres_id_list.append(i[\"id\"])\n",
    "            dict_genres[i[\"id\"]] = i[\"name\"]\n",
    "            genres_column[i_iloc] = genres_id_list\n",
    "            \n",
    "\n",
    "        i_iloc+=1\n",
    "    except:\n",
    "        continue\n",
    "    \n",
    "    \n",
    "    \n",
    "print(dict_genres)\n",
    "movies_to_analysis"
   ]
  },
  {
   "cell_type": "code",
   "execution_count": null,
   "id": "7208ca97",
   "metadata": {},
   "outputs": [],
   "source": []
  },
  {
   "cell_type": "code",
   "execution_count": null,
   "id": "5506f19f",
   "metadata": {},
   "outputs": [],
   "source": []
  },
  {
   "cell_type": "code",
   "execution_count": null,
   "id": "9cb7f888",
   "metadata": {},
   "outputs": [],
   "source": []
  },
  {
   "cell_type": "code",
   "execution_count": null,
   "id": "7a9d6043",
   "metadata": {},
   "outputs": [],
   "source": []
  },
  {
   "cell_type": "markdown",
   "id": "bc286355",
   "metadata": {},
   "source": [
    "                            homepage"
   ]
  },
  {
   "cell_type": "code",
   "execution_count": 28,
   "id": "dc0e74c0",
   "metadata": {},
   "outputs": [
    {
     "data": {
      "text/plain": [
       "0.8288391325386003"
      ]
     },
     "execution_count": 28,
     "metadata": {},
     "output_type": "execute_result"
    }
   ],
   "source": [
    "get_part_of_nan(\"homepage\")"
   ]
  },
  {
   "cell_type": "code",
   "execution_count": 75,
   "id": "ac846bbf",
   "metadata": {},
   "outputs": [],
   "source": [
    "# 80 % unknown \n",
    "# Сolumn not required \n",
    "\n"
   ]
  },
  {
   "cell_type": "code",
   "execution_count": null,
   "id": "3a3475e7",
   "metadata": {},
   "outputs": [],
   "source": []
  },
  {
   "cell_type": "markdown",
   "id": "a69e4b9b",
   "metadata": {},
   "source": [
    "                                    original_language"
   ]
  },
  {
   "cell_type": "code",
   "execution_count": 29,
   "id": "54e332c0",
   "metadata": {},
   "outputs": [
    {
     "data": {
      "text/plain": [
       "0.00024193903136409626"
      ]
     },
     "execution_count": 29,
     "metadata": {},
     "output_type": "execute_result"
    }
   ],
   "source": [
    "get_part_of_nan(\"original_language\")"
   ]
  },
  {
   "cell_type": "code",
   "execution_count": 78,
   "id": "3880997f",
   "metadata": {},
   "outputs": [],
   "source": [
    "language_count = movies_metadata[\"original_language\"].value_counts()"
   ]
  },
  {
   "cell_type": "code",
   "execution_count": 80,
   "id": "bf2dc535",
   "metadata": {},
   "outputs": [
    {
     "data": {
      "text/plain": [
       "en    32269\n",
       "fr     2438\n",
       "it     1529\n",
       "ja     1350\n",
       "de     1080\n",
       "      ...  \n",
       "tg        1\n",
       "lb        1\n",
       "qu        1\n",
       "zu        1\n",
       "si        1\n",
       "Name: original_language, Length: 92, dtype: int64"
      ]
     },
     "execution_count": 80,
     "metadata": {},
     "output_type": "execute_result"
    }
   ],
   "source": [
    "language_count\n",
    "\n"
   ]
  },
  {
   "cell_type": "code",
   "execution_count": 83,
   "id": "3638928b",
   "metadata": {},
   "outputs": [],
   "source": [
    "movies_to_analysis[\"original_language\"] = movies_metadata[\"original_language\"]"
   ]
  },
  {
   "cell_type": "code",
   "execution_count": 84,
   "id": "c2b744e2",
   "metadata": {},
   "outputs": [
    {
     "data": {
      "text/html": [
       "<div>\n",
       "<style scoped>\n",
       "    .dataframe tbody tr th:only-of-type {\n",
       "        vertical-align: middle;\n",
       "    }\n",
       "\n",
       "    .dataframe tbody tr th {\n",
       "        vertical-align: top;\n",
       "    }\n",
       "\n",
       "    .dataframe thead th {\n",
       "        text-align: right;\n",
       "    }\n",
       "</style>\n",
       "<table border=\"1\" class=\"dataframe\">\n",
       "  <thead>\n",
       "    <tr style=\"text-align: right;\">\n",
       "      <th></th>\n",
       "      <th>adult</th>\n",
       "      <th>genres</th>\n",
       "      <th>original_language</th>\n",
       "    </tr>\n",
       "  </thead>\n",
       "  <tbody>\n",
       "    <tr>\n",
       "      <th>0</th>\n",
       "      <td>False</td>\n",
       "      <td>[16, 35, 10751]</td>\n",
       "      <td>en</td>\n",
       "    </tr>\n",
       "    <tr>\n",
       "      <th>1</th>\n",
       "      <td>False</td>\n",
       "      <td>[12, 14, 10751]</td>\n",
       "      <td>en</td>\n",
       "    </tr>\n",
       "    <tr>\n",
       "      <th>2</th>\n",
       "      <td>False</td>\n",
       "      <td>[10749, 35]</td>\n",
       "      <td>en</td>\n",
       "    </tr>\n",
       "    <tr>\n",
       "      <th>3</th>\n",
       "      <td>False</td>\n",
       "      <td>[35, 18, 10749]</td>\n",
       "      <td>en</td>\n",
       "    </tr>\n",
       "    <tr>\n",
       "      <th>4</th>\n",
       "      <td>False</td>\n",
       "      <td>[35]</td>\n",
       "      <td>en</td>\n",
       "    </tr>\n",
       "    <tr>\n",
       "      <th>...</th>\n",
       "      <td>...</td>\n",
       "      <td>...</td>\n",
       "      <td>...</td>\n",
       "    </tr>\n",
       "    <tr>\n",
       "      <th>45461</th>\n",
       "      <td>False</td>\n",
       "      <td>[18]</td>\n",
       "      <td>fa</td>\n",
       "    </tr>\n",
       "    <tr>\n",
       "      <th>45462</th>\n",
       "      <td>False</td>\n",
       "      <td>[28, 18, 53]</td>\n",
       "      <td>tl</td>\n",
       "    </tr>\n",
       "    <tr>\n",
       "      <th>45463</th>\n",
       "      <td>False</td>\n",
       "      <td>[]</td>\n",
       "      <td>en</td>\n",
       "    </tr>\n",
       "    <tr>\n",
       "      <th>45464</th>\n",
       "      <td>False</td>\n",
       "      <td>[]</td>\n",
       "      <td>en</td>\n",
       "    </tr>\n",
       "    <tr>\n",
       "      <th>45465</th>\n",
       "      <td>False</td>\n",
       "      <td>[]</td>\n",
       "      <td>en</td>\n",
       "    </tr>\n",
       "  </tbody>\n",
       "</table>\n",
       "<p>45466 rows × 3 columns</p>\n",
       "</div>"
      ],
      "text/plain": [
       "       adult           genres original_language\n",
       "0      False  [16, 35, 10751]                en\n",
       "1      False  [12, 14, 10751]                en\n",
       "2      False      [10749, 35]                en\n",
       "3      False  [35, 18, 10749]                en\n",
       "4      False             [35]                en\n",
       "...      ...              ...               ...\n",
       "45461  False             [18]                fa\n",
       "45462  False     [28, 18, 53]                tl\n",
       "45463  False               []                en\n",
       "45464  False               []                en\n",
       "45465  False               []                en\n",
       "\n",
       "[45466 rows x 3 columns]"
      ]
     },
     "execution_count": 84,
     "metadata": {},
     "output_type": "execute_result"
    }
   ],
   "source": [
    "movies_to_analysis"
   ]
  },
  {
   "cell_type": "markdown",
   "id": "422f1759",
   "metadata": {},
   "source": [
    "                                            overview"
   ]
  },
  {
   "cell_type": "code",
   "execution_count": 85,
   "id": "0fcb4dda",
   "metadata": {},
   "outputs": [
    {
     "data": {
      "text/plain": [
       "0.020982712356486164"
      ]
     },
     "execution_count": 85,
     "metadata": {},
     "output_type": "execute_result"
    }
   ],
   "source": [
    "get_part_of_nan(\"overview\")"
   ]
  },
  {
   "cell_type": "code",
   "execution_count": 7,
   "id": "d121b83d",
   "metadata": {},
   "outputs": [
    {
     "data": {
      "text/plain": [
       "0        Led by Woody, Andy's toys live happily in his ...\n",
       "1        When siblings Judy and Peter discover an encha...\n",
       "2        A family wedding reignites the ancient feud be...\n",
       "3        Cheated on, mistreated and stepped on, the wom...\n",
       "4        Just when George Banks has recovered from his ...\n",
       "                               ...                        \n",
       "45461          Rising and falling between a man and woman.\n",
       "45462    An artist struggles to finish his work while a...\n",
       "45463    When one of her hits goes wrong, a professiona...\n",
       "45464    In a small town live two brothers, one a minis...\n",
       "45465    50 years after decriminalisation of homosexual...\n",
       "Name: overview, Length: 45448, dtype: object"
      ]
     },
     "execution_count": 7,
     "metadata": {},
     "output_type": "execute_result"
    }
   ],
   "source": [
    "movies_metadata[\"overview\"]"
   ]
  },
  {
   "cell_type": "code",
   "execution_count": 8,
   "id": "458e2da6",
   "metadata": {},
   "outputs": [],
   "source": [
    "from sklearn.feature_extraction.text import TfidfVectorizer\n",
    "from sklearn.cluster import KMeans"
   ]
  },
  {
   "cell_type": "code",
   "execution_count": 10,
   "id": "18f3c7d0",
   "metadata": {},
   "outputs": [
    {
     "data": {
      "text/plain": [
       "array([\"Led by Woody, Andy's toys live happily in his room until Andy's birthday brings Buzz Lightyear onto the scene. Afraid of losing his place in Andy's heart, Woody plots against Buzz. But when circumstances separate Buzz and Woody from their owner, the duo eventually learns to put aside their differences.\",\n",
       "       \"When siblings Judy and Peter discover an enchanted board game that opens the door to a magical world, they unwittingly invite Alan -- an adult who's been trapped inside the game for 26 years -- into their living room. Alan's only hope for freedom is to finish the game, which proves risky as all three find themselves running from giant rhinoceroses, evil monkeys and other terrifying creatures.\",\n",
       "       \"A family wedding reignites the ancient feud between next-door neighbors and fishing buddies John and Max. Meanwhile, a sultry Italian divorcée opens a restaurant at the local bait shop, alarming the locals who worry she'll scare the fish away. But she's less interested in seafood than she is in cooking up a hot time with Max.\",\n",
       "       ...,\n",
       "       'When one of her hits goes wrong, a professional assassin ends up with a suitcase full of a million dollars belonging to a mob boss ...',\n",
       "       \"In a small town live two brothers, one a minister and the other one a hunchback painter of the chapel who lives with his wife. One dreadful and stormy night, a stranger knocks at the door asking for shelter. The stranger talks about all the good things of the earthly life the minister is missing because of his puritanical faith. The minister comes to accept the stranger's viewpoint but it is others who will pay the consequences because the minister will discover the human pleasures thanks to, ehem, his sister- in -law… The tormented minister and his cuckolded brother will die in a strange accident in the chapel and later an infant will be born from the minister's adulterous relationship.\",\n",
       "       '50 years after decriminalisation of homosexuality in the UK, director Daisy Asquith mines the jewels of the BFI archive to take us into the relationships, desires, fears and expressions of gay men and women in the 20th century.'],\n",
       "      dtype='<U1000')"
      ]
     },
     "execution_count": 10,
     "metadata": {},
     "output_type": "execute_result"
    }
   ],
   "source": [
    "unicode_overview = movies_metadata[\"overview\"].values.astype('U')"
   ]
  },
  {
   "cell_type": "code",
   "execution_count": 12,
   "id": "cd825d10",
   "metadata": {},
   "outputs": [],
   "source": [
    "vectorizer = TfidfVectorizer(stop_words='english')\n",
    "features = vectorizer.fit_transform(unicode_overview)"
   ]
  },
  {
   "cell_type": "code",
   "execution_count": 15,
   "id": "ed2aa76a",
   "metadata": {},
   "outputs": [
    {
     "data": {
      "text/plain": [
       "KMeans(max_iter=100, n_clusters=10, n_init=1)"
      ]
     },
     "execution_count": 15,
     "metadata": {},
     "output_type": "execute_result"
    }
   ],
   "source": [
    "k = 10\n",
    "model = KMeans(n_clusters=k, init='k-means++', max_iter=100, n_init=1)\n",
    "model.fit(features)"
   ]
  },
  {
   "cell_type": "code",
   "execution_count": 16,
   "id": "2152af4c",
   "metadata": {},
   "outputs": [
    {
     "name": "stdout",
     "output_type": "stream",
     "text": [
      "Cluster 0:\n",
      " life\n",
      " man\n",
      " young\n",
      " love\n",
      " new\n",
      " story\n",
      " time\n",
      " group\n",
      " friends\n",
      " wife\n",
      "------------\n",
      "Cluster 1:\n",
      " world\n",
      " war\n",
      " ii\n",
      " story\n",
      " life\n",
      " young\n",
      " american\n",
      " new\n",
      " man\n",
      " civil\n",
      "------------\n",
      "Cluster 2:\n",
      " family\n",
      " father\n",
      " old\n",
      " mother\n",
      " year\n",
      " life\n",
      " son\n",
      " home\n",
      " young\n",
      " man\n",
      "------------\n",
      "Cluster 3:\n",
      " town\n",
      " small\n",
      " new\n",
      " local\n",
      " sheriff\n",
      " life\n",
      " young\n",
      " man\n",
      " family\n",
      " girl\n",
      "------------\n",
      "Cluster 4:\n",
      " overview\n",
      " available\n",
      " movie\n",
      " plot\n",
      " g9\n",
      " g8\n",
      " ga\n",
      " g2\n",
      " fяed\n",
      " gaan\n",
      "------------\n",
      "Cluster 5:\n",
      " nan\n",
      " förlåt\n",
      " förstås\n",
      " försöker\n",
      " først\n",
      " første\n",
      " fúsi\n",
      " führer\n",
      " für\n",
      " fяed\n",
      "------------\n",
      "Cluster 6:\n",
      " film\n",
      " documentary\n",
      " story\n",
      " directed\n",
      " director\n",
      " life\n",
      " based\n",
      " movie\n",
      " feature\n",
      " man\n",
      "------------\n",
      "Cluster 7:\n",
      " police\n",
      " murder\n",
      " killer\n",
      " detective\n",
      " cop\n",
      " case\n",
      " serial\n",
      " man\n",
      " crime\n",
      " officer\n",
      "------------\n",
      "Cluster 8:\n",
      " school\n",
      " high\n",
      " teacher\n",
      " students\n",
      " student\n",
      " girl\n",
      " new\n",
      " girls\n",
      " friends\n",
      " year\n",
      "------------\n",
      "Cluster 9:\n",
      " woman\n",
      " young\n",
      " man\n",
      " love\n",
      " husband\n",
      " life\n",
      " falls\n",
      " finds\n",
      " new\n",
      " story\n",
      "------------\n"
     ]
    }
   ],
   "source": [
    "order_centroids = model.cluster_centers_.argsort()[:, ::-1]\n",
    "terms = vectorizer.get_feature_names()\n",
    "\n",
    "for i in range(k):\n",
    "    print(\"Cluster %d:\" % i)\n",
    "    for j in order_centroids[i, :10]: #print out 10 feature terms of each cluster\n",
    "        print (' %s' % terms[j])\n",
    "    print('------------')"
   ]
  },
  {
   "cell_type": "code",
   "execution_count": null,
   "id": "2695bf7c",
   "metadata": {},
   "outputs": [],
   "source": []
  },
  {
   "cell_type": "code",
   "execution_count": null,
   "id": "aaa3ea35",
   "metadata": {},
   "outputs": [],
   "source": [
    "k = range(2,25)\n",
    "models = [KMeans(n_clusters = i, random_state = 42).fit(features) for i in k]\n",
    "dist = [m.inertia_ for m in models]\n",
    "\n",
    "plt.plot(k, dist)"
   ]
  },
  {
   "cell_type": "code",
   "execution_count": null,
   "id": "e199efed",
   "metadata": {},
   "outputs": [],
   "source": []
  },
  {
   "cell_type": "code",
   "execution_count": null,
   "id": "d7e04ead",
   "metadata": {},
   "outputs": [],
   "source": [
    "                                            popularity"
   ]
  },
  {
   "cell_type": "code",
   "execution_count": 88,
   "id": "7a52679a",
   "metadata": {},
   "outputs": [
    {
     "data": {
      "text/plain": [
       "0.00010997228698368012"
      ]
     },
     "execution_count": 88,
     "metadata": {},
     "output_type": "execute_result"
    }
   ],
   "source": [
    "get_part_of_nan(\"popularity\")"
   ]
  },
  {
   "cell_type": "code",
   "execution_count": 87,
   "id": "a05c7987",
   "metadata": {},
   "outputs": [
    {
     "data": {
      "text/plain": [
       "0        21.946943\n",
       "1        17.015539\n",
       "2          11.7129\n",
       "3         3.859495\n",
       "4         8.387519\n",
       "           ...    \n",
       "45461     0.072051\n",
       "45462     0.178241\n",
       "45463     0.903007\n",
       "45464     0.003503\n",
       "45465     0.163015\n",
       "Name: popularity, Length: 45466, dtype: object"
      ]
     },
     "execution_count": 87,
     "metadata": {},
     "output_type": "execute_result"
    }
   ],
   "source": [
    "movies_metadata[\"popularity\"]"
   ]
  },
  {
   "cell_type": "code",
   "execution_count": 93,
   "id": "31e08784",
   "metadata": {},
   "outputs": [],
   "source": [
    "movies_to_analysis[\"popularity\"] = movies_metadata[\"popularity\"]"
   ]
  },
  {
   "cell_type": "code",
   "execution_count": 95,
   "id": "c601d7b8",
   "metadata": {},
   "outputs": [],
   "source": [
    "movies_to_analysis[\"popularity\"] = pd.to_numeric(movies_to_analysis[\"popularity\"], errors='coerce')"
   ]
  },
  {
   "cell_type": "code",
   "execution_count": 91,
   "id": "329ffd79",
   "metadata": {},
   "outputs": [
    {
     "data": {
      "text/plain": [
       "adult                     object\n",
       "belongs_to_collection     object\n",
       "budget                    object\n",
       "genres                    object\n",
       "homepage                  object\n",
       "id                        object\n",
       "imdb_id                   object\n",
       "original_language         object\n",
       "original_title            object\n",
       "overview                  object\n",
       "popularity                object\n",
       "poster_path               object\n",
       "production_companies      object\n",
       "production_countries      object\n",
       "release_date              object\n",
       "revenue                  float64\n",
       "runtime                  float64\n",
       "spoken_languages          object\n",
       "status                    object\n",
       "tagline                   object\n",
       "title                     object\n",
       "video                     object\n",
       "vote_average             float64\n",
       "vote_count               float64\n",
       "dtype: object"
      ]
     },
     "execution_count": 91,
     "metadata": {},
     "output_type": "execute_result"
    }
   ],
   "source": [
    "movies_metadata.dtypes"
   ]
  },
  {
   "cell_type": "code",
   "execution_count": 96,
   "id": "924fbbeb",
   "metadata": {},
   "outputs": [
    {
     "data": {
      "text/html": [
       "<div>\n",
       "<style scoped>\n",
       "    .dataframe tbody tr th:only-of-type {\n",
       "        vertical-align: middle;\n",
       "    }\n",
       "\n",
       "    .dataframe tbody tr th {\n",
       "        vertical-align: top;\n",
       "    }\n",
       "\n",
       "    .dataframe thead th {\n",
       "        text-align: right;\n",
       "    }\n",
       "</style>\n",
       "<table border=\"1\" class=\"dataframe\">\n",
       "  <thead>\n",
       "    <tr style=\"text-align: right;\">\n",
       "      <th></th>\n",
       "      <th>adult</th>\n",
       "      <th>genres</th>\n",
       "      <th>original_language</th>\n",
       "      <th>popularity</th>\n",
       "    </tr>\n",
       "  </thead>\n",
       "  <tbody>\n",
       "    <tr>\n",
       "      <th>0</th>\n",
       "      <td>False</td>\n",
       "      <td>[16, 35, 10751]</td>\n",
       "      <td>en</td>\n",
       "      <td>21.946943</td>\n",
       "    </tr>\n",
       "    <tr>\n",
       "      <th>1</th>\n",
       "      <td>False</td>\n",
       "      <td>[12, 14, 10751]</td>\n",
       "      <td>en</td>\n",
       "      <td>17.015539</td>\n",
       "    </tr>\n",
       "    <tr>\n",
       "      <th>2</th>\n",
       "      <td>False</td>\n",
       "      <td>[10749, 35]</td>\n",
       "      <td>en</td>\n",
       "      <td>11.712900</td>\n",
       "    </tr>\n",
       "    <tr>\n",
       "      <th>3</th>\n",
       "      <td>False</td>\n",
       "      <td>[35, 18, 10749]</td>\n",
       "      <td>en</td>\n",
       "      <td>3.859495</td>\n",
       "    </tr>\n",
       "    <tr>\n",
       "      <th>4</th>\n",
       "      <td>False</td>\n",
       "      <td>[35]</td>\n",
       "      <td>en</td>\n",
       "      <td>8.387519</td>\n",
       "    </tr>\n",
       "    <tr>\n",
       "      <th>...</th>\n",
       "      <td>...</td>\n",
       "      <td>...</td>\n",
       "      <td>...</td>\n",
       "      <td>...</td>\n",
       "    </tr>\n",
       "    <tr>\n",
       "      <th>45461</th>\n",
       "      <td>False</td>\n",
       "      <td>[18]</td>\n",
       "      <td>fa</td>\n",
       "      <td>0.072051</td>\n",
       "    </tr>\n",
       "    <tr>\n",
       "      <th>45462</th>\n",
       "      <td>False</td>\n",
       "      <td>[28, 18, 53]</td>\n",
       "      <td>tl</td>\n",
       "      <td>0.178241</td>\n",
       "    </tr>\n",
       "    <tr>\n",
       "      <th>45463</th>\n",
       "      <td>False</td>\n",
       "      <td>[]</td>\n",
       "      <td>en</td>\n",
       "      <td>0.903007</td>\n",
       "    </tr>\n",
       "    <tr>\n",
       "      <th>45464</th>\n",
       "      <td>False</td>\n",
       "      <td>[]</td>\n",
       "      <td>en</td>\n",
       "      <td>0.003503</td>\n",
       "    </tr>\n",
       "    <tr>\n",
       "      <th>45465</th>\n",
       "      <td>False</td>\n",
       "      <td>[]</td>\n",
       "      <td>en</td>\n",
       "      <td>0.163015</td>\n",
       "    </tr>\n",
       "  </tbody>\n",
       "</table>\n",
       "<p>45466 rows × 4 columns</p>\n",
       "</div>"
      ],
      "text/plain": [
       "       adult           genres original_language  popularity\n",
       "0      False  [16, 35, 10751]                en   21.946943\n",
       "1      False  [12, 14, 10751]                en   17.015539\n",
       "2      False      [10749, 35]                en   11.712900\n",
       "3      False  [35, 18, 10749]                en    3.859495\n",
       "4      False             [35]                en    8.387519\n",
       "...      ...              ...               ...         ...\n",
       "45461  False             [18]                fa    0.072051\n",
       "45462  False     [28, 18, 53]                tl    0.178241\n",
       "45463  False               []                en    0.903007\n",
       "45464  False               []                en    0.003503\n",
       "45465  False               []                en    0.163015\n",
       "\n",
       "[45466 rows x 4 columns]"
      ]
     },
     "execution_count": 96,
     "metadata": {},
     "output_type": "execute_result"
    }
   ],
   "source": []
  },
  {
   "cell_type": "code",
   "execution_count": null,
   "id": "9027dcd5",
   "metadata": {},
   "outputs": [],
   "source": [
    "                                            poster_path               "
   ]
  },
  {
   "cell_type": "code",
   "execution_count": 98,
   "id": "ef27e7ce",
   "metadata": {},
   "outputs": [
    {
     "data": {
      "text/plain": [
       "0.00010997228698368012"
      ]
     },
     "execution_count": 98,
     "metadata": {},
     "output_type": "execute_result"
    }
   ],
   "source": [
    "get_part_of_nan(\"popularity\")"
   ]
  },
  {
   "cell_type": "code",
   "execution_count": 97,
   "id": "473e1cda",
   "metadata": {},
   "outputs": [
    {
     "data": {
      "text/plain": [
       "0        /rhIRbceoE9lR4veEXuwCC2wARtG.jpg\n",
       "1        /vzmL6fP7aPKNKPRTFnZmiUfciyV.jpg\n",
       "2        /6ksm1sjKMFLbO7UY2i6G1ju9SML.jpg\n",
       "3        /16XOMpEaLWkrcPqSQqhTmeJuqQl.jpg\n",
       "4        /e64sOI48hQXyru7naBFyssKFxVd.jpg\n",
       "                       ...               \n",
       "45461    /jldsYflnId4tTWPx8es3uzsB1I8.jpg\n",
       "45462    /xZkmxsNmYXJbKVsTRLLx3pqGHx7.jpg\n",
       "45463    /d5bX92nDsISNhu3ZT69uHwmfCGw.jpg\n",
       "45464    /aorBPO7ak8e8iJKT5OcqYxU3jlK.jpg\n",
       "45465    /s5UkZt6NTsrS7ZF0Rh8nzupRlIU.jpg\n",
       "Name: poster_path, Length: 45466, dtype: object"
      ]
     },
     "execution_count": 97,
     "metadata": {},
     "output_type": "execute_result"
    }
   ],
   "source": [
    "movies_metadata[\"poster_path\"]"
   ]
  },
  {
   "cell_type": "markdown",
   "id": "2dd263ed",
   "metadata": {},
   "source": [
    "                                production_companies      "
   ]
  },
  {
   "cell_type": "code",
   "execution_count": 99,
   "id": "69e8c5e9",
   "metadata": {},
   "outputs": [
    {
     "data": {
      "text/plain": [
       "6.598337219020806e-05"
      ]
     },
     "execution_count": 99,
     "metadata": {},
     "output_type": "execute_result"
    }
   ],
   "source": [
    "get_part_of_nan(\"production_companies\")"
   ]
  },
  {
   "cell_type": "code",
   "execution_count": 101,
   "id": "f3bc4068",
   "metadata": {},
   "outputs": [
    {
     "data": {
      "text/plain": [
       "\"[{'name': 'TriStar Pictures', 'id': 559}, {'name': 'Teitler Film', 'id': 2550}, {'name': 'Interscope Communications', 'id': 10201}]\""
      ]
     },
     "execution_count": 101,
     "metadata": {},
     "output_type": "execute_result"
    }
   ],
   "source": [
    "movies_metadata[\"production_companies\"][1]"
   ]
  },
  {
   "cell_type": "code",
   "execution_count": null,
   "id": "073ba68e",
   "metadata": {},
   "outputs": [],
   "source": [
    "# like genres"
   ]
  },
  {
   "cell_type": "markdown",
   "id": "58f10511",
   "metadata": {},
   "source": [
    "                                    production_countries      "
   ]
  },
  {
   "cell_type": "code",
   "execution_count": 102,
   "id": "8601fe0c",
   "metadata": {},
   "outputs": [
    {
     "data": {
      "text/plain": [
       "6.598337219020806e-05"
      ]
     },
     "execution_count": 102,
     "metadata": {},
     "output_type": "execute_result"
    }
   ],
   "source": [
    "get_part_of_nan(\"production_countries\")"
   ]
  },
  {
   "cell_type": "code",
   "execution_count": 109,
   "id": "cf6ae9f6",
   "metadata": {},
   "outputs": [
    {
     "data": {
      "text/plain": [
       "\"[{'iso_3166_1': 'CH', 'name': 'Switzerland'}, {'iso_3166_1': 'GE', 'name': 'Georgia'}, {'iso_3166_1': 'CZ', 'name': 'Czech Republic'}, {'iso_3166_1': 'FR', 'name': 'France'}, {'iso_3166_1': 'DE', 'name': 'Germany'}, {'iso_3166_1': 'HU', 'name': 'Hungary'}, {'iso_3166_1': 'KZ', 'name': 'Kazakhstan'}]\""
      ]
     },
     "execution_count": 109,
     "metadata": {},
     "output_type": "execute_result"
    }
   ],
   "source": [
    "movies_metadata[\"production_countries\"][24345]"
   ]
  },
  {
   "cell_type": "code",
   "execution_count": null,
   "id": "b92642b1",
   "metadata": {},
   "outputs": [],
   "source": [
    "                                    release_date              "
   ]
  },
  {
   "cell_type": "code",
   "execution_count": 110,
   "id": "0df3826e",
   "metadata": {},
   "outputs": [
    {
     "data": {
      "text/plain": [
       "0.001913517793516034"
      ]
     },
     "execution_count": 110,
     "metadata": {},
     "output_type": "execute_result"
    }
   ],
   "source": [
    "get_part_of_nan(\"release_date\")"
   ]
  },
  {
   "cell_type": "code",
   "execution_count": 112,
   "id": "869c3049",
   "metadata": {},
   "outputs": [
    {
     "data": {
      "text/plain": [
       "0        1995-10-30\n",
       "1        1995-12-15\n",
       "2        1995-12-22\n",
       "3        1995-12-22\n",
       "4        1995-02-10\n",
       "            ...    \n",
       "45461           NaN\n",
       "45462    2011-11-17\n",
       "45463    2003-08-01\n",
       "45464    1917-10-21\n",
       "45465    2017-06-09\n",
       "Name: release_date, Length: 45466, dtype: object"
      ]
     },
     "execution_count": 112,
     "metadata": {},
     "output_type": "execute_result"
    }
   ],
   "source": [
    "movies_metadata[\"release_date\"]"
   ]
  },
  {
   "cell_type": "code",
   "execution_count": null,
   "id": "0f6e42a9",
   "metadata": {},
   "outputs": [],
   "source": [
    "                                    revenue                  "
   ]
  },
  {
   "cell_type": "code",
   "execution_count": 115,
   "id": "c96b06f5",
   "metadata": {},
   "outputs": [
    {
     "data": {
      "text/plain": [
       "0.00013196674438041613"
      ]
     },
     "execution_count": 115,
     "metadata": {},
     "output_type": "execute_result"
    }
   ],
   "source": [
    "get_part_of_nan(\"revenue\")"
   ]
  },
  {
   "cell_type": "code",
   "execution_count": 116,
   "id": "b589ee3b",
   "metadata": {},
   "outputs": [
    {
     "data": {
      "text/plain": [
       "0        373554033.0\n",
       "1        262797249.0\n",
       "2                0.0\n",
       "3         81452156.0\n",
       "4         76578911.0\n",
       "            ...     \n",
       "45461            0.0\n",
       "45462            0.0\n",
       "45463            0.0\n",
       "45464            0.0\n",
       "45465            0.0\n",
       "Name: revenue, Length: 45466, dtype: float64"
      ]
     },
     "execution_count": 116,
     "metadata": {},
     "output_type": "execute_result"
    }
   ],
   "source": [
    "movies_metadata[\"revenue\"]"
   ]
  },
  {
   "cell_type": "code",
   "execution_count": 117,
   "id": "b7f44604",
   "metadata": {},
   "outputs": [
    {
     "data": {
      "text/plain": [
       "0.8369330928605991"
      ]
     },
     "execution_count": 117,
     "metadata": {},
     "output_type": "execute_result"
    }
   ],
   "source": [
    "movies_metadata[\"revenue\"][movies_metadata[\"revenue\"] == 0].count() / count_of_rows\n",
    "# not need"
   ]
  },
  {
   "cell_type": "code",
   "execution_count": null,
   "id": "1078671a",
   "metadata": {},
   "outputs": [],
   "source": [
    "                                runtime                  "
   ]
  },
  {
   "cell_type": "code",
   "execution_count": 118,
   "id": "a4c23512",
   "metadata": {},
   "outputs": [
    {
     "data": {
      "text/plain": [
       "0.005784542295341574"
      ]
     },
     "execution_count": 118,
     "metadata": {},
     "output_type": "execute_result"
    }
   ],
   "source": [
    "get_part_of_nan(\"runtime\")"
   ]
  },
  {
   "cell_type": "code",
   "execution_count": 119,
   "id": "2d5e4b1a",
   "metadata": {},
   "outputs": [
    {
     "data": {
      "text/plain": [
       "0         81.0\n",
       "1        104.0\n",
       "2        101.0\n",
       "3        127.0\n",
       "4        106.0\n",
       "         ...  \n",
       "45461     90.0\n",
       "45462    360.0\n",
       "45463     90.0\n",
       "45464     87.0\n",
       "45465     75.0\n",
       "Name: runtime, Length: 45466, dtype: float64"
      ]
     },
     "execution_count": 119,
     "metadata": {},
     "output_type": "execute_result"
    }
   ],
   "source": [
    "movies_metadata[\"runtime\"]"
   ]
  },
  {
   "cell_type": "code",
   "execution_count": null,
   "id": "7ea00389",
   "metadata": {},
   "outputs": [],
   "source": [
    "spoken_languages          object\n",
    "status                    object\n",
    "tagline                   object\n",
    "title                     object\n",
    "video                     object\n",
    "vote_average             float64\n",
    "vote_count               float64"
   ]
  },
  {
   "cell_type": "code",
   "execution_count": null,
   "id": "6c669e2e",
   "metadata": {},
   "outputs": [],
   "source": [
    "                                    spoken_languages"
   ]
  },
  {
   "cell_type": "code",
   "execution_count": 120,
   "id": "9ec66fc0",
   "metadata": {},
   "outputs": [
    {
     "data": {
      "text/plain": [
       "0.00013196674438041613"
      ]
     },
     "execution_count": 120,
     "metadata": {},
     "output_type": "execute_result"
    }
   ],
   "source": [
    "get_part_of_nan(\"spoken_languages\")"
   ]
  },
  {
   "cell_type": "code",
   "execution_count": 121,
   "id": "46bd21ff",
   "metadata": {},
   "outputs": [
    {
     "data": {
      "text/plain": [
       "0                 [{'iso_639_1': 'en', 'name': 'English'}]\n",
       "1        [{'iso_639_1': 'en', 'name': 'English'}, {'iso...\n",
       "2                 [{'iso_639_1': 'en', 'name': 'English'}]\n",
       "3                 [{'iso_639_1': 'en', 'name': 'English'}]\n",
       "4                 [{'iso_639_1': 'en', 'name': 'English'}]\n",
       "                               ...                        \n",
       "45461               [{'iso_639_1': 'fa', 'name': 'فارسی'}]\n",
       "45462                    [{'iso_639_1': 'tl', 'name': ''}]\n",
       "45463             [{'iso_639_1': 'en', 'name': 'English'}]\n",
       "45464                                                   []\n",
       "45465             [{'iso_639_1': 'en', 'name': 'English'}]\n",
       "Name: spoken_languages, Length: 45466, dtype: object"
      ]
     },
     "execution_count": 121,
     "metadata": {},
     "output_type": "execute_result"
    }
   ],
   "source": [
    "movies_metadata[\"spoken_languages\"]"
   ]
  },
  {
   "cell_type": "code",
   "execution_count": 122,
   "id": "03eb05ee",
   "metadata": {},
   "outputs": [
    {
     "data": {
      "text/plain": [
       "0.08421677737210223"
      ]
     },
     "execution_count": 122,
     "metadata": {},
     "output_type": "execute_result"
    }
   ],
   "source": [
    "movies_metadata[\"spoken_languages\"][movies_metadata[\"spoken_languages\"] == \"[]\"].count() / count_of_rows"
   ]
  },
  {
   "cell_type": "code",
   "execution_count": null,
   "id": "20c3244d",
   "metadata": {},
   "outputs": [],
   "source": [
    "                                    status"
   ]
  },
  {
   "cell_type": "code",
   "execution_count": 123,
   "id": "1af2e73c",
   "metadata": {},
   "outputs": [
    {
     "data": {
      "text/plain": [
       "0.001913517793516034"
      ]
     },
     "execution_count": 123,
     "metadata": {},
     "output_type": "execute_result"
    }
   ],
   "source": [
    "get_part_of_nan(\"status\")"
   ]
  },
  {
   "cell_type": "code",
   "execution_count": 125,
   "id": "4052c613",
   "metadata": {},
   "outputs": [
    {
     "data": {
      "text/plain": [
       "Released           45014\n",
       "Rumored              230\n",
       "Post Production       98\n",
       "In Production         20\n",
       "Planned               15\n",
       "Canceled               2\n",
       "Name: status, dtype: int64"
      ]
     },
     "execution_count": 125,
     "metadata": {},
     "output_type": "execute_result"
    }
   ],
   "source": [
    "movies_metadata[\"status\"].value_counts()"
   ]
  },
  {
   "cell_type": "code",
   "execution_count": null,
   "id": "3537f2f7",
   "metadata": {},
   "outputs": [],
   "source": []
  },
  {
   "cell_type": "code",
   "execution_count": null,
   "id": "92112a50",
   "metadata": {},
   "outputs": [],
   "source": []
  },
  {
   "cell_type": "code",
   "execution_count": null,
   "id": "02e45b30",
   "metadata": {},
   "outputs": [],
   "source": []
  },
  {
   "cell_type": "code",
   "execution_count": 5,
   "id": "9abf5a36",
   "metadata": {},
   "outputs": [
    {
     "data": {
      "text/html": [
       "<div>\n",
       "<style scoped>\n",
       "    .dataframe tbody tr th:only-of-type {\n",
       "        vertical-align: middle;\n",
       "    }\n",
       "\n",
       "    .dataframe tbody tr th {\n",
       "        vertical-align: top;\n",
       "    }\n",
       "\n",
       "    .dataframe thead th {\n",
       "        text-align: right;\n",
       "    }\n",
       "</style>\n",
       "<table border=\"1\" class=\"dataframe\">\n",
       "  <thead>\n",
       "    <tr style=\"text-align: right;\">\n",
       "      <th></th>\n",
       "      <th>userId</th>\n",
       "      <th>movieId</th>\n",
       "      <th>rating</th>\n",
       "      <th>timestamp</th>\n",
       "    </tr>\n",
       "  </thead>\n",
       "  <tbody>\n",
       "    <tr>\n",
       "      <th>0</th>\n",
       "      <td>1</td>\n",
       "      <td>31</td>\n",
       "      <td>2.5</td>\n",
       "      <td>1260759144</td>\n",
       "    </tr>\n",
       "    <tr>\n",
       "      <th>1</th>\n",
       "      <td>1</td>\n",
       "      <td>1029</td>\n",
       "      <td>3.0</td>\n",
       "      <td>1260759179</td>\n",
       "    </tr>\n",
       "    <tr>\n",
       "      <th>2</th>\n",
       "      <td>1</td>\n",
       "      <td>1061</td>\n",
       "      <td>3.0</td>\n",
       "      <td>1260759182</td>\n",
       "    </tr>\n",
       "    <tr>\n",
       "      <th>3</th>\n",
       "      <td>1</td>\n",
       "      <td>1129</td>\n",
       "      <td>2.0</td>\n",
       "      <td>1260759185</td>\n",
       "    </tr>\n",
       "    <tr>\n",
       "      <th>4</th>\n",
       "      <td>1</td>\n",
       "      <td>1172</td>\n",
       "      <td>4.0</td>\n",
       "      <td>1260759205</td>\n",
       "    </tr>\n",
       "    <tr>\n",
       "      <th>...</th>\n",
       "      <td>...</td>\n",
       "      <td>...</td>\n",
       "      <td>...</td>\n",
       "      <td>...</td>\n",
       "    </tr>\n",
       "    <tr>\n",
       "      <th>99999</th>\n",
       "      <td>671</td>\n",
       "      <td>6268</td>\n",
       "      <td>2.5</td>\n",
       "      <td>1065579370</td>\n",
       "    </tr>\n",
       "    <tr>\n",
       "      <th>100000</th>\n",
       "      <td>671</td>\n",
       "      <td>6269</td>\n",
       "      <td>4.0</td>\n",
       "      <td>1065149201</td>\n",
       "    </tr>\n",
       "    <tr>\n",
       "      <th>100001</th>\n",
       "      <td>671</td>\n",
       "      <td>6365</td>\n",
       "      <td>4.0</td>\n",
       "      <td>1070940363</td>\n",
       "    </tr>\n",
       "    <tr>\n",
       "      <th>100002</th>\n",
       "      <td>671</td>\n",
       "      <td>6385</td>\n",
       "      <td>2.5</td>\n",
       "      <td>1070979663</td>\n",
       "    </tr>\n",
       "    <tr>\n",
       "      <th>100003</th>\n",
       "      <td>671</td>\n",
       "      <td>6565</td>\n",
       "      <td>3.5</td>\n",
       "      <td>1074784724</td>\n",
       "    </tr>\n",
       "  </tbody>\n",
       "</table>\n",
       "<p>100004 rows × 4 columns</p>\n",
       "</div>"
      ],
      "text/plain": [
       "        userId  movieId  rating   timestamp\n",
       "0            1       31     2.5  1260759144\n",
       "1            1     1029     3.0  1260759179\n",
       "2            1     1061     3.0  1260759182\n",
       "3            1     1129     2.0  1260759185\n",
       "4            1     1172     4.0  1260759205\n",
       "...        ...      ...     ...         ...\n",
       "99999      671     6268     2.5  1065579370\n",
       "100000     671     6269     4.0  1065149201\n",
       "100001     671     6365     4.0  1070940363\n",
       "100002     671     6385     2.5  1070979663\n",
       "100003     671     6565     3.5  1074784724\n",
       "\n",
       "[100004 rows x 4 columns]"
      ]
     },
     "execution_count": 5,
     "metadata": {},
     "output_type": "execute_result"
    }
   ],
   "source": [
    "ratings_small = pd.read_csv('C:/programmer_shit/data_salo_files/work/ratings_small.csv')\n",
    "ratings_small"
   ]
  },
  {
   "cell_type": "code",
   "execution_count": 90,
   "id": "089242d1",
   "metadata": {},
   "outputs": [
    {
     "data": {
      "text/plain": [
       "{'adult': Int64Index([], dtype='int64'),\n",
       " 'belongs_to_collection': Int64Index([    1,     3,     5,     6,     7,     8,    10,    11,    13,\n",
       "                14,\n",
       "             ...\n",
       "             45456, 45457, 45458, 45459, 45460, 45461, 45462, 45463, 45464,\n",
       "             45465],\n",
       "            dtype='int64', length=40972),\n",
       " 'budget': Int64Index([], dtype='int64'),\n",
       " 'genres': Int64Index([], dtype='int64'),\n",
       " 'homepage': Int64Index([    1,     2,     3,     4,     5,     6,     7,     8,    10,\n",
       "                11,\n",
       "             ...\n",
       "             45455, 45456, 45457, 45458, 45459, 45460, 45462, 45463, 45464,\n",
       "             45465],\n",
       "            dtype='int64', length=37684),\n",
       " 'id': Int64Index([], dtype='int64'),\n",
       " 'imdb_id': Int64Index([ 8966, 13757, 13821, 17382, 17510, 18959, 19322, 20806, 20937,\n",
       "             21916, 22987, 23744, 33753, 36955, 40809, 41832, 45070],\n",
       "            dtype='int64'),\n",
       " 'original_language': Int64Index([19574, 21602, 22832, 32141, 37407, 41047, 41872, 44057, 44410,\n",
       "             44576, 44655],\n",
       "            dtype='int64'),\n",
       " 'original_title': Int64Index([], dtype='int64'),\n",
       " 'overview': Int64Index([   32,   300,   634,   635,   641,   644,   679,   792,   802,\n",
       "               821,\n",
       "             ...\n",
       "             45246, 45294, 45310, 45313, 45341, 45342, 45377, 45398, 45399,\n",
       "             45410],\n",
       "            dtype='int64', length=954),\n",
       " 'popularity': Int64Index([19729, 19730, 29502, 29503, 35586], dtype='int64'),\n",
       " 'poster_path': Int64Index([  554,   635,   644,   711,   734,  1272,  1370,  1393,  1489,\n",
       "              1626,\n",
       "             ...\n",
       "             45000, 45023, 45070, 45148, 45273, 45313, 45324, 45333, 45410,\n",
       "             45431],\n",
       "            dtype='int64', length=386),\n",
       " 'production_companies': Int64Index([19729, 29502, 35586], dtype='int64'),\n",
       " 'production_countries': Int64Index([19729, 29502, 35586], dtype='int64'),\n",
       " 'release_date': Int64Index([  711,   734,  3460,  3628,  5879, 13839, 14801, 16836, 16953,\n",
       "             17339, 17382, 18038, 18362, 18572, 19322, 19729, 19955, 20103,\n",
       "             20166, 20301, 20631, 21167, 21708, 21957, 22019, 22798, 24050,\n",
       "             24157, 24738, 27499, 29502, 30399, 30609, 31080, 31231, 31462,\n",
       "             32167, 32738, 33357, 34245, 34280, 34440, 34450, 35586, 36421,\n",
       "             36524, 36948, 37214, 37285, 37289, 37461, 37643, 37657, 38329,\n",
       "             38866, 39339, 39604, 40082, 40142, 40203, 40740, 40781, 41052,\n",
       "             41069, 41114, 41399, 41718, 42179, 42568, 42573, 42941, 43090,\n",
       "             43377, 43523, 43962, 44014, 44065, 44098, 44296, 44798, 44978,\n",
       "             45070, 45148, 45203, 45338, 45410, 45461],\n",
       "            dtype='int64'),\n",
       " 'revenue': Int64Index([19729, 19730, 29502, 29503, 35586, 35587], dtype='int64'),\n",
       " 'runtime': Int64Index([  634,   635,   644,   802,   863,  2140, 13562, 13576, 13660,\n",
       "             13757,\n",
       "             ...\n",
       "             44988, 45015, 45054, 45062, 45231, 45246, 45310, 45313, 45377,\n",
       "             45410],\n",
       "            dtype='int64', length=263),\n",
       " 'spoken_languages': Int64Index([19729, 19730, 29502, 29503, 35586, 35587], dtype='int64'),\n",
       " 'status': Int64Index([  189,   767,  1384,  2140,  3460,  4130,  6131,  9761, 10690,\n",
       "             13623, 15857, 15988, 16831, 16876, 17235, 18171, 19358, 19415,\n",
       "             19549, 19729, 19730, 20209, 20332, 20600, 20711, 21334, 21456,\n",
       "             21919, 22414, 22428, 22978, 23179, 23670, 23681, 23925, 24072,\n",
       "             27566, 27791, 28127, 28281, 28457, 28749, 29008, 29502, 29503,\n",
       "             30184, 30186, 30352, 30492, 31124, 31268, 31614, 31616, 31674,\n",
       "             31947, 32152, 33280, 34018, 35586, 35587, 35654, 36360, 36469,\n",
       "             36689, 37146, 37640, 39283, 39940, 40454, 41020, 41535, 42049,\n",
       "             43122, 43169, 43475, 43483, 43486, 43864, 43885, 44049, 44086,\n",
       "             44216, 44377, 45067, 45090, 45159, 45442],\n",
       "            dtype='int64'),\n",
       " 'tagline': Int64Index([    0,    11,    27,    32,    35,    36,    39,    42,    48,\n",
       "                51,\n",
       "             ...\n",
       "             45451, 45452, 45453, 45455, 45457, 45459, 45460, 45462, 45464,\n",
       "             45465],\n",
       "            dtype='int64', length=25054),\n",
       " 'title': Int64Index([19729, 19730, 29502, 29503, 35586, 35587], dtype='int64'),\n",
       " 'video': Int64Index([19729, 19730, 29502, 29503, 35586, 35587], dtype='int64'),\n",
       " 'vote_average': Int64Index([19729, 19730, 29502, 29503, 35586, 35587], dtype='int64'),\n",
       " 'vote_count': Int64Index([19729, 19730, 29502, 29503, 35586, 35587], dtype='int64')}"
      ]
     },
     "execution_count": 90,
     "metadata": {},
     "output_type": "execute_result"
    }
   ],
   "source": [
    "info_NaN = {}\n",
    "\n",
    "for i in movies_metadata.columns:\n",
    "    info_NaN[i] = movies_metadata.loc[movies_metadata[i].isna()].index\n",
    "info_NaN"
   ]
  },
  {
   "cell_type": "code",
   "execution_count": 43,
   "id": "1fc9db64",
   "metadata": {},
   "outputs": [
    {
     "data": {
      "text/plain": [
       "Int64Index([ 1465,  9165,  9327, 13375, 16764, 21165, 21854, 22151, 23044,\n",
       "            24844, 28860, 29374, 40040],\n",
       "           dtype='int64')"
      ]
     },
     "execution_count": 43,
     "metadata": {},
     "output_type": "execute_result"
    }
   ],
   "source": [
    "info_dublicate =  data.loc[data.duplicated()].index\n",
    "\n"
   ]
  },
  {
   "cell_type": "code",
   "execution_count": null,
   "id": "7c5673e3",
   "metadata": {},
   "outputs": [],
   "source": []
  }
 ],
 "metadata": {
  "kernelspec": {
   "display_name": "Python 3",
   "language": "python",
   "name": "python3"
  },
  "language_info": {
   "codemirror_mode": {
    "name": "ipython",
    "version": 3
   },
   "file_extension": ".py",
   "mimetype": "text/x-python",
   "name": "python",
   "nbconvert_exporter": "python",
   "pygments_lexer": "ipython3",
   "version": "3.8.8"
  }
 },
 "nbformat": 4,
 "nbformat_minor": 5
}
