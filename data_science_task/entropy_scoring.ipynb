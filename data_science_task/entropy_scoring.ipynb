{
 "cells": [
  {
   "cell_type": "code",
   "execution_count": 1,
   "id": "61e63e93",
   "metadata": {},
   "outputs": [],
   "source": [
    "balls = [1 for i in range(9)] + [0 for i in range(11)]\n"
   ]
  },
  {
   "cell_type": "code",
   "execution_count": 2,
   "id": "131155fa",
   "metadata": {},
   "outputs": [],
   "source": [
    "balls_left  = [1 for i in range(8)] + [0 for i in range(5)] # 8 синих и 5 желтых\n",
    "balls_right = [1 for i in range(1)] + [0 for i in range(6)] # 1 синий и 6 желтых"
   ]
  },
  {
   "cell_type": "code",
   "execution_count": 4,
   "id": "904e8a38",
   "metadata": {},
   "outputs": [
    {
     "name": "stdout",
     "output_type": "stream",
     "text": [
      "{1: 8, 0: 5}\n"
     ]
    },
    {
     "data": {
      "text/plain": [
       "0.9612366047228759"
      ]
     },
     "execution_count": 4,
     "metadata": {},
     "output_type": "execute_result"
    }
   ],
   "source": [
    "import numpy as np\n",
    "def entropy(a_list):\n",
    "    value_counts_set =  {}\n",
    "    len_input_list = len(a_list)\n",
    "    \n",
    "    for i in a_list:\n",
    "        if i in value_counts_set:\n",
    "            value_counts_set[i] += 1\n",
    "        else:\n",
    "            value_counts_set[i] = 1\n",
    "    print(value_counts_set)\n",
    "    \n",
    "    result_entropy = 0\n",
    "    for k,v in value_counts_set.items():\n",
    "        P_v = v/len_input_list\n",
    "        \n",
    "        result_entropy +=(-P_v * np.log2(P_v)) \n",
    "        \n",
    "    \n",
    "    return result_entropy\n",
    "\n",
    "\n",
    "entropy(balls_left)\n",
    "            "
   ]
  },
  {
   "cell_type": "code",
   "execution_count": 5,
   "id": "7fa8e1a4",
   "metadata": {},
   "outputs": [
    {
     "name": "stdout",
     "output_type": "stream",
     "text": [
      "{1: 9, 0: 11}\n",
      "{1: 8, 0: 5}\n",
      "{1: 1, 0: 6}\n"
     ]
    },
    {
     "data": {
      "text/plain": [
       "0.16088518841412436"
      ]
     },
     "execution_count": 5,
     "metadata": {},
     "output_type": "execute_result"
    }
   ],
   "source": [
    "start_enropy_balls = entropy(balls)\n",
    "Eyx = (len(balls_left)/len(balls)) * entropy(balls_left) + (len(balls_right)/len(balls)) * entropy(balls_right)\n",
    "IG = start_enropy_balls - Eyx\n",
    "IG"
   ]
  },
  {
   "cell_type": "code",
   "execution_count": null,
   "id": "c48943c6",
   "metadata": {},
   "outputs": [],
   "source": []
  }
 ],
 "metadata": {
  "kernelspec": {
   "display_name": "Python 3",
   "language": "python",
   "name": "python3"
  },
  "language_info": {
   "codemirror_mode": {
    "name": "ipython",
    "version": 3
   },
   "file_extension": ".py",
   "mimetype": "text/x-python",
   "name": "python",
   "nbconvert_exporter": "python",
   "pygments_lexer": "ipython3",
   "version": "3.8.8"
  }
 },
 "nbformat": 4,
 "nbformat_minor": 5
}
