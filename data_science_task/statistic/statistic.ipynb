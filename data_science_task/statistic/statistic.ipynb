{
 "cells": [
  {
   "cell_type": "code",
   "execution_count": 2,
   "id": "c7fec33b",
   "metadata": {},
   "outputs": [],
   "source": [
    "import numpy as np\n",
    "import pandas as pd"
   ]
  },
  {
   "cell_type": "code",
   "execution_count": 10,
   "id": "78b89f3f",
   "metadata": {},
   "outputs": [
    {
     "data": {
      "text/plain": [
       "array([0, 1, 3, 4, 7, 5, 2, 1, 7, 7, 7, 2, 9, 5, 7, 8, 5, 4, 6, 6, 7, 3,\n",
       "       5, 2, 2, 2, 4, 2, 1, 3])"
      ]
     },
     "execution_count": 10,
     "metadata": {},
     "output_type": "execute_result"
    }
   ],
   "source": [
    "distrect = np.random.randint(0 , 10 , 30)\n",
    "distrect"
   ]
  },
  {
   "cell_type": "code",
   "execution_count": null,
   "id": "9b0a92a3",
   "metadata": {},
   "outputs": [],
   "source": []
  },
  {
   "cell_type": "code",
   "execution_count": 3,
   "id": "dbe6f3c7",
   "metadata": {},
   "outputs": [
    {
     "data": {
      "text/plain": [
       "array([7, 6, 3, 7, 6, 8, 2, 8, 0, 0, 3, 9, 5, 3, 7, 7, 1, 8, 1, 9, 3, 6,\n",
       "       3, 1, 7, 2, 9, 1, 3, 0])"
      ]
     },
     "execution_count": 3,
     "metadata": {},
     "output_type": "execute_result"
    }
   ],
   "source": [
    "distrect = np.array([7, 6, 3, 7, 6, 8, 2, 8, 0, 0, 3, 9, 5, 3, 7, 7, 1, 8, 1, 9, 3, 6,\n",
    "       3, 1, 7, 2, 9, 1, 3, 0])\n",
    "distrect"
   ]
  },
  {
   "cell_type": "code",
   "execution_count": null,
   "id": "804ef316",
   "metadata": {},
   "outputs": [],
   "source": []
  },
  {
   "cell_type": "code",
   "execution_count": 4,
   "id": "91b84538",
   "metadata": {},
   "outputs": [
    {
     "data": {
      "text/plain": [
       "0     7\n",
       "1     6\n",
       "2     3\n",
       "3     7\n",
       "4     6\n",
       "5     8\n",
       "6     2\n",
       "7     8\n",
       "8     0\n",
       "9     0\n",
       "10    3\n",
       "11    9\n",
       "12    5\n",
       "13    3\n",
       "14    7\n",
       "15    7\n",
       "16    1\n",
       "17    8\n",
       "18    1\n",
       "19    9\n",
       "20    3\n",
       "21    6\n",
       "22    3\n",
       "23    1\n",
       "24    7\n",
       "25    2\n",
       "26    9\n",
       "27    1\n",
       "28    3\n",
       "29    0\n",
       "dtype: int32"
      ]
     },
     "execution_count": 4,
     "metadata": {},
     "output_type": "execute_result"
    }
   ],
   "source": [
    "distrect_Series = pd.Series(distrect)\n",
    "distrect_Series"
   ]
  },
  {
   "cell_type": "code",
   "execution_count": 6,
   "id": "dd286ea6",
   "metadata": {},
   "outputs": [
    {
     "data": {
      "text/plain": [
       "array([0, 0, 0, 1, 1, 1, 1, 2, 2, 3, 3, 3, 3, 3, 3, 5, 6, 6, 6, 7, 7, 7,\n",
       "       7, 7, 8, 8, 8, 9, 9, 9])"
      ]
     },
     "execution_count": 6,
     "metadata": {},
     "output_type": "execute_result"
    }
   ],
   "source": [
    "distrect_Series.values"
   ]
  },
  {
   "cell_type": "code",
   "execution_count": 16,
   "id": "fb07434e",
   "metadata": {},
   "outputs": [
    {
     "data": {
      "text/plain": [
       "3    6\n",
       "7    5\n",
       "1    4\n",
       "0    3\n",
       "6    3\n",
       "8    3\n",
       "9    3\n",
       "2    2\n",
       "5    1\n",
       "dtype: int64"
      ]
     },
     "execution_count": 16,
     "metadata": {},
     "output_type": "execute_result"
    }
   ],
   "source": [
    "distrect_Series.value_counts()"
   ]
  },
  {
   "cell_type": "code",
   "execution_count": 8,
   "id": "fa2bc18d",
   "metadata": {},
   "outputs": [
    {
     "data": {
      "text/plain": [
       "0    3\n",
       "1    4\n",
       "2    2\n",
       "3    6\n",
       "5    1\n",
       "6    3\n",
       "7    5\n",
       "8    3\n",
       "9    3\n",
       "dtype: int64"
      ]
     },
     "execution_count": 8,
     "metadata": {},
     "output_type": "execute_result"
    }
   ],
   "source": [
    "distrect_Series.value_counts().sort_index()"
   ]
  },
  {
   "cell_type": "code",
   "execution_count": 5,
   "id": "c25da0f3",
   "metadata": {},
   "outputs": [
    {
     "data": {
      "text/plain": [
       "<AxesSubplot:>"
      ]
     },
     "execution_count": 5,
     "metadata": {},
     "output_type": "execute_result"
    },
    {
     "data": {
      "image/png": "[encoded data removed]",
      "text/plain": [
       "<Figure size 432x288 with 1 Axes>"
      ]
     },
     "metadata": {
      "needs_background": "light"
     },
     "output_type": "display_data"
    }
   ],
   "source": [
    "distrect_Series.hist()\n",
    "# gistogram"
   ]
  },
  {
   "cell_type": "code",
   "execution_count": null,
   "id": "f9e8af66",
   "metadata": {},
   "outputs": [],
   "source": []
  },
  {
   "cell_type": "code",
   "execution_count": 61,
   "id": "090f7dea",
   "metadata": {},
   "outputs": [
    {
     "data": {
      "image/png": "[encoded data removed]",
      "text/plain": [
       "<Figure size 432x288 with 1 Axes>"
      ]
     },
     "metadata": {
      "needs_background": "light"
     },
     "output_type": "display_data"
    }
   ],
   "source": [
    "import numpy as np\n",
    "import matplotlib.pyplot as plt\n",
    "\n",
    "fig, ax = plt.subplots()\n",
    "\n",
    "#  Данные, которые хотим отобразить:\n",
    "x, y= distrect_Series.value_counts().index ,distrect_Series.value_counts().values\n",
    "\n",
    "ax.scatter( x ,y  )    #  метод, отображающий данные в виде точек\n",
    "                      #  на плоскости\n",
    "\n",
    "ax.set(title='Полігон частот')    #  метод, размещающий заголовок\n",
    "                                       #  над \"Axes\"\n",
    "    \n",
    "plt.show()"
   ]
  },
  {
   "cell_type": "code",
   "execution_count": 7,
   "id": "f27fbbd6",
   "metadata": {},
   "outputs": [
    {
     "data": {
      "text/plain": [
       "Int64Index([3, 7, 1, 0, 6, 8, 9, 2, 5], dtype='int64')"
      ]
     },
     "execution_count": 7,
     "metadata": {},
     "output_type": "execute_result"
    }
   ],
   "source": [
    "distrect_Series.value_counts().index"
   ]
  },
  {
   "cell_type": "code",
   "execution_count": 8,
   "id": "01cab275",
   "metadata": {},
   "outputs": [
    {
     "data": {
      "image/png": "[encoded data removed]",
      "text/plain": [
       "<Figure size 432x288 with 1 Axes>"
      ]
     },
     "metadata": {
      "needs_background": "light"
     },
     "output_type": "display_data"
    }
   ],
   "source": [
    "import matplotlib.pyplot as plt\n",
    "import numpy as np\n",
    "\n",
    "x, y = distrect_Series.value_counts().index , distrect_Series.value_counts()\n",
    "\n",
    "fig, ax = plt.subplots()\n",
    "ax.stem(x, y, markerfmt=' ')\n",
    "plt.show()\n",
    "# діаграса"
   ]
  },
  {
   "cell_type": "code",
   "execution_count": 64,
   "id": "cb4e7ec0",
   "metadata": {},
   "outputs": [
    {
     "data": {
      "text/plain": [
       "0     3.0\n",
       "1     7.0\n",
       "2     9.0\n",
       "3    15.0\n",
       "5    16.0\n",
       "6    19.0\n",
       "7    24.0\n",
       "8    27.0\n",
       "9    30.0\n",
       "dtype: float64"
      ]
     },
     "execution_count": 64,
     "metadata": {},
     "output_type": "execute_result"
    }
   ],
   "source": [
    "data_empiric = distrect_Series.value_counts().sort_index()\n",
    "\n",
    "\n",
    "data_empiric.expanding().sum()\n",
    "\n"
   ]
  },
  {
   "cell_type": "code",
   "execution_count": 22,
   "id": "d5cd57fc",
   "metadata": {},
   "outputs": [
    {
     "data": {
      "image/png": "[encoded data removed]",
      "text/plain": [
       "<Figure size 432x288 with 1 Axes>"
      ]
     },
     "metadata": {
      "needs_background": "light"
     },
     "output_type": "display_data"
    }
   ],
   "source": [
    "# побудувати емпіричну функцію розподілу та намалювати її графік;\n",
    "\n",
    "\n",
    "\n",
    "import numpy as np\n",
    "import statsmodels.api as sm # recommended import according to the docs\n",
    "import matplotlib.pyplot as plt\n",
    "\n",
    "sample =  distrect_Series\n",
    "ecdf = sm.distributions.ECDF(sample)\n",
    "\n",
    "x = np.linspace(min(sample), max(sample))\n",
    "y = ecdf(x)\n",
    "plt.step(x, y)\n",
    "plt.show()"
   ]
  },
  {
   "cell_type": "code",
   "execution_count": 10,
   "id": "73ac6519",
   "metadata": {},
   "outputs": [
    {
     "data": {
      "text/plain": [
       "(Int64Index([3, 7, 1, 0, 6, 8, 9, 2, 5], dtype='int64'),\n",
       " array([6, 5, 4, 3, 3, 3, 3, 2, 1], dtype=int64))"
      ]
     },
     "execution_count": 10,
     "metadata": {},
     "output_type": "execute_result"
    }
   ],
   "source": [
    "x, y = distrect_Series.value_counts().index , distrect_Series.value_counts().values\n",
    "x,y"
   ]
  },
  {
   "cell_type": "code",
   "execution_count": null,
   "id": "7c4372ec",
   "metadata": {},
   "outputs": [],
   "source": []
  },
  {
   "cell_type": "code",
   "execution_count": 11,
   "id": "9ee6f7b8",
   "metadata": {},
   "outputs": [
    {
     "data": {
      "text/plain": [
       "[<matplotlib.lines.Line2D at 0x2c3e2603490>]"
      ]
     },
     "execution_count": 11,
     "metadata": {},
     "output_type": "execute_result"
    },
    {
     "data": {
      "image/png": "[encoded data removed]",
      "text/plain": [
       "<Figure size 432x288 with 1 Axes>"
      ]
     },
     "metadata": {
      "needs_background": "light"
     },
     "output_type": "display_data"
    }
   ],
   "source": [
    "plt.plot(np.sort(distrect_Series), np.linspace(0, 1, len(distrect_Series), endpoint=False))\n"
   ]
  },
  {
   "cell_type": "code",
   "execution_count": 12,
   "id": "feb517d4",
   "metadata": {},
   "outputs": [],
   "source": [
    "# Обчислити числові характеристики статистичного матеріалу:\n",
    "\n",
    "# · медіану, моду, середнє арифметичне;\n",
    "\n",
    "# · розмах, варіансу, стандарт, вибіркову дисперсію, варіацію;\n",
    "\n",
    "# · асиметрію та ексцеc\n",
    "\n",
    "# Виправлена вибіркова дисперсія (варіанса) – це сума квадратів відхилень елементів від вибіркового середнього, поділена на – .\n",
    "# Стандарт – це арифметичний квадратний корінь із варіанси.\n",
    "# Вибіркова дисперсія – це середнє значення квадратів відхилення варіант від вибіркового середнього з урахуванням відповідних частостей.\n",
    "# варіацію - дисперсія"
   ]
  },
  {
   "cell_type": "code",
   "execution_count": 22,
   "id": "2892315f",
   "metadata": {},
   "outputs": [
    {
     "name": "stdout",
     "output_type": "stream",
     "text": [
      "медіана:  4.0\n",
      "мода:  [3]\n",
      "середнє арифметичне:  4.5\n",
      "розмах:  9\n",
      "варіанса 9.362\n",
      "cтандарт 3.06\n",
      "вибіркова дисперсія 9.36\n",
      "варіація:  0.679941900204952\n",
      "асиметрія:  -0.007\n",
      "ексцес:  -1.441\n"
     ]
    }
   ],
   "source": [
    "import math\n",
    "from scipy.stats import moment\n",
    "print(\"медіана: \" , distrect_Series.median())\n",
    "print(\"мода: \" , distrect_Series.mode().values)\n",
    "avg = round(distrect_Series.mean() , 3)\n",
    "print(\"середнє арифметичне: \" , avg)\n",
    "print(\"розмах: \" , distrect_Series.max() - distrect_Series.min())\n",
    "variance = round((((distrect_Series - avg) ** 2).sum()) / (distrect_Series.count() - 1), 3)\n",
    "print(\"варіанса\" ,variance )\n",
    "\n",
    "print(\"cтандарт\" , round(math.sqrt(variance) , 3) )\n",
    "print(\"вибіркова дисперсія\" , 9.36 ) # зайти на https://allcalc.ru/node/1835 \n",
    "print(\"варіація: \" , math.sqrt(variance) / avg)\n",
    "print(\"асиметрія: \" , round(moment(distrect_Series, moment=3) / (moment(distrect_Series, moment=2) ** 1.5) , 3) ) \n",
    "print(\"ексцес: \" , round((moment(distrect_Series, moment=4) / (moment(distrect_Series, moment=2) ** 2) -3) , 3) ) \n",
    "\n"
   ]
  },
  {
   "cell_type": "code",
   "execution_count": 20,
   "id": "34e0f807",
   "metadata": {},
   "outputs": [
    {
     "name": "stdout",
     "output_type": "stream",
     "text": [
      "варіанса 9.362\n"
     ]
    }
   ],
   "source": [
    "variance =( (distrect_Series - avg) ** 2)\n",
    "variance = round((((distrect_Series - avg) ** 2).sum()) / (distrect_Series.count() - 1), 3)\n",
    "print(\"варіанса\" ,variance )"
   ]
  },
  {
   "cell_type": "code",
   "execution_count": 17,
   "id": "4492b903",
   "metadata": {},
   "outputs": [
    {
     "data": {
      "text/plain": [
       "0    3\n",
       "dtype: int32"
      ]
     },
     "execution_count": 17,
     "metadata": {},
     "output_type": "execute_result"
    }
   ],
   "source": [
    "distrect_Series.mode()"
   ]
  },
  {
   "cell_type": "code",
   "execution_count": 3,
   "id": "372197b6",
   "metadata": {},
   "outputs": [
    {
     "data": {
      "text/plain": [
       "[3,\n",
       " 2,\n",
       " 3,\n",
       " 2,\n",
       " 8,\n",
       " 6,\n",
       " 0,\n",
       " 5,\n",
       " 1,\n",
       " 7,\n",
       " 7,\n",
       " 0,\n",
       " 2,\n",
       " 7,\n",
       " 0,\n",
       " 5,\n",
       " 4,\n",
       " 5,\n",
       " 2,\n",
       " 3,\n",
       " 6,\n",
       " 0,\n",
       " 4,\n",
       " 1,\n",
       " 4,\n",
       " 5,\n",
       " 5,\n",
       " 2,\n",
       " 2,\n",
       " 1]"
      ]
     },
     "execution_count": 3,
     "metadata": {},
     "output_type": "execute_result"
    }
   ],
   "source": [
    "continuous = [3, 2, 3, 2, 8, 6, 0, 5, 1, 7, 7, 0, 2, 7, 0, 5, 4, 5, 2, 3, 6, 0,\n",
    "       4, 1, 4, 5, 5, 2, 2, 1]\n",
    "continuous"
   ]
  },
  {
   "cell_type": "code",
   "execution_count": null,
   "id": "8b1bfb14",
   "metadata": {},
   "outputs": [],
   "source": []
  },
  {
   "cell_type": "code",
   "execution_count": 67,
   "id": "51dbefea",
   "metadata": {},
   "outputs": [
    {
     "data": {
      "text/plain": [
       "0     3\n",
       "1     2\n",
       "2     3\n",
       "3     2\n",
       "4     8\n",
       "5     6\n",
       "6     0\n",
       "7     5\n",
       "8     1\n",
       "9     7\n",
       "10    7\n",
       "11    0\n",
       "12    2\n",
       "13    7\n",
       "14    0\n",
       "15    5\n",
       "16    4\n",
       "17    5\n",
       "18    2\n",
       "19    3\n",
       "20    6\n",
       "21    0\n",
       "22    4\n",
       "23    1\n",
       "24    4\n",
       "25    5\n",
       "26    5\n",
       "27    2\n",
       "28    2\n",
       "29    1\n",
       "Name: vals, dtype: int64"
      ]
     },
     "execution_count": 67,
     "metadata": {},
     "output_type": "execute_result"
    }
   ],
   "source": [
    "continuous_Series_value_counts = pd.Series(continuous , name=\"vals\")\n",
    "continuous_Series_value_counts"
   ]
  },
  {
   "cell_type": "code",
   "execution_count": 37,
   "id": "fa9e196e",
   "metadata": {},
   "outputs": [
    {
     "data": {
      "text/html": [
       "<div>\n",
       "<style scoped>\n",
       "    .dataframe tbody tr th:only-of-type {\n",
       "        vertical-align: middle;\n",
       "    }\n",
       "\n",
       "    .dataframe tbody tr th {\n",
       "        vertical-align: top;\n",
       "    }\n",
       "\n",
       "    .dataframe thead th {\n",
       "        text-align: right;\n",
       "    }\n",
       "</style>\n",
       "<table border=\"1\" class=\"dataframe\">\n",
       "  <thead>\n",
       "    <tr style=\"text-align: right;\">\n",
       "      <th></th>\n",
       "      <th>vals</th>\n",
       "    </tr>\n",
       "  </thead>\n",
       "  <tbody>\n",
       "    <tr>\n",
       "      <th>0</th>\n",
       "      <td>3</td>\n",
       "    </tr>\n",
       "    <tr>\n",
       "      <th>1</th>\n",
       "      <td>2</td>\n",
       "    </tr>\n",
       "    <tr>\n",
       "      <th>2</th>\n",
       "      <td>3</td>\n",
       "    </tr>\n",
       "    <tr>\n",
       "      <th>3</th>\n",
       "      <td>2</td>\n",
       "    </tr>\n",
       "    <tr>\n",
       "      <th>4</th>\n",
       "      <td>8</td>\n",
       "    </tr>\n",
       "  </tbody>\n",
       "</table>\n",
       "</div>"
      ],
      "text/plain": [
       "   vals\n",
       "0     3\n",
       "1     2\n",
       "2     3\n",
       "3     2\n",
       "4     8"
      ]
     },
     "execution_count": 37,
     "metadata": {},
     "output_type": "execute_result"
    }
   ],
   "source": [
    "continuous_df = continuous_Series.to_frame()\n",
    "continuous_df = continuous_df.sort_index()\n",
    "continuous_df.head()"
   ]
  },
  {
   "cell_type": "code",
   "execution_count": 38,
   "id": "1e168a71",
   "metadata": {},
   "outputs": [
    {
     "data": {
      "text/html": [
       "<div>\n",
       "<style scoped>\n",
       "    .dataframe tbody tr th:only-of-type {\n",
       "        vertical-align: middle;\n",
       "    }\n",
       "\n",
       "    .dataframe tbody tr th {\n",
       "        vertical-align: top;\n",
       "    }\n",
       "\n",
       "    .dataframe thead th {\n",
       "        text-align: right;\n",
       "    }\n",
       "</style>\n",
       "<table border=\"1\" class=\"dataframe\">\n",
       "  <thead>\n",
       "    <tr style=\"text-align: right;\">\n",
       "      <th></th>\n",
       "      <th>vals</th>\n",
       "      <th>group</th>\n",
       "      <th>row_num</th>\n",
       "    </tr>\n",
       "  </thead>\n",
       "  <tbody>\n",
       "    <tr>\n",
       "      <th>0</th>\n",
       "      <td>3</td>\n",
       "      <td>1</td>\n",
       "      <td>0</td>\n",
       "    </tr>\n",
       "    <tr>\n",
       "      <th>1</th>\n",
       "      <td>2</td>\n",
       "      <td>0</td>\n",
       "      <td>1</td>\n",
       "    </tr>\n",
       "    <tr>\n",
       "      <th>2</th>\n",
       "      <td>3</td>\n",
       "      <td>1</td>\n",
       "      <td>2</td>\n",
       "    </tr>\n",
       "    <tr>\n",
       "      <th>3</th>\n",
       "      <td>2</td>\n",
       "      <td>0</td>\n",
       "      <td>3</td>\n",
       "    </tr>\n",
       "    <tr>\n",
       "      <th>4</th>\n",
       "      <td>8</td>\n",
       "      <td>2</td>\n",
       "      <td>4</td>\n",
       "    </tr>\n",
       "    <tr>\n",
       "      <th>5</th>\n",
       "      <td>6</td>\n",
       "      <td>2</td>\n",
       "      <td>5</td>\n",
       "    </tr>\n",
       "    <tr>\n",
       "      <th>6</th>\n",
       "      <td>0</td>\n",
       "      <td>0</td>\n",
       "      <td>6</td>\n",
       "    </tr>\n",
       "    <tr>\n",
       "      <th>7</th>\n",
       "      <td>5</td>\n",
       "      <td>1</td>\n",
       "      <td>7</td>\n",
       "    </tr>\n",
       "    <tr>\n",
       "      <th>8</th>\n",
       "      <td>1</td>\n",
       "      <td>0</td>\n",
       "      <td>8</td>\n",
       "    </tr>\n",
       "    <tr>\n",
       "      <th>9</th>\n",
       "      <td>7</td>\n",
       "      <td>2</td>\n",
       "      <td>9</td>\n",
       "    </tr>\n",
       "    <tr>\n",
       "      <th>10</th>\n",
       "      <td>7</td>\n",
       "      <td>2</td>\n",
       "      <td>10</td>\n",
       "    </tr>\n",
       "    <tr>\n",
       "      <th>11</th>\n",
       "      <td>0</td>\n",
       "      <td>0</td>\n",
       "      <td>11</td>\n",
       "    </tr>\n",
       "    <tr>\n",
       "      <th>12</th>\n",
       "      <td>2</td>\n",
       "      <td>0</td>\n",
       "      <td>12</td>\n",
       "    </tr>\n",
       "    <tr>\n",
       "      <th>13</th>\n",
       "      <td>7</td>\n",
       "      <td>2</td>\n",
       "      <td>13</td>\n",
       "    </tr>\n",
       "    <tr>\n",
       "      <th>14</th>\n",
       "      <td>0</td>\n",
       "      <td>0</td>\n",
       "      <td>14</td>\n",
       "    </tr>\n",
       "    <tr>\n",
       "      <th>15</th>\n",
       "      <td>5</td>\n",
       "      <td>1</td>\n",
       "      <td>15</td>\n",
       "    </tr>\n",
       "    <tr>\n",
       "      <th>16</th>\n",
       "      <td>4</td>\n",
       "      <td>1</td>\n",
       "      <td>16</td>\n",
       "    </tr>\n",
       "    <tr>\n",
       "      <th>17</th>\n",
       "      <td>5</td>\n",
       "      <td>1</td>\n",
       "      <td>17</td>\n",
       "    </tr>\n",
       "    <tr>\n",
       "      <th>18</th>\n",
       "      <td>2</td>\n",
       "      <td>0</td>\n",
       "      <td>18</td>\n",
       "    </tr>\n",
       "    <tr>\n",
       "      <th>19</th>\n",
       "      <td>3</td>\n",
       "      <td>1</td>\n",
       "      <td>19</td>\n",
       "    </tr>\n",
       "    <tr>\n",
       "      <th>20</th>\n",
       "      <td>6</td>\n",
       "      <td>2</td>\n",
       "      <td>20</td>\n",
       "    </tr>\n",
       "    <tr>\n",
       "      <th>21</th>\n",
       "      <td>0</td>\n",
       "      <td>0</td>\n",
       "      <td>21</td>\n",
       "    </tr>\n",
       "    <tr>\n",
       "      <th>22</th>\n",
       "      <td>4</td>\n",
       "      <td>1</td>\n",
       "      <td>22</td>\n",
       "    </tr>\n",
       "    <tr>\n",
       "      <th>23</th>\n",
       "      <td>1</td>\n",
       "      <td>0</td>\n",
       "      <td>23</td>\n",
       "    </tr>\n",
       "    <tr>\n",
       "      <th>24</th>\n",
       "      <td>4</td>\n",
       "      <td>1</td>\n",
       "      <td>24</td>\n",
       "    </tr>\n",
       "    <tr>\n",
       "      <th>25</th>\n",
       "      <td>5</td>\n",
       "      <td>1</td>\n",
       "      <td>25</td>\n",
       "    </tr>\n",
       "    <tr>\n",
       "      <th>26</th>\n",
       "      <td>5</td>\n",
       "      <td>1</td>\n",
       "      <td>26</td>\n",
       "    </tr>\n",
       "    <tr>\n",
       "      <th>27</th>\n",
       "      <td>2</td>\n",
       "      <td>0</td>\n",
       "      <td>27</td>\n",
       "    </tr>\n",
       "    <tr>\n",
       "      <th>28</th>\n",
       "      <td>2</td>\n",
       "      <td>0</td>\n",
       "      <td>28</td>\n",
       "    </tr>\n",
       "    <tr>\n",
       "      <th>29</th>\n",
       "      <td>1</td>\n",
       "      <td>0</td>\n",
       "      <td>29</td>\n",
       "    </tr>\n",
       "  </tbody>\n",
       "</table>\n",
       "</div>"
      ],
      "text/plain": [
       "    vals  group  row_num\n",
       "0      3      1        0\n",
       "1      2      0        1\n",
       "2      3      1        2\n",
       "3      2      0        3\n",
       "4      8      2        4\n",
       "5      6      2        5\n",
       "6      0      0        6\n",
       "7      5      1        7\n",
       "8      1      0        8\n",
       "9      7      2        9\n",
       "10     7      2       10\n",
       "11     0      0       11\n",
       "12     2      0       12\n",
       "13     7      2       13\n",
       "14     0      0       14\n",
       "15     5      1       15\n",
       "16     4      1       16\n",
       "17     5      1       17\n",
       "18     2      0       18\n",
       "19     3      1       19\n",
       "20     6      2       20\n",
       "21     0      0       21\n",
       "22     4      1       22\n",
       "23     1      0       23\n",
       "24     4      1       24\n",
       "25     5      1       25\n",
       "26     5      1       26\n",
       "27     2      0       27\n",
       "28     2      0       28\n",
       "29     1      0       29"
      ]
     },
     "execution_count": 38,
     "metadata": {},
     "output_type": "execute_result"
    }
   ],
   "source": [
    "continuous_df[\"group\"] = continuous_df.vals // 3\n",
    "continuous_df[\"row_num\"] = continuous_df.index\n",
    "continuous_df\n",
    "\n"
   ]
  },
  {
   "cell_type": "code",
   "execution_count": 80,
   "id": "4c363bb1",
   "metadata": {},
   "outputs": [
    {
     "data": {
      "text/plain": [
       "group\n",
       "0    0.433333\n",
       "1    0.800000\n",
       "2    1.000000\n",
       "Name: vals, dtype: float64"
      ]
     },
     "execution_count": 80,
     "metadata": {},
     "output_type": "execute_result"
    }
   ],
   "source": [
    "continuous_df.groupby(\"group\")[\"vals\"].count().expanding().sum() / 30"
   ]
  },
  {
   "cell_type": "code",
   "execution_count": 78,
   "id": "af61da18",
   "metadata": {},
   "outputs": [
    {
     "data": {
      "text/plain": [
       "group\n",
       "0    13.0\n",
       "1    24.0\n",
       "2    30.0\n",
       "Name: vals, dtype: float64"
      ]
     },
     "execution_count": 78,
     "metadata": {},
     "output_type": "execute_result"
    }
   ],
   "source": [
    "group_by_count_absolute = continuous_df.groupby(\"group\")[\"vals\"].count().expanding().sum()\n",
    "group_by_count_absolute"
   ]
  },
  {
   "cell_type": "code",
   "execution_count": 70,
   "id": "cafde8de",
   "metadata": {},
   "outputs": [
    {
     "data": {
      "text/plain": [
       "group\n",
       "0    0.433333\n",
       "1    0.366667\n",
       "2    0.200000\n",
       "Name: vals, dtype: float64"
      ]
     },
     "execution_count": 70,
     "metadata": {},
     "output_type": "execute_result"
    }
   ],
   "source": [
    "group_by_count = continuous_df.groupby(\"group\")[\"vals\"].count() / 30\n",
    "group_by_count"
   ]
  },
  {
   "cell_type": "code",
   "execution_count": null,
   "id": "144e984e",
   "metadata": {},
   "outputs": [],
   "source": []
  },
  {
   "cell_type": "code",
   "execution_count": 68,
   "id": "638da326",
   "metadata": {},
   "outputs": [
    {
     "data": {
      "text/plain": [
       "(array([13., 11.,  6.]),\n",
       " array([0.        , 2.66666667, 5.33333333, 8.        ]),\n",
       " <BarContainer object of 3 artists>)"
      ]
     },
     "execution_count": 68,
     "metadata": {},
     "output_type": "execute_result"
    },
    {
     "data": {
      "image/png": "[encoded data removed]",
      "text/plain": [
       "<Figure size 432x288 with 1 Axes>"
      ]
     },
     "metadata": {
      "needs_background": "light"
     },
     "output_type": "display_data"
    }
   ],
   "source": [
    "plt.hist(continuous_Series_value_counts, 3, facecolor='blue', alpha=0.5)"
   ]
  },
  {
   "cell_type": "code",
   "execution_count": 72,
   "id": "ac720758",
   "metadata": {},
   "outputs": [
    {
     "data": {
      "image/png": "[encoded data removed]",
      "text/plain": [
       "<Figure size 432x288 with 1 Axes>"
      ]
     },
     "metadata": {
      "needs_background": "light"
     },
     "output_type": "display_data"
    }
   ],
   "source": [
    "import numpy as np\n",
    "import matplotlib.pyplot as plt\n",
    "\n",
    "fig, ax = plt.subplots()\n",
    "\n",
    "#  Данные, которые хотим отобразить:\n",
    "x, y= group_by_count.index ,group_by_count.values\n",
    "\n",
    "ax.scatter( x ,y  )    #  метод, отображающий данные в виде точек\n",
    "                      #  на плоскости\n",
    "\n",
    "ax.set(title='Полігон частот')    #  метод, размещающий заголовок\n",
    "                                       #  над \"Axes\"\n",
    "    \n",
    "plt.show()"
   ]
  },
  {
   "cell_type": "code",
   "execution_count": 81,
   "id": "a585e4c1",
   "metadata": {},
   "outputs": [
    {
     "data": {
      "image/png": "[encoded data removed]",
      "text/plain": [
       "<Figure size 432x288 with 1 Axes>"
      ]
     },
     "metadata": {
      "needs_background": "light"
     },
     "output_type": "display_data"
    }
   ],
   "source": [
    "import numpy as np\n",
    "import statsmodels.api as sm # recommended import according to the docs\n",
    "import matplotlib.pyplot as plt\n",
    "\n",
    "sample =  group_by_count_absolute\n",
    "ecdf = sm.distributions.ECDF(sample)\n",
    "\n",
    "x = np.linspace(min(sample), max(sample))\n",
    "y = ecdf(x)\n",
    "plt.step(x, y)\n",
    "plt.show()"
   ]
  },
  {
   "cell_type": "code",
   "execution_count": 48,
   "id": "a50fc355",
   "metadata": {},
   "outputs": [
    {
     "data": {
      "text/html": [
       "<div>\n",
       "<style scoped>\n",
       "    .dataframe tbody tr th:only-of-type {\n",
       "        vertical-align: middle;\n",
       "    }\n",
       "\n",
       "    .dataframe tbody tr th {\n",
       "        vertical-align: top;\n",
       "    }\n",
       "\n",
       "    .dataframe thead th {\n",
       "        text-align: right;\n",
       "    }\n",
       "</style>\n",
       "<table border=\"1\" class=\"dataframe\">\n",
       "  <thead>\n",
       "    <tr style=\"text-align: right;\">\n",
       "      <th></th>\n",
       "      <th>vals</th>\n",
       "      <th>row_num</th>\n",
       "    </tr>\n",
       "    <tr>\n",
       "      <th>group</th>\n",
       "      <th></th>\n",
       "      <th></th>\n",
       "    </tr>\n",
       "  </thead>\n",
       "  <tbody>\n",
       "    <tr>\n",
       "      <th>0</th>\n",
       "      <td>2</td>\n",
       "      <td>29</td>\n",
       "    </tr>\n",
       "    <tr>\n",
       "      <th>1</th>\n",
       "      <td>5</td>\n",
       "      <td>26</td>\n",
       "    </tr>\n",
       "    <tr>\n",
       "      <th>2</th>\n",
       "      <td>8</td>\n",
       "      <td>20</td>\n",
       "    </tr>\n",
       "  </tbody>\n",
       "</table>\n",
       "</div>"
      ],
      "text/plain": [
       "       vals  row_num\n",
       "group               \n",
       "0         2       29\n",
       "1         5       26\n",
       "2         8       20"
      ]
     },
     "execution_count": 48,
     "metadata": {},
     "output_type": "execute_result"
    }
   ],
   "source": [
    "continuous_df.groupby(\"group\").max()"
   ]
  },
  {
   "cell_type": "code",
   "execution_count": 11,
   "id": "8c2be2eb",
   "metadata": {},
   "outputs": [
    {
     "data": {
      "text/plain": [
       "RangeIndex(start=0, stop=30, step=1)"
      ]
     },
     "execution_count": 11,
     "metadata": {},
     "output_type": "execute_result"
    }
   ],
   "source": [
    "continuous_df.index"
   ]
  },
  {
   "cell_type": "code",
   "execution_count": 60,
   "id": "f3b40824",
   "metadata": {},
   "outputs": [
    {
     "data": {
      "text/plain": [
       "0    4\n",
       "1    3\n",
       "2    6\n",
       "3    3\n",
       "4    3\n",
       "5    5\n",
       "6    2\n",
       "7    3\n",
       "8    1\n",
       "dtype: int64"
      ]
     },
     "execution_count": 60,
     "metadata": {},
     "output_type": "execute_result"
    }
   ],
   "source": [
    "freq = continuous_Series.value_counts().sort_index()\n",
    "freq"
   ]
  },
  {
   "cell_type": "code",
   "execution_count": 80,
   "id": "cfa53121",
   "metadata": {},
   "outputs": [
    {
     "data": {
      "text/plain": [
       "array([0, 0, 0, 0, 1, 1, 1, 2, 2, 2, 2, 2, 2, 3, 3, 3, 4, 4, 4, 5, 5, 5,\n",
       "       5, 5, 6, 6, 7, 7, 7, 8])"
      ]
     },
     "execution_count": 80,
     "metadata": {},
     "output_type": "execute_result"
    }
   ],
   "source": [
    "continuous_Series.values"
   ]
  },
  {
   "cell_type": "code",
   "execution_count": 82,
   "id": "e3a98669",
   "metadata": {},
   "outputs": [],
   "source": [
    "values =   pd.Series(continuous)"
   ]
  },
  {
   "cell_type": "code",
   "execution_count": 84,
   "id": "c70121a3",
   "metadata": {},
   "outputs": [
    {
     "name": "stdout",
     "output_type": "stream",
     "text": [
      "медіана:  3.0\n",
      "мода:  [2]\n",
      "середнє арифметичне:  3.4\n",
      "розмах:  8\n",
      "варіанса 5.628\n",
      "cтандарт 2.372\n",
      "вибіркова дисперсія 9.36\n",
      "варіація:  0.6977472401039393\n",
      "асиметрія:  0.206\n",
      "ексцес:  -1.048\n"
     ]
    }
   ],
   "source": [
    "import math\n",
    "from scipy.stats import moment\n",
    "print(\"медіана: \" , values.median())\n",
    "print(\"мода: \" , values.mode().values)\n",
    "avg = round(values.mean() , 3)\n",
    "print(\"середнє арифметичне: \" , avg)\n",
    "print(\"розмах: \" , values.max() - values.min())\n",
    "variance = round((((values - avg) ** 2).sum()) / (values.count() - 1), 3)\n",
    "print(\"варіанса\" ,variance )\n",
    "print(\"cтандарт\" , round(math.sqrt(variance) , 3) )\n",
    "print(\"вибіркова дисперсія\" , 9.36 ) # зайти на https://allcalc.ru/node/1835 \n",
    "print(\"варіація: \" , math.sqrt(variance) / avg)\n",
    "print(\"асиметрія: \" , round(moment(values, moment=3) / (moment(values, moment=2) ** 1.5) , 3) ) \n",
    "print(\"ексцес: \" , round((moment(values, moment=4) / (moment(values, moment=2) ** 2) -3) , 3) ) \n"
   ]
  },
  {
   "cell_type": "code",
   "execution_count": null,
   "id": "cadcf57a",
   "metadata": {},
   "outputs": [],
   "source": []
  }
 ],
 "metadata": {
  "kernelspec": {
   "display_name": "Python 3",
   "language": "python",
   "name": "python3"
  },
  "language_info": {
   "codemirror_mode": {
    "name": "ipython",
    "version": 3
   },
   "file_extension": ".py",
   "mimetype": "text/x-python",
   "name": "python",
   "nbconvert_exporter": "python",
   "pygments_lexer": "ipython3",
   "version": "3.8.8"
  }
 },
 "nbformat": 4,
 "nbformat_minor": 5
}
