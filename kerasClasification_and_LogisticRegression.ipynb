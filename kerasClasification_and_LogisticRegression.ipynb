{
 "cells": [
  {
   "cell_type": "code",
   "execution_count": 78,
   "id": "1844fec1",
   "metadata": {},
   "outputs": [],
   "source": [
    "import pandas   as pd\n",
    "import numpy as np\n",
    "\n",
    "\n",
    "import seaborn as sns\n",
    "\n",
    "\n",
    "from sklearn.linear_model import LogisticRegression\n",
    "\n",
    "\n",
    "from datetime import datetime\n",
    "\n",
    "\n",
    "from sklearn.metrics import confusion_matrix\n",
    "\n",
    "\n",
    "from keras.layers.core import Dense, Dropout, Activation\n",
    "from keras.models import Sequential\n",
    "\n",
    "from tensorflow.keras.layers import BatchNormalization\n",
    "\n",
    "import tensorflow as tf"
   ]
  },
  {
   "cell_type": "code",
   "execution_count": 79,
   "id": "9be16ccb",
   "metadata": {},
   "outputs": [
    {
     "data": {
      "text/html": [
       "<div>\n",
       "<style scoped>\n",
       "    .dataframe tbody tr th:only-of-type {\n",
       "        vertical-align: middle;\n",
       "    }\n",
       "\n",
       "    .dataframe tbody tr th {\n",
       "        vertical-align: top;\n",
       "    }\n",
       "\n",
       "    .dataframe thead th {\n",
       "        text-align: right;\n",
       "    }\n",
       "</style>\n",
       "<table border=\"1\" class=\"dataframe\">\n",
       "  <thead>\n",
       "    <tr style=\"text-align: right;\">\n",
       "      <th></th>\n",
       "      <th>1</th>\n",
       "      <th>2</th>\n",
       "      <th>3</th>\n",
       "    </tr>\n",
       "  </thead>\n",
       "  <tbody>\n",
       "    <tr>\n",
       "      <th>0</th>\n",
       "      <td>0.782144</td>\n",
       "      <td>-1.390264</td>\n",
       "      <td>1</td>\n",
       "    </tr>\n",
       "    <tr>\n",
       "      <th>1</th>\n",
       "      <td>2.011149</td>\n",
       "      <td>0.180109</td>\n",
       "      <td>0</td>\n",
       "    </tr>\n",
       "    <tr>\n",
       "      <th>2</th>\n",
       "      <td>-0.751355</td>\n",
       "      <td>-2.202281</td>\n",
       "      <td>1</td>\n",
       "    </tr>\n",
       "    <tr>\n",
       "      <th>3</th>\n",
       "      <td>2.034227</td>\n",
       "      <td>-0.333310</td>\n",
       "      <td>0</td>\n",
       "    </tr>\n",
       "    <tr>\n",
       "      <th>4</th>\n",
       "      <td>-0.278259</td>\n",
       "      <td>-0.088506</td>\n",
       "      <td>1</td>\n",
       "    </tr>\n",
       "    <tr>\n",
       "      <th>...</th>\n",
       "      <td>...</td>\n",
       "      <td>...</td>\n",
       "      <td>...</td>\n",
       "    </tr>\n",
       "    <tr>\n",
       "      <th>4995</th>\n",
       "      <td>-0.907344</td>\n",
       "      <td>-0.230688</td>\n",
       "      <td>1</td>\n",
       "    </tr>\n",
       "    <tr>\n",
       "      <th>4996</th>\n",
       "      <td>0.202923</td>\n",
       "      <td>0.264392</td>\n",
       "      <td>1</td>\n",
       "    </tr>\n",
       "    <tr>\n",
       "      <th>4997</th>\n",
       "      <td>-0.134871</td>\n",
       "      <td>0.049293</td>\n",
       "      <td>1</td>\n",
       "    </tr>\n",
       "    <tr>\n",
       "      <th>4998</th>\n",
       "      <td>-0.093209</td>\n",
       "      <td>-0.127762</td>\n",
       "      <td>1</td>\n",
       "    </tr>\n",
       "    <tr>\n",
       "      <th>4999</th>\n",
       "      <td>0.246041</td>\n",
       "      <td>1.764932</td>\n",
       "      <td>0</td>\n",
       "    </tr>\n",
       "  </tbody>\n",
       "</table>\n",
       "<p>5000 rows × 3 columns</p>\n",
       "</div>"
      ],
      "text/plain": [
       "             1         2  3\n",
       "0     0.782144 -1.390264  1\n",
       "1     2.011149  0.180109  0\n",
       "2    -0.751355 -2.202281  1\n",
       "3     2.034227 -0.333310  0\n",
       "4    -0.278259 -0.088506  1\n",
       "...        ...       ... ..\n",
       "4995 -0.907344 -0.230688  1\n",
       "4996  0.202923  0.264392  1\n",
       "4997 -0.134871  0.049293  1\n",
       "4998 -0.093209 -0.127762  1\n",
       "4999  0.246041  1.764932  0\n",
       "\n",
       "[5000 rows x 3 columns]"
      ]
     },
     "execution_count": 79,
     "metadata": {},
     "output_type": "execute_result"
    }
   ],
   "source": [
    "\n",
    "\n",
    "all_data = pd.read_csv('v02_strong-overlapping2D.txt' , sep = \";\" , names = [\"1\", \"2\" , \"3\" ])\n",
    "all_data"
   ]
  },
  {
   "cell_type": "code",
   "execution_count": 80,
   "id": "f90c1a74",
   "metadata": {},
   "outputs": [],
   "source": [
    "all_count = all_data.shape[0]\n"
   ]
  },
  {
   "cell_type": "code",
   "execution_count": 81,
   "id": "d58d063e",
   "metadata": {},
   "outputs": [
    {
     "name": "stdout",
     "output_type": "stream",
     "text": [
      "                 1            2       3\n",
      "count  5000.000000  5000.000000  5000.0\n",
      "min      -3.291859    -3.639928     0.0\n",
      "max       3.480585     4.756910     1.0\n",
      "mean      0.492378     0.522445     0.5\n"
     ]
    }
   ],
   "source": [
    "\n",
    "print(all_data.describe().loc[[\"count\" , \"min\" , \"max\" , \"mean\"]])"
   ]
  },
  {
   "cell_type": "code",
   "execution_count": 82,
   "id": "69961639",
   "metadata": {},
   "outputs": [
    {
     "name": "stdout",
     "output_type": "stream",
     "text": [
      "<seaborn.axisgrid.PairGrid object at 0x000001C367469550>\n"
     ]
    },
    {
     "data": {
      "image/png": "[encoded data removed]",
      "text/plain": [
       "<Figure size 402.375x360 with 6 Axes>"
      ]
     },
     "metadata": {
      "needs_background": "light"
     },
     "output_type": "display_data"
    }
   ],
   "source": [
    "\n",
    "\n",
    "print(sns.pairplot(all_data ,  hue=\"3\"))"
   ]
  },
  {
   "cell_type": "code",
   "execution_count": 83,
   "id": "8a6a82a3",
   "metadata": {},
   "outputs": [
    {
     "data": {
      "text/html": [
       "<div>\n",
       "<style scoped>\n",
       "    .dataframe tbody tr th:only-of-type {\n",
       "        vertical-align: middle;\n",
       "    }\n",
       "\n",
       "    .dataframe tbody tr th {\n",
       "        vertical-align: top;\n",
       "    }\n",
       "\n",
       "    .dataframe thead th {\n",
       "        text-align: right;\n",
       "    }\n",
       "</style>\n",
       "<table border=\"1\" class=\"dataframe\">\n",
       "  <thead>\n",
       "    <tr style=\"text-align: right;\">\n",
       "      <th></th>\n",
       "      <th>1</th>\n",
       "      <th>2</th>\n",
       "      <th>3</th>\n",
       "    </tr>\n",
       "  </thead>\n",
       "  <tbody>\n",
       "    <tr>\n",
       "      <th>4000</th>\n",
       "      <td>0.796343</td>\n",
       "      <td>0.438416</td>\n",
       "      <td>1</td>\n",
       "    </tr>\n",
       "    <tr>\n",
       "      <th>4001</th>\n",
       "      <td>-0.142553</td>\n",
       "      <td>-0.307782</td>\n",
       "      <td>0</td>\n",
       "    </tr>\n",
       "    <tr>\n",
       "      <th>4002</th>\n",
       "      <td>1.736196</td>\n",
       "      <td>0.787537</td>\n",
       "      <td>0</td>\n",
       "    </tr>\n",
       "    <tr>\n",
       "      <th>4003</th>\n",
       "      <td>-0.000388</td>\n",
       "      <td>-0.061937</td>\n",
       "      <td>0</td>\n",
       "    </tr>\n",
       "    <tr>\n",
       "      <th>4004</th>\n",
       "      <td>1.176587</td>\n",
       "      <td>1.176018</td>\n",
       "      <td>1</td>\n",
       "    </tr>\n",
       "    <tr>\n",
       "      <th>...</th>\n",
       "      <td>...</td>\n",
       "      <td>...</td>\n",
       "      <td>...</td>\n",
       "    </tr>\n",
       "    <tr>\n",
       "      <th>4995</th>\n",
       "      <td>-0.907344</td>\n",
       "      <td>-0.230688</td>\n",
       "      <td>1</td>\n",
       "    </tr>\n",
       "    <tr>\n",
       "      <th>4996</th>\n",
       "      <td>0.202923</td>\n",
       "      <td>0.264392</td>\n",
       "      <td>1</td>\n",
       "    </tr>\n",
       "    <tr>\n",
       "      <th>4997</th>\n",
       "      <td>-0.134871</td>\n",
       "      <td>0.049293</td>\n",
       "      <td>1</td>\n",
       "    </tr>\n",
       "    <tr>\n",
       "      <th>4998</th>\n",
       "      <td>-0.093209</td>\n",
       "      <td>-0.127762</td>\n",
       "      <td>1</td>\n",
       "    </tr>\n",
       "    <tr>\n",
       "      <th>4999</th>\n",
       "      <td>0.246041</td>\n",
       "      <td>1.764932</td>\n",
       "      <td>0</td>\n",
       "    </tr>\n",
       "  </tbody>\n",
       "</table>\n",
       "<p>1000 rows × 3 columns</p>\n",
       "</div>"
      ],
      "text/plain": [
       "             1         2  3\n",
       "4000  0.796343  0.438416  1\n",
       "4001 -0.142553 -0.307782  0\n",
       "4002  1.736196  0.787537  0\n",
       "4003 -0.000388 -0.061937  0\n",
       "4004  1.176587  1.176018  1\n",
       "...        ...       ... ..\n",
       "4995 -0.907344 -0.230688  1\n",
       "4996  0.202923  0.264392  1\n",
       "4997 -0.134871  0.049293  1\n",
       "4998 -0.093209 -0.127762  1\n",
       "4999  0.246041  1.764932  0\n",
       "\n",
       "[1000 rows x 3 columns]"
      ]
     },
     "execution_count": 83,
     "metadata": {},
     "output_type": "execute_result"
    }
   ],
   "source": [
    "\n",
    "train_count = int(np.round(all_count * 0.8))\n",
    "\n",
    "\n",
    "all_train = all_data.iloc[:train_count]\n",
    "all_test =  all_data.iloc[train_count:]\n",
    "all_test"
   ]
  },
  {
   "cell_type": "code",
   "execution_count": 84,
   "id": "9c651462",
   "metadata": {},
   "outputs": [],
   "source": [
    "X_train = all_train[[\"1\" , \"2\"]]\n",
    "y_train = all_train[\"3\"]\n",
    "X_test = all_test[[\"1\" , \"2\"]]\n",
    "y_test = all_test[\"3\"]\n"
   ]
  },
  {
   "cell_type": "code",
   "execution_count": 85,
   "id": "30f7d35f",
   "metadata": {},
   "outputs": [
    {
     "data": {
      "text/plain": [
       "0    2013\n",
       "1    1987\n",
       "Name: 3, dtype: int64"
      ]
     },
     "execution_count": 85,
     "metadata": {},
     "output_type": "execute_result"
    }
   ],
   "source": [
    "all_train[\"3\"].value_counts()\n"
   ]
  },
  {
   "cell_type": "code",
   "execution_count": null,
   "id": "6d6e69d2",
   "metadata": {},
   "outputs": [],
   "source": []
  },
  {
   "cell_type": "code",
   "execution_count": 86,
   "id": "40a176df",
   "metadata": {},
   "outputs": [
    {
     "name": "stdout",
     "output_type": "stream",
     "text": [
      "Час навчання: 0:00:00.015600\n"
     ]
    }
   ],
   "source": [
    "\n",
    "clf = LogisticRegression(random_state=0)\n",
    "\n",
    "start_time = datetime.now()\n",
    "clf.fit(X_train, y_train)\n",
    "end_time = datetime.now()\n",
    "\n",
    "print(\"Час навчання:\" , end_time - start_time)\n"
   ]
  },
  {
   "cell_type": "code",
   "execution_count": 87,
   "id": "2d9b86d4",
   "metadata": {},
   "outputs": [
    {
     "name": "stdout",
     "output_type": "stream",
     "text": [
      "Час тестування: 0:00:00.015626\n"
     ]
    }
   ],
   "source": [
    "\n",
    "\n",
    "start_time = datetime.now()\n",
    "clf.score(X_test, y_test)\n",
    "end_time = datetime.now()\n",
    "\n",
    "print(\"Час тестування:\" , end_time - start_time)"
   ]
  },
  {
   "cell_type": "code",
   "execution_count": 88,
   "id": "6b797d67",
   "metadata": {},
   "outputs": [
    {
     "name": "stdout",
     "output_type": "stream",
     "text": [
      "0.752\n"
     ]
    }
   ],
   "source": [
    "\n",
    "\n",
    "print(clf.score(X_test, y_test))"
   ]
  },
  {
   "cell_type": "code",
   "execution_count": 89,
   "id": "cf49e161",
   "metadata": {},
   "outputs": [
    {
     "name": "stdout",
     "output_type": "stream",
     "text": [
      "[[348 139]\n",
      " [109 404]]\n"
     ]
    }
   ],
   "source": [
    "y_pred = pd.Series(clf.predict(X_test))\n",
    "\n",
    "print(confusion_matrix(y_test, y_pred))"
   ]
  },
  {
   "cell_type": "code",
   "execution_count": 90,
   "id": "cc09ad90",
   "metadata": {},
   "outputs": [
    {
     "data": {
      "text/plain": [
       "2"
      ]
     },
     "execution_count": 90,
     "metadata": {},
     "output_type": "execute_result"
    }
   ],
   "source": [
    "y_count_categories = len(y_train.unique())\n",
    "y_count_categories"
   ]
  },
  {
   "cell_type": "code",
   "execution_count": null,
   "id": "4cd84e6a",
   "metadata": {},
   "outputs": [],
   "source": []
  },
  {
   "cell_type": "code",
   "execution_count": 99,
   "id": "d51fc0f7",
   "metadata": {},
   "outputs": [
    {
     "name": "stdout",
     "output_type": "stream",
     "text": [
      "Model: \"sequential_6\"\n",
      "_________________________________________________________________\n",
      " Layer (type)                Output Shape              Param #   \n",
      "=================================================================\n",
      " dense_17 (Dense)            (None, 40)                120       \n",
      "                                                                 \n",
      " activation_12 (Activation)  (None, 40)                0         \n",
      "                                                                 \n",
      " dense_18 (Dense)            (None, 50)                2050      \n",
      "                                                                 \n",
      " activation_13 (Activation)  (None, 50)                0         \n",
      "                                                                 \n",
      " dense_19 (Dense)            (None, 2)                 102       \n",
      "                                                                 \n",
      "=================================================================\n",
      "Total params: 2,272\n",
      "Trainable params: 2,272\n",
      "Non-trainable params: 0\n",
      "_________________________________________________________________\n"
     ]
    }
   ],
   "source": [
    "\n",
    "model = Sequential()\n",
    "\n",
    "\n",
    "model.add(Dense(40, input_shape=(X_train.shape[1],)))\n",
    "\n",
    "\n",
    "model.add(Activation('relu'))\n",
    "\n",
    "model.add(Dense(50))\n",
    "model.add(Activation('relu'))\n",
    "\n",
    "\n",
    "model.add(tf.keras.layers.Dense(y_count_categories, activation = 'softmax'))\n",
    "model.summary()"
   ]
  },
  {
   "cell_type": "code",
   "execution_count": 100,
   "id": "875c509e",
   "metadata": {},
   "outputs": [
    {
     "name": "stdout",
     "output_type": "stream",
     "text": [
      "Epoch 1/50\n",
      "300/300 [==============================] - 2s 4ms/step - loss: 0.5238 - accuracy: 0.6950 - val_loss: 0.4672 - val_accuracy: 0.7271\n",
      "Epoch 2/50\n",
      "300/300 [==============================] - 1s 4ms/step - loss: 0.4635 - accuracy: 0.7108 - val_loss: 0.4475 - val_accuracy: 0.7557\n",
      "Epoch 3/50\n",
      "300/300 [==============================] - 1s 4ms/step - loss: 0.4303 - accuracy: 0.7625 - val_loss: 0.4182 - val_accuracy: 0.7950\n",
      "Epoch 4/50\n",
      "300/300 [==============================] - 1s 4ms/step - loss: 0.4086 - accuracy: 0.8067 - val_loss: 0.3976 - val_accuracy: 0.8411\n",
      "Epoch 5/50\n",
      "300/300 [==============================] - 1s 4ms/step - loss: 0.3894 - accuracy: 0.8375 - val_loss: 0.3837 - val_accuracy: 0.8607\n",
      "Epoch 6/50\n",
      "300/300 [==============================] - 1s 5ms/step - loss: 0.3733 - accuracy: 0.8475 - val_loss: 0.3744 - val_accuracy: 0.8600\n",
      "Epoch 7/50\n",
      "300/300 [==============================] - 1s 4ms/step - loss: 0.3585 - accuracy: 0.8517 - val_loss: 0.3513 - val_accuracy: 0.8750\n",
      "Epoch 8/50\n",
      "300/300 [==============================] - 1s 4ms/step - loss: 0.3453 - accuracy: 0.8642 - val_loss: 0.3555 - val_accuracy: 0.8761\n",
      "Epoch 9/50\n",
      "300/300 [==============================] - 1s 5ms/step - loss: 0.3251 - accuracy: 0.8817 - val_loss: 0.3650 - val_accuracy: 0.8739\n",
      "Epoch 10/50\n",
      "300/300 [==============================] - 1s 4ms/step - loss: 0.3317 - accuracy: 0.8700 - val_loss: 0.3524 - val_accuracy: 0.8771\n",
      "Epoch 11/50\n",
      "300/300 [==============================] - 1s 4ms/step - loss: 0.3260 - accuracy: 0.8725 - val_loss: 0.3543 - val_accuracy: 0.8757\n",
      "Epoch 12/50\n",
      "300/300 [==============================] - 1s 5ms/step - loss: 0.3206 - accuracy: 0.8758 - val_loss: 0.3629 - val_accuracy: 0.8779\n",
      "Epoch 13/50\n",
      "300/300 [==============================] - 1s 4ms/step - loss: 0.3228 - accuracy: 0.8750 - val_loss: 0.3647 - val_accuracy: 0.8804\n",
      "Epoch 14/50\n",
      "300/300 [==============================] - 2s 5ms/step - loss: 0.3228 - accuracy: 0.8825 - val_loss: 0.3396 - val_accuracy: 0.8875\n",
      "Epoch 15/50\n",
      "300/300 [==============================] - 1s 4ms/step - loss: 0.3244 - accuracy: 0.8783 - val_loss: 0.3372 - val_accuracy: 0.8843\n",
      "Epoch 16/50\n",
      "300/300 [==============================] - 1s 5ms/step - loss: 0.3180 - accuracy: 0.8800 - val_loss: 0.3465 - val_accuracy: 0.8857\n",
      "Epoch 17/50\n",
      "300/300 [==============================] - 2s 7ms/step - loss: 0.3191 - accuracy: 0.8758 - val_loss: 0.3365 - val_accuracy: 0.8843\n",
      "Epoch 18/50\n",
      "300/300 [==============================] - 1s 5ms/step - loss: 0.3150 - accuracy: 0.8733 - val_loss: 0.3406 - val_accuracy: 0.8814\n",
      "Epoch 19/50\n",
      "300/300 [==============================] - 1s 4ms/step - loss: 0.3136 - accuracy: 0.8775 - val_loss: 0.3572 - val_accuracy: 0.8804\n",
      "Epoch 20/50\n",
      "300/300 [==============================] - 1s 5ms/step - loss: 0.3214 - accuracy: 0.8792 - val_loss: 0.3374 - val_accuracy: 0.8839\n",
      "Epoch 21/50\n",
      "300/300 [==============================] - 1s 4ms/step - loss: 0.3113 - accuracy: 0.8792 - val_loss: 0.3567 - val_accuracy: 0.8846\n",
      "Epoch 22/50\n",
      "300/300 [==============================] - 1s 4ms/step - loss: 0.3173 - accuracy: 0.8767 - val_loss: 0.3384 - val_accuracy: 0.8864\n",
      "Epoch 23/50\n",
      "300/300 [==============================] - 1s 5ms/step - loss: 0.3157 - accuracy: 0.8808 - val_loss: 0.3493 - val_accuracy: 0.8879\n",
      "Epoch 24/50\n",
      "300/300 [==============================] - 2s 5ms/step - loss: 0.3174 - accuracy: 0.8817 - val_loss: 0.3567 - val_accuracy: 0.8882\n",
      "Epoch 25/50\n",
      "300/300 [==============================] - 1s 4ms/step - loss: 0.3113 - accuracy: 0.8800 - val_loss: 0.3543 - val_accuracy: 0.8818\n",
      "Epoch 26/50\n",
      "300/300 [==============================] - 1s 5ms/step - loss: 0.3160 - accuracy: 0.8842 - val_loss: 0.3720 - val_accuracy: 0.8618\n",
      "Epoch 27/50\n",
      "300/300 [==============================] - 1s 4ms/step - loss: 0.3174 - accuracy: 0.8800 - val_loss: 0.3444 - val_accuracy: 0.8843\n",
      "Epoch 28/50\n",
      "300/300 [==============================] - 1s 4ms/step - loss: 0.3129 - accuracy: 0.8825 - val_loss: 0.3432 - val_accuracy: 0.8836\n",
      "Epoch 29/50\n",
      "300/300 [==============================] - 1s 4ms/step - loss: 0.3124 - accuracy: 0.8808 - val_loss: 0.3547 - val_accuracy: 0.8861\n",
      "Epoch 30/50\n",
      "300/300 [==============================] - 1s 4ms/step - loss: 0.3160 - accuracy: 0.8750 - val_loss: 0.3420 - val_accuracy: 0.8875\n",
      "Epoch 31/50\n",
      "300/300 [==============================] - 1s 4ms/step - loss: 0.3158 - accuracy: 0.8858 - val_loss: 0.3340 - val_accuracy: 0.8889\n",
      "Epoch 32/50\n",
      "300/300 [==============================] - 1s 4ms/step - loss: 0.3161 - accuracy: 0.8842 - val_loss: 0.3425 - val_accuracy: 0.8886\n",
      "Epoch 33/50\n",
      "300/300 [==============================] - 1s 4ms/step - loss: 0.3108 - accuracy: 0.8792 - val_loss: 0.3481 - val_accuracy: 0.8857\n",
      "Epoch 34/50\n",
      "300/300 [==============================] - 1s 4ms/step - loss: 0.3122 - accuracy: 0.8858 - val_loss: 0.3513 - val_accuracy: 0.8843\n",
      "Epoch 35/50\n",
      "300/300 [==============================] - 1s 4ms/step - loss: 0.3127 - accuracy: 0.8742 - val_loss: 0.3317 - val_accuracy: 0.8871\n",
      "Epoch 36/50\n",
      "300/300 [==============================] - 2s 7ms/step - loss: 0.3085 - accuracy: 0.8892 - val_loss: 0.3703 - val_accuracy: 0.8671\n",
      "Epoch 37/50\n",
      "300/300 [==============================] - 2s 7ms/step - loss: 0.3151 - accuracy: 0.8850 - val_loss: 0.3546 - val_accuracy: 0.8861\n",
      "Epoch 38/50\n",
      "300/300 [==============================] - 2s 6ms/step - loss: 0.3117 - accuracy: 0.8858 - val_loss: 0.3373 - val_accuracy: 0.8889\n",
      "Epoch 39/50\n",
      "300/300 [==============================] - 2s 6ms/step - loss: 0.3158 - accuracy: 0.8817 - val_loss: 0.3380 - val_accuracy: 0.8857\n",
      "Epoch 40/50\n",
      "300/300 [==============================] - 2s 7ms/step - loss: 0.3102 - accuracy: 0.8767 - val_loss: 0.3619 - val_accuracy: 0.8704\n",
      "Epoch 41/50\n",
      "300/300 [==============================] - 2s 7ms/step - loss: 0.3074 - accuracy: 0.8825 - val_loss: 0.3438 - val_accuracy: 0.8868\n",
      "Epoch 42/50\n",
      "300/300 [==============================] - 2s 6ms/step - loss: 0.3089 - accuracy: 0.8800 - val_loss: 0.3524 - val_accuracy: 0.8843\n",
      "Epoch 43/50\n",
      "300/300 [==============================] - 1s 5ms/step - loss: 0.3154 - accuracy: 0.8850 - val_loss: 0.3326 - val_accuracy: 0.8850\n",
      "Epoch 44/50\n",
      "300/300 [==============================] - 1s 5ms/step - loss: 0.3097 - accuracy: 0.8825 - val_loss: 0.3505 - val_accuracy: 0.8843\n",
      "Epoch 45/50\n",
      "300/300 [==============================] - 1s 4ms/step - loss: 0.3058 - accuracy: 0.8783 - val_loss: 0.3417 - val_accuracy: 0.8864\n",
      "Epoch 46/50\n",
      "300/300 [==============================] - 1s 4ms/step - loss: 0.3088 - accuracy: 0.8833 - val_loss: 0.3361 - val_accuracy: 0.8900\n",
      "Epoch 47/50\n",
      "300/300 [==============================] - 1s 4ms/step - loss: 0.3105 - accuracy: 0.8817 - val_loss: 0.3491 - val_accuracy: 0.8821\n",
      "Epoch 48/50\n",
      "300/300 [==============================] - 1s 4ms/step - loss: 0.3099 - accuracy: 0.8817 - val_loss: 0.3377 - val_accuracy: 0.8871\n",
      "Epoch 49/50\n",
      "300/300 [==============================] - 1s 4ms/step - loss: 0.3097 - accuracy: 0.8842 - val_loss: 0.3454 - val_accuracy: 0.8761\n",
      "Epoch 50/50\n",
      "300/300 [==============================] - 1s 4ms/step - loss: 0.3074 - accuracy: 0.8842 - val_loss: 0.3574 - val_accuracy: 0.8736\n",
      "Час навчання:(keras) 0:01:10.988110\n"
     ]
    }
   ],
   "source": [
    "model.compile(optimizer= tf.keras.optimizers.RMSprop(), loss='sparse_categorical_crossentropy', metrics=['accuracy'])\n",
    "\n",
    "start_time = datetime.now()\n",
    "\n",
    "history = model.fit(X_train, y_train,  batch_size=4, epochs=50, verbose=1, validation_split=0.7)\n",
    "end_time = datetime.now()\n",
    "print(\"Час навчання:(keras)\" , end_time - start_time)\n"
   ]
  },
  {
   "cell_type": "code",
   "execution_count": 101,
   "id": "7ab49de0",
   "metadata": {},
   "outputs": [
    {
     "name": "stdout",
     "output_type": "stream",
     "text": [
      "32/32 [==============================] - 0s 3ms/step - loss: 0.3496 - accuracy: 0.8660\n",
      "Час тестування:(keras) 0:00:00.271391\n",
      "\n",
      "Точність на тесті: 0.8659999966621399\n"
     ]
    }
   ],
   "source": [
    "start_time = datetime.now()\n",
    "test_loss, test_acc = model.evaluate(X_test, y_test, verbose=1)\n",
    "end_time = datetime.now()\n",
    "print(\"Час тестування:(keras)\" , end_time - start_time)\n",
    "\n",
    "print('\\nТочність на тесті:', test_acc)\n",
    "\n"
   ]
  },
  {
   "cell_type": "code",
   "execution_count": 102,
   "id": "b4ee087f",
   "metadata": {},
   "outputs": [
    {
     "name": "stdout",
     "output_type": "stream",
     "text": [
      "32/32 [==============================] - 0s 2ms/step\n"
     ]
    }
   ],
   "source": [
    "y_pred_keras = model.predict(X_test)\n",
    "y_pred_keras_needed_col= np.round(y_pred_keras[: , 1])"
   ]
  },
  {
   "cell_type": "code",
   "execution_count": 103,
   "id": "33d1a8ca",
   "metadata": {},
   "outputs": [
    {
     "name": "stdout",
     "output_type": "stream",
     "text": [
      "[[414  73]\n",
      " [ 61 452]]\n"
     ]
    }
   ],
   "source": [
    "# матриця помилок\n",
    "\n",
    "\n",
    "print(confusion_matrix(y_test, y_pred_keras_needed_col))"
   ]
  },
  {
   "cell_type": "code",
   "execution_count": null,
   "id": "d1f7ae83",
   "metadata": {},
   "outputs": [],
   "source": []
  }
 ],
 "metadata": {
  "kernelspec": {
   "display_name": "Python 3",
   "language": "python",
   "name": "python3"
  },
  "language_info": {
   "codemirror_mode": {
    "name": "ipython",
    "version": 3
   },
   "file_extension": ".py",
   "mimetype": "text/x-python",
   "name": "python",
   "nbconvert_exporter": "python",
   "pygments_lexer": "ipython3",
   "version": "3.8.8"
  }
 },
 "nbformat": 4,
 "nbformat_minor": 5
}
